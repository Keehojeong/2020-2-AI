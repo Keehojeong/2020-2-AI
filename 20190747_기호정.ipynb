{
  "nbformat": 4,
  "nbformat_minor": 0,
  "metadata": {
    "colab": {
      "name": "20190747-기호정.ipynb",
      "provenance": [],
      "collapsed_sections": [],
      "authorship_tag": "ABX9TyOy1ljjxluymfKBikb1VKFx",
      "include_colab_link": true
    },
    "kernelspec": {
      "name": "python3",
      "display_name": "Python 3"
    }
  },
  "cells": [
    {
      "cell_type": "markdown",
      "metadata": {
        "id": "view-in-github",
        "colab_type": "text"
      },
      "source": [
        "<a href=\"https://colab.research.google.com/github/Keehojeong/2020-2-AI/blob/master/20190747_%EA%B8%B0%ED%98%B8%EC%A0%95.ipynb\" target=\"_parent\"><img src=\"https://colab.research.google.com/assets/colab-badge.svg\" alt=\"Open In Colab\"/></a>"
      ]
    },
    {
      "cell_type": "markdown",
      "metadata": {
        "id": "GS1kXBNxbY3Z"
      },
      "source": [
        "### ✔개요"
      ]
    },
    {
      "cell_type": "markdown",
      "metadata": {
        "id": "yQWB8VUebVMe"
      },
      "source": [
        "### 👨‍👧‍👦 학번이름\r\n",
        "동양미래대학교 컴퓨터정보공학과\r\n",
        "20190747 기호정"
      ]
    },
    {
      "cell_type": "markdown",
      "metadata": {
        "id": "S7S2b3y2bIvj"
      },
      "source": [
        "# 1.회귀 문제: 주가 예측하기\r\n",
        "\r\n"
      ]
    },
    {
      "cell_type": "markdown",
      "metadata": {
        "id": "g1-9HYtPqAdP"
      },
      "source": [
        "### ✔딥러닝 목적"
      ]
    },
    {
      "cell_type": "markdown",
      "metadata": {
        "id": "r8AbnSMfqCwA"
      },
      "source": [
        "이 프로젝트는 10년간의 kakao 데이터셋을 사용하여 주식을 예측합니다.\r\n",
        "5062개의 데이터를 가지고 있으며, 50일치 데이터를 가지고 51일째 데이터를 예측합니다."
      ]
    },
    {
      "cell_type": "code",
      "metadata": {
        "id": "BsDrqnihbOUd"
      },
      "source": [
        "# 필요한 라이브러리 가져오기\r\n",
        "import pandas as pd\r\n",
        "import numpy as np\r\n",
        "from tensorflow.keras.models import Sequential\r\n",
        "from tensorflow.keras.layers import LSTM, Dropout, Dense, Activation\r\n",
        "from pandas.io.parsers import read_csv"
      ],
      "execution_count": 127,
      "outputs": []
    },
    {
      "cell_type": "markdown",
      "metadata": {
        "id": "WTDlrEEu9EVe"
      },
      "source": [
        "### ✔데이터 읽어오기 "
      ]
    },
    {
      "cell_type": "markdown",
      "metadata": {
        "id": "PSoPudfzqF5i"
      },
      "source": [
        "kakao 데이터셋 다운로드\r\n",
        "\r\n",
        "먼저, finance.yahoo.com/에 들어가 데이터셋을 다운로드한 후, 아래 코드를 입력하여 CSV 파일을 읽습니다."
      ]
    },
    {
      "cell_type": "code",
      "metadata": {
        "colab": {
          "resources": {
            "http://localhost:8080/nbextensions/google.colab/files.js": {
              "data": "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",
              "ok": true,
              "headers": [
                [
                  "content-type",
                  "application/javascript"
                ]
              ],
              "status": 200,
              "status_text": ""
            }
          },
          "base_uri": "https://localhost:8080/",
          "height": 76
        },
        "id": "cX8oWNOxMHr-",
        "outputId": "2d8f1e13-340b-4563-af29-d9875ee65a10"
      },
      "source": [
        "# 파일 업로드\r\n",
        "from google.colab import files\r\n",
        "uploaded = files.upload()"
      ],
      "execution_count": 128,
      "outputs": [
        {
          "output_type": "display_data",
          "data": {
            "text/html": [
              "\n",
              "     <input type=\"file\" id=\"files-4d6e2c82-ea40-40ac-b38a-7c7588d0c410\" name=\"files[]\" multiple disabled\n",
              "        style=\"border:none\" />\n",
              "     <output id=\"result-4d6e2c82-ea40-40ac-b38a-7c7588d0c410\">\n",
              "      Upload widget is only available when the cell has been executed in the\n",
              "      current browser session. Please rerun this cell to enable.\n",
              "      </output>\n",
              "      <script src=\"/nbextensions/google.colab/files.js\"></script> "
            ],
            "text/plain": [
              "<IPython.core.display.HTML object>"
            ]
          },
          "metadata": {
            "tags": []
          }
        },
        {
          "output_type": "stream",
          "text": [
            "Saving kakao_max.csv to kakao_max (4).csv\n"
          ],
          "name": "stdout"
        }
      ]
    },
    {
      "cell_type": "code",
      "metadata": {
        "id": "5dPikmufMMLH"
      },
      "source": [
        "# CSV 파일 읽기\r\n",
        "data = pd.read_csv('kakao_max.csv')"
      ],
      "execution_count": 99,
      "outputs": []
    },
    {
      "cell_type": "code",
      "metadata": {
        "colab": {
          "base_uri": "https://localhost:8080/",
          "height": 195
        },
        "id": "9SI7jmATMNcO",
        "outputId": "7ecd214a-3b22-49c9-c748-371f3299028c"
      },
      "source": [
        "# 데이터 확인\r\n",
        "data.head()"
      ],
      "execution_count": 100,
      "outputs": [
        {
          "output_type": "execute_result",
          "data": {
            "text/html": [
              "<div>\n",
              "<style scoped>\n",
              "    .dataframe tbody tr th:only-of-type {\n",
              "        vertical-align: middle;\n",
              "    }\n",
              "\n",
              "    .dataframe tbody tr th {\n",
              "        vertical-align: top;\n",
              "    }\n",
              "\n",
              "    .dataframe thead th {\n",
              "        text-align: right;\n",
              "    }\n",
              "</style>\n",
              "<table border=\"1\" class=\"dataframe\">\n",
              "  <thead>\n",
              "    <tr style=\"text-align: right;\">\n",
              "      <th></th>\n",
              "      <th>Date</th>\n",
              "      <th>Open</th>\n",
              "      <th>High</th>\n",
              "      <th>Low</th>\n",
              "      <th>Close</th>\n",
              "      <th>Adj Close</th>\n",
              "      <th>Volume</th>\n",
              "    </tr>\n",
              "  </thead>\n",
              "  <tbody>\n",
              "    <tr>\n",
              "      <th>0</th>\n",
              "      <td>2000-02-11</td>\n",
              "      <td>273000.0</td>\n",
              "      <td>273000.0</td>\n",
              "      <td>273000.0</td>\n",
              "      <td>273000.0</td>\n",
              "      <td>258278.734375</td>\n",
              "      <td>55300.0</td>\n",
              "    </tr>\n",
              "    <tr>\n",
              "      <th>1</th>\n",
              "      <td>2000-02-14</td>\n",
              "      <td>264000.0</td>\n",
              "      <td>298000.0</td>\n",
              "      <td>240500.0</td>\n",
              "      <td>247000.0</td>\n",
              "      <td>233680.750000</td>\n",
              "      <td>1254100.0</td>\n",
              "    </tr>\n",
              "    <tr>\n",
              "      <th>2</th>\n",
              "      <td>2000-02-15</td>\n",
              "      <td>250000.0</td>\n",
              "      <td>259000.0</td>\n",
              "      <td>217500.0</td>\n",
              "      <td>217500.0</td>\n",
              "      <td>205771.531250</td>\n",
              "      <td>648600.0</td>\n",
              "    </tr>\n",
              "    <tr>\n",
              "      <th>3</th>\n",
              "      <td>2000-02-16</td>\n",
              "      <td>210000.0</td>\n",
              "      <td>243500.0</td>\n",
              "      <td>200000.0</td>\n",
              "      <td>243500.0</td>\n",
              "      <td>230369.500000</td>\n",
              "      <td>871400.0</td>\n",
              "    </tr>\n",
              "    <tr>\n",
              "      <th>4</th>\n",
              "      <td>2000-02-17</td>\n",
              "      <td>246000.0</td>\n",
              "      <td>267500.0</td>\n",
              "      <td>235000.0</td>\n",
              "      <td>243500.0</td>\n",
              "      <td>230369.500000</td>\n",
              "      <td>1019800.0</td>\n",
              "    </tr>\n",
              "  </tbody>\n",
              "</table>\n",
              "</div>"
            ],
            "text/plain": [
              "         Date      Open      High       Low     Close      Adj Close     Volume\n",
              "0  2000-02-11  273000.0  273000.0  273000.0  273000.0  258278.734375    55300.0\n",
              "1  2000-02-14  264000.0  298000.0  240500.0  247000.0  233680.750000  1254100.0\n",
              "2  2000-02-15  250000.0  259000.0  217500.0  217500.0  205771.531250   648600.0\n",
              "3  2000-02-16  210000.0  243500.0  200000.0  243500.0  230369.500000   871400.0\n",
              "4  2000-02-17  246000.0  267500.0  235000.0  243500.0  230369.500000  1019800.0"
            ]
          },
          "metadata": {
            "tags": []
          },
          "execution_count": 100
        }
      ]
    },
    {
      "cell_type": "markdown",
      "metadata": {
        "id": "lGRi_0EsnVK4"
      },
      "source": [
        "Null값을 제거하지 않으면 model 훈련 중 에러를 유발할 수 있기 때문에 dropna()를 사용하여 Null값을 제거해줍니다."
      ]
    },
    {
      "cell_type": "code",
      "metadata": {
        "id": "IpRfzS_vMRit"
      },
      "source": [
        "# 데이터 중 Null 값 제거하기\r\n",
        "data = data.dropna(axis=0)"
      ],
      "execution_count": 129,
      "outputs": []
    },
    {
      "cell_type": "code",
      "metadata": {
        "id": "xNZ1fcp4L_KT"
      },
      "source": [
        "# 고가와 저가의 중간값으로 mid price 구하기\r\n",
        "high_price = data['High'].values\r\n",
        "low_price = data['Low'].values\r\n",
        "mid_price = (high_price + low_price) / 2"
      ],
      "execution_count": 130,
      "outputs": []
    },
    {
      "cell_type": "markdown",
      "metadata": {
        "id": "lxPfJ3WW-xYE"
      },
      "source": [
        "### ✔데이터 분리하기\r\n"
      ]
    },
    {
      "cell_type": "markdown",
      "metadata": {
        "id": "e2kaRI00qQRm"
      },
      "source": [
        " 50일 치 데이터를 가지고 51일째 되는 날의 주가를 예측하려고 하기 때문에 50일씩 나누어 분리했습니다.\r\n",
        "\r\n",
        "아래 코드로 한 번 확인해보겠습니다."
      ]
    },
    {
      "cell_type": "code",
      "metadata": {
        "id": "Mxjut5JMMELD"
      },
      "source": [
        "# 50일씩 나누어 분리\r\n",
        "day_divided = 50\r\n",
        "day_length = day_divided + 1\r\n",
        "day_result = []\r\n",
        "for i in range(len(mid_price) - day_length):\r\n",
        "    day_result.append(mid_price[i: i + day_length])"
      ],
      "execution_count": 131,
      "outputs": []
    },
    {
      "cell_type": "code",
      "metadata": {
        "id": "zDtRowLqndxi",
        "colab": {
          "base_uri": "https://localhost:8080/"
        },
        "outputId": "071ba6bc-f389-44db-f8ea-250c83d90816"
      },
      "source": [
        "# 분리된 데이터 확인\r\n",
        "print(\"전체 데이터 Length : \", len(data))\r\n",
        "print(\"나눈 데이터 Length : \", len(day_result))\r\n",
        "print(\"나눈 데이터 0번째 : \")\r\n",
        "print(day_result[0])\r\n",
        "print(day_result[1])"
      ],
      "execution_count": 104,
      "outputs": [
        {
          "output_type": "stream",
          "text": [
            "전체 데이터 Length :  5062\n",
            "나눈 데이터 Length :  5011\n",
            "나눈 데이터 0번째 : \n",
            "[273000. 269250. 238250. 221750. 251250. 240750. 214750. 206500. 182750.\n",
            " 195750. 209750. 194250. 186750. 184000. 184000. 161500. 154750. 147000.\n",
            " 157000. 167000. 182500. 168000. 148000. 144000. 148500. 137250. 119500.\n",
            " 109000. 118000. 114500. 110500. 112250. 116750. 108000. 103000. 112000.\n",
            "  99600.  89550.  87800.  91900.  95950. 108750. 108250.  97000.  97000.\n",
            "  88700.  75200.  74550.  70500.  64150.  65850.]\n",
            "[269250. 238250. 221750. 251250. 240750. 214750. 206500. 182750. 195750.\n",
            " 209750. 194250. 186750. 184000. 184000. 161500. 154750. 147000. 157000.\n",
            " 167000. 182500. 168000. 148000. 144000. 148500. 137250. 119500. 109000.\n",
            " 118000. 114500. 110500. 112250. 116750. 108000. 103000. 112000.  99600.\n",
            "  89550.  87800.  91900.  95950. 108750. 108250.  97000.  97000.  88700.\n",
            "  75200.  74550.  70500.  64150.  65850.  66900.]\n"
          ],
          "name": "stdout"
        }
      ]
    },
    {
      "cell_type": "markdown",
      "metadata": {
        "id": "1kXAsz47AKFw"
      },
      "source": [
        "### ✔정규화 등의 전처리"
      ]
    },
    {
      "cell_type": "markdown",
      "metadata": {
        "id": "qMt6HG6jp8wq"
      },
      "source": [
        "50일씩 나누었던 데이터들을 첫날 기준으로 정규화를 진행합니다.\r\n",
        "(첫날을 0으로 만들고, 나머지 날들을 그 비율로 나누어 정규화)"
      ]
    },
    {
      "cell_type": "code",
      "metadata": {
        "id": "L0m-t7Bqnfz7"
      },
      "source": [
        "# 첫날 기준으로 데이터 정규화\r\n",
        "norm_result = []\r\n",
        "for section in day_result:\r\n",
        "    norm_section = [((float(p) / float(section[0])) - 1) for p in section]\r\n",
        "    norm_result.append(norm_section)\r\n",
        "day_result = np.array(norm_result)"
      ],
      "execution_count": 132,
      "outputs": []
    },
    {
      "cell_type": "code",
      "metadata": {
        "id": "bJSFyrmPnpSX",
        "colab": {
          "base_uri": "https://localhost:8080/"
        },
        "outputId": "cbbc3e6e-00c7-483b-c47c-2ad542e8493e"
      },
      "source": [
        "# 분리된 데이터 정규화 결과 확인\r\n",
        "print(day_result[0])"
      ],
      "execution_count": 106,
      "outputs": [
        {
          "output_type": "stream",
          "text": [
            "[ 0.         -0.01373626 -0.12728938 -0.18772894 -0.07967033 -0.11813187\n",
            " -0.21336996 -0.24358974 -0.33058608 -0.28296703 -0.23168498 -0.28846154\n",
            " -0.31593407 -0.32600733 -0.32600733 -0.40842491 -0.43315018 -0.46153846\n",
            " -0.42490842 -0.38827839 -0.33150183 -0.38461538 -0.45787546 -0.47252747\n",
            " -0.45604396 -0.49725275 -0.56227106 -0.6007326  -0.56776557 -0.58058608\n",
            " -0.5952381  -0.58882784 -0.57234432 -0.6043956  -0.62271062 -0.58974359\n",
            " -0.63516484 -0.67197802 -0.67838828 -0.66336996 -0.6485348  -0.60164835\n",
            " -0.60347985 -0.64468864 -0.64468864 -0.67509158 -0.72454212 -0.72692308\n",
            " -0.74175824 -0.76501832 -0.75879121]\n"
          ],
          "name": "stdout"
        }
      ]
    },
    {
      "cell_type": "markdown",
      "metadata": {
        "id": "O3TGULbI2vOe"
      },
      "source": [
        "#### 데이터셋 정의"
      ]
    },
    {
      "cell_type": "markdown",
      "metadata": {
        "id": "AcW4JpWO2rm4"
      },
      "source": [
        "학습 데이터는 90%, 테스트 데이터는 10%로 나눔\r\n",
        "\r\n",
        "데이터가 많이 않아 학습 데이터 비중을 높임"
      ]
    },
    {
      "cell_type": "code",
      "metadata": {
        "id": "ZQiIimtcEELi"
      },
      "source": [
        "train_data_rate = 0.9\r\n",
        "boundary = round(day_result.shape[0] * train_data_rate)\r\n",
        "train_data = day_result[:boundary, :]\r\n",
        "test_data = day_result[boundary:, :]"
      ],
      "execution_count": 107,
      "outputs": []
    },
    {
      "cell_type": "code",
      "metadata": {
        "id": "oBmWV4ZnEitd"
      },
      "source": [
        "# 데이터셋 분리\r\n",
        "# 위에서 설정한 학습 데이터와 테스트 데이터를 1차원으로 바꾸고,\r\n",
        "# 각 데이터 0~49번째 가격정보는 x_data, 마지막 50번째는 y_data로 설정\r\n",
        "# (0~49번째 가격 정보를 가지고, 50번째 가격 정보를 예측하기 위해)\r\n",
        "x_train = train_data[:, :-1]\r\n",
        "x_train = np.reshape(x_train, (x_train.shape[0], x_train.shape[1], 1))\r\n",
        "y_train = train_data[:, -1]\r\n",
        "\r\n",
        "x_test = test_data[:, :-1]\r\n",
        "x_test = np.reshape(x_test, (x_test.shape[0], x_test.shape[1], 1))\r\n",
        "y_test = test_data[:, -1]"
      ],
      "execution_count": 108,
      "outputs": []
    },
    {
      "cell_type": "code",
      "metadata": {
        "colab": {
          "base_uri": "https://localhost:8080/"
        },
        "id": "nop2-MRMEjJw",
        "outputId": "038d2b40-cffa-49af-db55-fcbeb88bf9d5"
      },
      "source": [
        "# 데이터셋 확인\r\n",
        "x_train.shape, x_test.shape"
      ],
      "execution_count": 109,
      "outputs": [
        {
          "output_type": "execute_result",
          "data": {
            "text/plain": [
              "((4510, 50, 1), (501, 50, 1))"
            ]
          },
          "metadata": {
            "tags": []
          },
          "execution_count": 109
        }
      ]
    },
    {
      "cell_type": "markdown",
      "metadata": {
        "id": "B4dn8nzZFBJ8"
      },
      "source": [
        "### ✔딥러닝 모델 만들기\r\n",
        "### ✔입력, 중간(은닉), 출력 층, 패러미터 수\r\n",
        "### ✔옵티마이저, 손실함수\r\n"
      ]
    },
    {
      "cell_type": "markdown",
      "metadata": {
        "id": "3uM1FLP2qhiu"
      },
      "source": [
        "주식은 시간의 변화에 함께 변화하면서 그 영향을 받습니다."
      ]
    },
    {
      "cell_type": "markdown",
      "metadata": {
        "id": "ZG3DfuoPp4tV"
      },
      "source": [
        "\r\n",
        "첫번째 인자는 메모리 셀의 개수를 의미하고, return_sequences=True는 모든 입력에 대해 출력을 내놓게 합니다.\r\n",
        "\r\n",
        "return_sequences=False는 time sep 마지막에서만 결과를 출력하고, input_shape는 입력값을 의미합니다."
      ]
    },
    {
      "cell_type": "code",
      "metadata": {
        "id": "DoTQJNUxEjad"
      },
      "source": [
        "model = Sequential()\r\n",
        "model.add(LSTM(50, return_sequences=True, input_shape=(50, 1)))\r\n",
        "model.add(LSTM(64, return_sequences=False))\r\n",
        "model.add(Dense(1, activation='relu'))\r\n",
        "model.compile(loss='mse', optimizer='sgd')"
      ],
      "execution_count": 110,
      "outputs": []
    },
    {
      "cell_type": "markdown",
      "metadata": {
        "id": "CcLaDl4hB0HA"
      },
      "source": [
        "### ✔모델 요약(summary)"
      ]
    },
    {
      "cell_type": "code",
      "metadata": {
        "colab": {
          "base_uri": "https://localhost:8080/"
        },
        "id": "JErYKfWlEjqV",
        "outputId": "4f8984ea-5171-4a7a-9d3a-c938c4d414eb"
      },
      "source": [
        "# 모델 확인\r\n",
        "model.summary()"
      ],
      "execution_count": 111,
      "outputs": [
        {
          "output_type": "stream",
          "text": [
            "Model: \"sequential_5\"\n",
            "_________________________________________________________________\n",
            "Layer (type)                 Output Shape              Param #   \n",
            "=================================================================\n",
            "lstm_10 (LSTM)               (None, 50, 50)            10400     \n",
            "_________________________________________________________________\n",
            "lstm_11 (LSTM)               (None, 64)                29440     \n",
            "_________________________________________________________________\n",
            "dense_5 (Dense)              (None, 1)                 65        \n",
            "=================================================================\n",
            "Total params: 39,905\n",
            "Trainable params: 39,905\n",
            "Non-trainable params: 0\n",
            "_________________________________________________________________\n"
          ],
          "name": "stdout"
        }
      ]
    },
    {
      "cell_type": "markdown",
      "metadata": {
        "id": "r--LshvkCAZw"
      },
      "source": [
        "### ✔모델 훈련 과정"
      ]
    },
    {
      "cell_type": "markdown",
      "metadata": {
        "id": "DkHQissPqqnr"
      },
      "source": [
        "첫번째 인자는 훈련데이터이고, 두번째 인자는 정답 데이터입니다.\r\n",
        "\r\n",
        "fit 메소드에서 중요한 파라미터 설명입니다.\r\n",
        "\r\n",
        "epochs :\r\n",
        "- 훈련은 에포크(epoch)로 구성됩니다. 한 에포크는 전체 입력 데이터를 한번 순회하는 것이다.\r\n",
        "\r\n",
        "batch_size :\r\n",
        "- numpy 데이터를 전달하면 모델은 데이터를 작은 배치로 나누고 훈련 과정에서 이 배치를 순회한다. 이 정수 값은 배치의 크기를 지정한다.\r\n",
        "\r\n",
        "- 전체 샘플 개수가 배치 크기로 나누어 떨어지지 않으면 마지막 배치의 크기는 더 작을 수 있다.\r\n",
        "\r\n",
        "validation_data :\r\n",
        "- 검증 데이터를 사용하면 각 에포크마다 검증 데이터의 정확도도 함께 출력되는데, 이 정확도는 훈련이 잘 되고 있는지를 보여줄 뿐이며, 실제로 모델이 검증 데이터를 학습하지는 않는다. 검증 데이터의 loss가 낮아지다가 높아지기 시작하면 이는 과적합(overfitting)의 신호이다.\r\n"
      ]
    },
    {
      "cell_type": "code",
      "metadata": {
        "colab": {
          "base_uri": "https://localhost:8080/"
        },
        "id": "qkytgAs5Ej9a",
        "outputId": "8eb2e71e-3a78-43d9-fbd2-38a543e87a76"
      },
      "source": [
        "model.fit(x_train, y_train,\r\n",
        "    validation_data=(x_test, y_test),\r\n",
        "    batch_size=10,\r\n",
        "    epochs=15)"
      ],
      "execution_count": 112,
      "outputs": [
        {
          "output_type": "stream",
          "text": [
            "Epoch 1/15\n",
            "451/451 [==============================] - 13s 30ms/step - loss: 0.0331 - val_loss: 0.0144\n",
            "Epoch 2/15\n",
            "451/451 [==============================] - 13s 28ms/step - loss: 0.0255 - val_loss: 0.0098\n",
            "Epoch 3/15\n",
            "451/451 [==============================] - 13s 28ms/step - loss: 0.0248 - val_loss: 0.0085\n",
            "Epoch 4/15\n",
            "451/451 [==============================] - 12s 28ms/step - loss: 0.0246 - val_loss: 0.0088\n",
            "Epoch 5/15\n",
            "451/451 [==============================] - 12s 28ms/step - loss: 0.0244 - val_loss: 0.0083\n",
            "Epoch 6/15\n",
            "451/451 [==============================] - 12s 28ms/step - loss: 0.0243 - val_loss: 0.0080\n",
            "Epoch 7/15\n",
            "451/451 [==============================] - 13s 29ms/step - loss: 0.0241 - val_loss: 0.0080\n",
            "Epoch 8/15\n",
            "451/451 [==============================] - 13s 28ms/step - loss: 0.0240 - val_loss: 0.0078\n",
            "Epoch 9/15\n",
            "451/451 [==============================] - 13s 28ms/step - loss: 0.0239 - val_loss: 0.0075\n",
            "Epoch 10/15\n",
            "451/451 [==============================] - 13s 28ms/step - loss: 0.0238 - val_loss: 0.0072\n",
            "Epoch 11/15\n",
            "451/451 [==============================] - 13s 29ms/step - loss: 0.0237 - val_loss: 0.0070\n",
            "Epoch 12/15\n",
            "451/451 [==============================] - 13s 28ms/step - loss: 0.0236 - val_loss: 0.0071\n",
            "Epoch 13/15\n",
            "451/451 [==============================] - 13s 28ms/step - loss: 0.0235 - val_loss: 0.0071\n",
            "Epoch 14/15\n",
            "451/451 [==============================] - 13s 28ms/step - loss: 0.0234 - val_loss: 0.0068\n",
            "Epoch 15/15\n",
            "451/451 [==============================] - 13s 28ms/step - loss: 0.0234 - val_loss: 0.0068\n"
          ],
          "name": "stdout"
        },
        {
          "output_type": "execute_result",
          "data": {
            "text/plain": [
              "<tensorflow.python.keras.callbacks.History at 0x7f6279218e48>"
            ]
          },
          "metadata": {
            "tags": []
          },
          "execution_count": 112
        }
      ]
    },
    {
      "cell_type": "markdown",
      "metadata": {
        "id": "msEWzHNXpT67"
      },
      "source": [
        "#### 모델 평가\r\n",
        "\r\n",
        "손실을 출력하여 모델의 성능을 확인합니다."
      ]
    },
    {
      "cell_type": "code",
      "metadata": {
        "colab": {
          "base_uri": "https://localhost:8080/"
        },
        "id": "BxeXTSWpTyWr",
        "outputId": "d77a403a-0a9d-4c50-a89e-86d846771e72"
      },
      "source": [
        "# 모델 평가\r\n",
        "eval = model.evaluate(x_test, y_test, batch_size=10)\r\n",
        "print(eval)"
      ],
      "execution_count": 113,
      "outputs": [
        {
          "output_type": "stream",
          "text": [
            "51/51 [==============================] - 0s 7ms/step - loss: 0.0068\n",
            "0.006758326198905706\n"
          ],
          "name": "stdout"
        }
      ]
    },
    {
      "cell_type": "markdown",
      "metadata": {
        "id": "f7m16EK9pNqu"
      },
      "source": [
        "손실도가 줄어든 것을 확인할 수 있습니다."
      ]
    },
    {
      "cell_type": "markdown",
      "metadata": {
        "id": "20fnw_jnCYma"
      },
      "source": [
        "### ✔예측결과"
      ]
    },
    {
      "cell_type": "code",
      "metadata": {
        "id": "RtY2xhIDEkTj"
      },
      "source": [
        "# 모델 예측\r\n",
        "pred = model.predict(x_test)"
      ],
      "execution_count": 114,
      "outputs": []
    },
    {
      "cell_type": "markdown",
      "metadata": {
        "id": "Q0bd_88aCkXp"
      },
      "source": [
        "### ✔예측결과 시각화"
      ]
    },
    {
      "cell_type": "code",
      "metadata": {
        "colab": {
          "base_uri": "https://localhost:8080/",
          "height": 493
        },
        "id": "-T-qtYfBPLf-",
        "outputId": "fc68d66b-3224-4e36-acce-2dfcc15de4c3"
      },
      "source": [
        "# 예측값과 실제값 비교\r\n",
        "import matplotlib.pyplot as plt\r\n",
        "\r\n",
        "plot_figure = plt.figure(figsize=(30, 10))\r\n",
        "plot_rst = plot_figure.add_subplot(111)\r\n",
        "plot_rst.plot(y_test, label='Real')\r\n",
        "plot_rst.plot(pred, label='Predict')\r\n",
        "plot_rst.legend()\r\n",
        "plt.show()"
      ],
      "execution_count": 115,
      "outputs": [
        {
          "output_type": "display_data",
          "data": {
            "image/png": "[encoded data removed]",
            "text/plain": [
              "<Figure size 2160x720 with 1 Axes>"
            ]
          },
          "metadata": {
            "tags": [],
            "needs_background": "light"
          }
        }
      ]
    },
    {
      "cell_type": "markdown",
      "metadata": {
        "id": "rEXopi9fqQYq"
      },
      "source": [
        "# 2.분류 문제: Iris 붓꽃 분류\r\n",
        "\r\n",
        "* 이 튜토리얼에서는 붓꽃을 분류하는 신경망 모델을 훈련합니다.\r\n",
        "* 텐서플로 모델을 만들고, 훈련할 수 있는 고수준 API인 tf.keras와 사이킷런(scikit-learn)을 사용합니다."
      ]
    },
    {
      "cell_type": "markdown",
      "metadata": {
        "id": "zFKObW9fS_Hj"
      },
      "source": [
        "### ✔딥러닝 목적"
      ]
    },
    {
      "cell_type": "markdown",
      "metadata": {
        "id": "LtS_ZOGeTDPt"
      },
      "source": [
        " ![lris.JPG](data:image/jpeg;base64,/9j/4AAQSkZJRgABAQEAeAB4AAD/4RDYRXhpZgAATU0AKgAAAAgABAE7AAIAAAAHAAAISodpAAQAAAABAAAIUpydAAEAAAAGAAAQyuocAAcAAAgMAAAAPgAAAAAc6gAAAAgAAAAAAAAAAAAAAAAAAAAAAAAAAAAAAAAAAAAAAAAAAAAAAAAAAAAAAAAAAAAAAAAAAAAAAAAAAAAAAAAAAAAAAAAAAAAAAAAAAAAAAAAAAAAAAAAAAAAAAAAAAAAAAAAAAAAAAAAAAAAAAAAAAAAAAAAAAAAAAAAAAAAAAAAAAAAAAAAAAAAAAAAAAAAAAAAAAAAAAAAAAAAAAAAAAAAAAAAAAAAAAAAAAAAAAAAAAAAAAAAAAAAAAAAAAAAAAAAAAAAAAAAAAAAAAAAAAAAAAAAAAAAAAAAAAAAAAAAAAAAAAAAAAAAAAAAAAAAAAAAAAAAAAAAAAAAAAAAAAAAAAAAAAAAAAAAAAAAAAAAAAAAAAAAAAAAAAAAAAAAAAAAAAAAAAAAAAAAAAAAAAAAAAAAAAAAAAAAAAAAAAAAAAAAAAAAAAAAAAAAAAAAAAAAAAAAAAAAAAAAAAAAAAAAAAAAAAAAAAAAAAAAAAAAAAAAAAAAAAAAAAAAAAAAAAAAAAAAAAAAAAAAAAAAAAAAAAAAAAAAAAAAAAAAAAAAAAAAAAAAAAAAAAAAAAAAAAAAAAAAAAAAAAAAAAAAAAAAAAAAAAAAAAAAAAAAAAAAAAAAAAAAAAAAAAAAAAAAAAAAAAAAAAAAAAAAAAAAAAAAAAAAAAAAAAAAAAAAAAAAAAAAAAAAAAAAAAAAAAAAAAAAAAAAAAAAAAAAAAAAAAAAAAAAAAAAAAAAAAAAAAAAAAAAAAAAAAAAAAAAAAAAAAAAAAAAAAAAAAAAAAAAAAAAAAAAAAAAAAAAAAAAAAAAAAAAAAAAAAAAAAAAAAAAAAAAAAAAAAAAAAAAAAAAAAAAAAAAAAAAAAAAAAAAAAAAAAAAAAAAAAAAAAAAAAAAAAAAAAAAAAAAAAAAAAAAAAAAAAAAAAAAAAAAAAAAAAAAAAAAAAAAAAAAAAAAAAAAAAAAAAAAAAAAAAAAAAAAAAAAAAAAAAAAAAAAAAAAAAAAAAAAAAAAAAAAAAAAAAAAAAAAAAAAAAAAAAAAAAAAAAAAAAAAAAAAAAAAAAAAAAAAAAAAAAAAAAAAAAAAAAAAAAAAAAAAAAAAAAAAAAAAAAAAAAAAAAAAAAAAAAAAAAAAAAAAAAAAAAAAAAAAAAAAAAAAAAAAAAAAAAAAAAAAAAAAAAAAAAAAAAAAAAAAAAAAAAAAAAAAAAAAAAAAAAAAAAAAAAAAAAAAAAAAAAAAAAAAAAAAAAAAAAAAAAAAAAAAAAAAAAAAAAAAAAAAAAAAAAAAAAAAAAAAAAAAAAAAAAAAAAAAAAAAAAAAAAAAAAAAAAAAAAAAAAAAAAAAAAAAAAAAAAAAAAAAAAAAAAAAAAAAAAAAAAAAAAAAAAAAAAAAAAAAAAAAAAAAAAAAAAAAAAAAAAAAAAAAAAAAAAAAAAAAAAAAAAAAAAAAAAAAAAAAAAAAAAAAAAAAAAAAAAAAAAAAAAAAAAAAAAAAAAAAAAAAAAAAAAAAAAAAAAAAAAAAAAAAAAAAAAAAAAAAAAAAAAAAAAAAAAAAAAAAAAAAAAAAAAAAAAAAAAAAAAAAAAAAAAAAAAAAAAAAAAAAAAAAAAAAAAAAAAAAAAAAAAAAAAAAAAAAAAAAAAAAAAAAAAAAAAAAAAAAAAAAAAAAAAAAAAAAAAAAAAAAAAAAAAAAAAAAAAAAAAAAAAAAAAAAAAAAAAAAAAAAAAAAAAAAAAAAAAAAAAAAAAAAAAAAAAAAAAAAAAAAAAAAAAAAAAAAAAAAAAAAAAAAAAAAAAAAAAAAAAAAAAAAAAAAAAAAAAAAAAAAAAAAAAAAAAAAAAAAAAAAAAAAAAAAAAAAAAAAAAAAAAAAAAAAAAAAAAAAAAAAAAAAAAAAAAAAAAAAAAAAAAAAAAAAAAAAAAAAAAAAAAAAAAAAAAAAAAAAAAAAAAAAAAAAAAAAAAAAAAAAAAAAAAAAAAAAAAAAAAAAAAAAAAAAAAAAAAAAAAAAAAAAAAAAAAAAAAAAAAAAAAAAAAAAAAAAAAAAAAAAAAAAAAAAAAAAAAAAAAAAAAAAAAAAAAAAAAAAAAAAAAAAAAAAAAAAAAAAAAAAAAAAAAAAAAAAAAAAAAAAAAAAAAAAAAAAAAAAAAAAAAAAAAAAAAAAAAAAAAAAAAAAAAAAAAAAAAAAAAAAAAAAAAAAAAAAAAAAAAAAAAAAAAAAAAAAAAAAAAAAAAAAAAAAAAAAAAAAAAAAAAAAAAAAAAAAAAAAAAAAAAAAAAAAAAAAAAAAAAAAAAAAAAAAAAAAAAAAAAAAAAAAAAAAAAAAAAAAAAAAAAAAAAAAAAAAAAAAAAAAAAAAAAAAAAAAAAAAAAAAAAAAAAAAAAAAAAAAAAAAAAAAAAAAAAAAAAAAAAAAAAAAAAAAAAAAAAAAAAAAAAAAAAAAAAAAAAAAAAAAAAAAAAAAAAAAAAAAAAAAAAAAAAAAAAAAAAAAAAAAAAAAAAAAAAAAAAAAAAAAAAAAAAAAAAAAAAAAAAAAAAAAAAAAAAAAAAAAAAAAAAAAAAAAAAAAAAAAAAAAAAAAAAAAAAAAAAAAAAAAAAAAAAAAAAAAAAAAAAAAAAAAAAAAAAAAAAAAAAAAAAAAAAAAAAAAAAAAAAAAAAAAAAAAAAAAAAAAAAAAAAAAAAAAAAAAAAAAAAAAAAAAAAAAAAAAAAAAAAAAAAAAAAAAAAAAAAAAAAAAAAAAAAAAAAAAAAAAAAAAAAAAAAOypoeydtAAAAAWQAwACAAAAFAAAEKCQBAACAAAAFAAAELSSkQACAAAAAzI3AACSkgACAAAAAzI3AADqHAAHAAAIDAAACJQAAAAAHOoAAAAIAAAAAAAAAAAAAAAAAAAAAAAAAAAAAAAAAAAAAAAAAAAAAAAAAAAAAAAAAAAAAAAAAAAAAAAAAAAAAAAAAAAAAAAAAAAAAAAAAAAAAAAAAAAAAAAAAAAAAAAAAAAAAAAAAAAAAAAAAAAAAAAAAAAAAAAAAAAAAAAAAAAAAAAAAAAAAAAAAAAAAAAAAAAAAAAAAAAAAAAAAAAAAAAAAAAAAAAAAAAAAAAAAAAAAAAAAAAAAAAAAAAAAAAAAAAAAAAAAAAAAAAAAAAAAAAAAAAAAAAAAAAAAAAAAAAAAAAAAAAAAAAAAAAAAAAAAAAAAAAAAAAAAAAAAAAAAAAAAAAAAAAAAAAAAAAAAAAAAAAAAAAAAAAAAAAAAAAAAAAAAAAAAAAAAAAAAAAAAAAAAAAAAAAAAAAAAAAAAAAAAAAAAAAAAAAAAAAAAAAAAAAAAAAAAAAAAAAAAAAAAAAAAAAAAAAAAAAAAAAAAAAAAAAAAAAAAAAAAAAAAAAAAAAAAAAAAAAAAAAAAAAAAAAAAAAAAAAAAAAAAAAAAAAAAAAAAAAAAAAAAAAAAAAAAAAAAAAAAAAAAAAAAAAAAAAAAAAAAAAAAAAAAAAAAAAAAAAAAAAAAAAAAAAAAAAAAAAAAAAAAAAAAAAAAAAAAAAAAAAAAAAAAAAAAAAAAAAAAAAAAAAAAAAAAAAAAAAAAAAAAAAAAAAAAAAAAAAAAAAAAAAAAAAAAAAAAAAAAAAAAAAAAAAAAAAAAAAAAAAAAAAAAAAAAAAAAAAAAAAAAAAAAAAAAAAAAAAAAAAAAAAAAAAAAAAAAAAAAAAAAAAAAAAAAAAAAAAAAAAAAAAAAAAAAAAAAAAAAAAAAAAAAAAAAAAAAAAAAAAAAAAAAAAAAAAAAAAAAAAAAAAAAAAAAAAAAAAAAAAAAAAAAAAAAAAAAAAAAAAAAAAAAAAAAAAAAAAAAAAAAAAAAAAAAAAAAAAAAAAAAAAAAAAAAAAAAAAAAAAAAAAAAAAAAAAAAAAAAAAAAAAAAAAAAAAAAAAAAAAAAAAAAAAAAAAAAAAAAAAAAAAAAAAAAAAAAAAAAAAAAAAAAAAAAAAAAAAAAAAAAAAAAAAAAAAAAAAAAAAAAAAAAAAAAAAAAAAAAAAAAAAAAAAAAAAAAAAAAAAAAAAAAAAAAAAAAAAAAAAAAAAAAAAAAAAAAAAAAAAAAAAAAAAAAAAAAAAAAAAAAAAAAAAAAAAAAAAAAAAAAAAAAAAAAAAAAAAAAAAAAAAAAAAAAAAAAAAAAAAAAAAAAAAAAAAAAAAAAAAAAAAAAAAAAAAAAAAAAAAAAAAAAAAAAAAAAAAAAAAAAAAAAAAAAAAAAAAAAAAAAAAAAAAAAAAAAAAAAAAAAAAAAAAAAAAAAAAAAAAAAAAAAAAAAAAAAAAAAAAAAAAAAAAAAAAAAAAAAAAAAAAAAAAAAAAAAAAAAAAAAAAAAAAAAAAAAAAAAAAAAAAAAAAAAAAAAAAAAAAAAAAAAAAAAAAAAAAAAAAAAAAAAAAAAAAAAAAAAAAAAAAAAAAAAAAAAAAAAAAAAAAAAAAAAAAAAAAAAAAAAAAAAAAAAAAAAAAAAAAAAAAAAAAAAAAAAAAAAAAAAAAAAAAAAAAAAAAAAAAAAAAAAAAAAAAAAAAAAAAAAAAAAAAAAAAAAAAAAAAAAAAAAAAAAAAAAAAAAAAAAAAAAAAAAAAAAAAAAAAAAAAAAAAAAAAAAAAAAAAAAAAAAAAAAAAAAAAAAAAAAAAAAAAAAAAAAAAAAAAAAAAAAAAAAAAAAAAAAAAAAAAAAAAAAAAAAAAAAAAAAAAAAAAAAAAAAAAAAAAAAAAAAAAAAAAAAAAAAAAAAAAAAAAAAAAAAAAAAAAAAAAAAAAAAAAAAAAAAAAAAAAAAAAAAAAAAAAAAAAAAAAAAAAAAAAAAAAAAAAAAAAAAAAAAAAAAAAAAAAAAAAAAAAAAAAAAAAAAAAAAAAAAAAAAAAAAAAAAAAAAAAAAAAAAAAAAAAAAAAAAAAAAAAAAAAAAAAAAAAAAAAAAAAAAAAAAAAAAAAAAAAAAAAAAAAAAAAAAAAAAAAAAAAAAAAAAAAAAAAAAAAAAAAAAAAAAAAAAAAAAAAAAAAAAAAAAAAAAAAAAAAAAAAAAAAAAAAAAAAAAAAAAAAAAAAAAAAAAAAAAAAAAAAAAAAAAAAAAAAAAAAAAAAAAAAAAAAAAAAAAAAAAAAAAAAAAAAAAAAAAAAAAAAAAAAAAAAAAAAAAAAAAAAAAAAAAAAAAAAAAAAAAAAAAAAAAAAAAAAAAAAAAAAAAAAAAAAAAAAAAAAAAAAAAAAAAAAAAAAAAAAAAAAAAAAAAAAAAAAAAAAAAAAAAAAAAAAAAAAAAAAAAAAAAAAAAAAAAAAAAAAAAAAAAAAAAAAAAAAAAAAAAAAAAAAAAAAAAAAAAAAAAAAAAAAAAAAAAAAAAAAAAAAAAAAAAAAAAAAAAAAAAAAAAAAAAAAAAAAAAAAAAAAAAAAAAAAAAAAAAAAAAAAAAAAAAAAAAAAAAAAAAAAAAAAAAAAAAAAAAAAAAAAAAAAAAAAAAAAAAAAAAAAAAAAAAAAAAAAAAAAAAAAAAAAAAAAAAAAAAAAAAAAAAAAAAAAAAAAAAAAAAAAAAAAAAAAAAAAAAAAAAAAAAAAAAAAAAAAAAAAAAAAAAAAAAAAAAAAAAAAAAAAAAAAAAAAAAAAAAAAAAAAAAAAAAAAAAAAyMDIwOjEyOjE0IDE0OjIzOjA0ADIwMjA6MTI6MTQgMTQ6MjM6MDQAAABhynTHAAD/4QsZaHR0cDovL25zLmFkb2JlLmNvbS94YXAvMS4wLwA8P3hwYWNrZXQgYmVnaW49J++7vycgaWQ9J1c1TTBNcENlaGlIenJlU3pOVGN6a2M5ZCc/Pg0KPHg6eG1wbWV0YSB4bWxuczp4PSJhZG9iZTpuczptZXRhLyI+PHJkZjpSREYgeG1sbnM6cmRmPSJodHRwOi8vd3d3LnczLm9yZy8xOTk5LzAyLzIyLXJkZi1zeW50YXgtbnMjIj48cmRmOkRlc2NyaXB0aW9uIHJkZjphYm91dD0idXVpZDpmYWY1YmRkNS1iYTNkLTExZGEtYWQzMS1kMzNkNzUxODJmMWIiIHhtbG5zOmRjPSJodHRwOi8vcHVybC5vcmcvZGMvZWxlbWVudHMvMS4xLyIvPjxyZGY6RGVzY3JpcHRpb24gcmRmOmFib3V0PSJ1dWlkOmZhZjViZGQ1LWJhM2QtMTFkYS1hZDMxLWQzM2Q3NTE4MmYxYiIgeG1sbnM6eG1wPSJodHRwOi8vbnMuYWRvYmUuY29tL3hhcC8xLjAvIj48eG1wOkNyZWF0ZURhdGU+MjAyMC0xMi0xNFQxNDoyMzowNC4yNzQ8L3htcDpDcmVhdGVEYXRlPjwvcmRmOkRlc2NyaXB0aW9uPjxyZGY6RGVzY3JpcHRpb24gcmRmOmFib3V0PSJ1dWlkOmZhZjViZGQ1LWJhM2QtMTFkYS1hZDMxLWQzM2Q3NTE4MmYxYiIgeG1sbnM6ZGM9Imh0dHA6Ly9wdXJsLm9yZy9kYy9lbGVtZW50cy8xLjEvIj48ZGM6Y3JlYXRvcj48cmRmOlNlcSB4bWxuczpyZGY9Imh0dHA6Ly93d3cudzMub3JnLzE5OTkvMDIvMjItcmRmLXN5bnRheC1ucyMiPjxyZGY6bGk+7Kmh7J20PC9yZGY6bGk+PC9yZGY6U2VxPg0KCQkJPC9kYzpjcmVhdG9yPjwvcmRmOkRlc2NyaXB0aW9uPjwvcmRmOlJERj48L3g6eG1wbWV0YT4NCiAgICAgICAgICAgICAgICAgICAgICAgICAgICAgICAgICAgICAgICAgICAgICAgICAgICAgICAgICAgICAgICAgICAgICAgICAgICAgICAgICAgICAgICAgICAgICAgICAgICAKICAgICAgICAgICAgICAgICAgICAgICAgICAgICAgICAgICAgICAgICAgICAgICAgICAgICAgICAgICAgICAgICAgICAgICAgICAgICAgICAgICAgICAgICAgICAgICAgICAgIAogICAgICAgICAgICAgICAgICAgICAgICAgICAgICAgICAgICAgICAgICAgICAgICAgICAgICAgICAgICAgICAgICAgICAgICAgICAgICAgICAgICAgICAgICAgICAgICAgICAgCiAgICAgICAgICAgICAgICAgICAgICAgICAgICAgICAgICAgICAgICAgICAgICAgICAgICAgICAgICAgICAgICAgICAgICAgICAgICAgICAgICAgICAgICAgICAgICAgICAgICAKICAgICAgICAgICAgICAgICAgICAgICAgICAgICAgICAgICAgICAgICAgICAgICAgICAgICAgICAgICAgICAgICAgICAgICAgICAgICAgICAgICAgICAgICAgICAgICAgICAgIAogICAgICAgICAgICAgICAgICAgICAgICAgICAgICAgICAgICAgICAgICAgICAgICAgICAgICAgICAgICAgICAgICAgICAgICAgICAgICAgICAgICAgICAgICAgICAgICAgICAgCiAgICAgICAgICAgICAgICAgICAgICAgICAgICAgICAgICAgICAgICAgICAgICAgICAgICAgICAgICAgICAgICAgICAgICAgICAgICAgICAgICAgICAgICAgICAgICAgICAgICAKICAgICAgICAgICAgICAgICAgICAgICAgICAgICAgICAgICAgICAgICAgICAgICAgICAgICAgICAgICAgICAgICAgICAgICAgICAgICAgICAgICAgICAgICAgICAgICAgICAgIAogICAgICAgICAgICAgICAgICAgICAgICAgICAgICAgICAgICAgICAgICAgICAgICAgICAgICAgICAgICAgICAgICAgICAgICAgICAgICAgICAgICAgICAgICAgICAgICAgICAgCiAgICAgICAgICAgICAgICAgICAgICAgICAgICAgICAgICAgICAgICAgICAgICAgICAgICAgICAgICAgICAgICAgICAgICAgICAgICAgICAgICAgICAgICAgICAgICAgICAgICAKICAgICAgICAgICAgICAgICAgICAgICAgICAgICAgICAgICAgICAgICAgICAgICAgICAgICAgICAgICAgICAgICAgICAgICAgICAgICAgICAgICAgICAgICAgICAgICAgICAgIAogICAgICAgICAgICAgICAgICAgICAgICAgICAgICAgICAgICAgICAgICAgICAgICAgICAgICAgICAgICAgICAgICAgICAgICAgICAgICAgICAgICAgICAgICAgICAgICAgICAgCiAgICAgICAgICAgICAgICAgICAgICAgICAgICAgICAgICAgICAgICAgICAgICAgICAgICAgICAgICAgICAgICAgICAgICAgICAgICAgICAgICAgICAgICAgICAgICAgICAgICAKICAgICAgICAgICAgICAgICAgICAgICAgICAgICAgICAgICAgICAgICAgICAgICAgICAgICAgICAgICAgICAgICAgICAgICAgICAgICAgICAgICAgICAgICAgICAgICAgICAgIAogICAgICAgICAgICAgICAgICAgICAgICAgICAgICAgICAgICAgICAgICAgICAgICAgICAgICAgICAgICAgICAgICAgICAgICAgICAgICAgICAgICAgICAgICAgICAgICAgICAgCiAgICAgICAgICAgICAgICAgICAgICAgICAgICAgICAgICAgICAgICAgICAgICAgICAgICAgICAgICAgICAgICAgICAgICAgICAgICAgICAgICAgICAgICAgICAgICAgICAgICAKICAgICAgICAgICAgICAgICAgICAgICAgICAgICAgICAgICAgICAgICAgICAgICAgICAgICAgICAgICAgICAgICAgICAgICAgICAgICAgICAgICAgICAgICAgICAgICAgICAgIAogICAgICAgICAgICAgICAgICAgICAgICAgICAgICAgICAgICAgICAgICAgICAgICAgICAgICAgICAgICAgICAgICAgICAgICAgICAgICAgICAgICAgICAgICAgICAgICAgICAgCiAgICAgICAgICAgICAgICAgICAgICAgICAgICAgICAgICAgICAgICAgICAgICAgICAgICAgICAgICAgICAgICAgICAgICAgICAgICAgICAgICAgICAgICAgICAgICAgICAgICAKICAgICAgICAgICAgICAgICAgICAgICAgICAgICAgICAgICAgICAgICAgICAgICAgICAgICAgICAgICAgICAgICAgICAgICAgICAgICAgICAgICAgICAgICAgICAgICAgICAgIAogICAgICAgICAgICAgICAgICAgICAgICAgICAgPD94cGFja2V0IGVuZD0ndyc/Pv/bAEMABwUFBgUEBwYFBggHBwgKEQsKCQkKFQ8QDBEYFRoZGBUYFxseJyEbHSUdFxgiLiIlKCkrLCsaIC8zLyoyJyorKv/bAEMBBwgICgkKFAsLFCocGBwqKioqKioqKioqKioqKioqKioqKioqKioqKioqKioqKioqKioqKioqKioqKioqKioqKv/AABEIAQQDXQMBIgACEQEDEQH/xAAfAAABBQEBAQEBAQAAAAAAAAAAAQIDBAUGBwgJCgv/xAC1EAACAQMDAgQDBQUEBAAAAX0BAgMABBEFEiExQQYTUWEHInEUMoGRoQgjQrHBFVLR8CQzYnKCCQoWFxgZGiUmJygpKjQ1Njc4OTpDREVGR0hJSlNUVVZXWFlaY2RlZmdoaWpzdHV2d3h5eoOEhYaHiImKkpOUlZaXmJmaoqOkpaanqKmqsrO0tba3uLm6wsPExcbHyMnK0tPU1dbX2Nna4eLj5OXm5+jp6vHy8/T19vf4+fr/xAAfAQADAQEBAQEBAQEBAAAAAAAAAQIDBAUGBwgJCgv/xAC1EQACAQIEBAMEBwUEBAABAncAAQIDEQQFITEGEkFRB2FxEyIygQgUQpGhscEJIzNS8BVictEKFiQ04SXxFxgZGiYnKCkqNTY3ODk6Q0RFRkdISUpTVFVWV1hZWmNkZWZnaGlqc3R1dnd4eXqCg4SFhoeIiYqSk5SVlpeYmZqio6Slpqeoqaqys7S1tre4ubrCw8TFxsfIycrS09TV1tfY2dri4+Tl5ufo6ery8/T19vf4+fr/2gAMAwEAAhEDEQA/AOa+G/jJdQgGk6lJi4j4jZj94elegOvPHSvm1Gk03UlmhYxyRtlSK968J6/F4g0hHYgXKLiRf615laCXvxOSpFbo1xS+mKdtx1puKxTuYnJ+PPDH9q2X9pWSD7Zbj5gB99a8duBHNdkOcN0we1fSCnHB5B6g15T498GwWF8dStkIt5zlgP4WrppztozopyXU4eOI2vIOQelVLi9y22RMj1rVEK7NpORTDZRScba15o7s29pbVGOYdygoOD6Vq28EiKjIDuFaGn6ZGJBuxt966GKC0t1BwCaynXWyB1YpGZAb+5hVRmPHetizhaOErd7ZAeuahl1KGFeCqiptHjPiC4MFteQRS/wrI2N1c+r12Oa3NokTx29goIgxG3oar3STxD5V+X1FM1fSNb0Sdkv7JhH2lTkGsGLUdWl1FYbVsxk856YqlFtc1w5H1NHymnbG4mrcenx26+ZIcAdTV8TadZwg3TrFKRyR61m6ur31v/o77oT/ABIayu5PTYxd36FJb2K4upFjbKr1rn73VU+1usfY4robXS1tNLmI+8wOTXFPastwzfeGa6qMYNs1pRi5MufbGk6jHvTPMl3jBxUDZyNvFPEgC4PX1rp5V0OjlXQuGUTL5c3Xsaour20meozwaVHwfm6etW0QyDAG5T60rcuoctjufCXiCHUNPGl6m2VYYjc/wmrl3ZvA72d0Mj+B/wC8K4SztzA2QxXByPavQ9F1KHxBp/2K5YLdxD92x6mvPrQT2MJJdDn9PaTRNZEhYmMnFbWuWiCaHULZQY5fvY7GsrVkZTJBOu2VOx71a8K6h9sgl0u/7f6smoi21724kPkOUP0rjdYdnusxHlD0rtrqFrdmQj7vSuA1AP8A2tIM9TW1H4hU1qdnpt0ZtHV+4XBrndSbyZ1YnBzmtXQm/wBCaInn0rI8TRHYjL94HmnH+JYaXvWOh0m7FzajByR1pmtaYNQgTb98MAMVg+F7zy7gRu3DV6HodmLrUkyMqnJpybg9BNOMjjviTp403RdGtwMFVOfrgVx+hKwuTIOgHWvQPjQ4Munxr/Du/pXE2afZdO3HhmroUv3KRtf92dN4X1kpq0lrI37uUYHsa7WKQo21uhNeY6JHtuhcNxtOQa9AS5We3SRGyCPyrkqJRloYy1RfvIBJH0yeormtQhyxIGD3ro4ZvMhGTkrWXqkW3515DVnsStzD0/UG0zUEk6pn5x6iut1fU47+CFbU5Vhk47VxVzFzU+jXnk3Yt5j8rfdJ7Upw5veK3Ors4dibjTriYQW0kzHAVTUn3YworC8UXZjsltkPL9fpWKV2Sjjr2Y3F1JO5yXbioYx60yeZVbA7VCspdvQCvRUXYvc6Hw3AbzxFAqjKocmrPxCvfO1QQqchBW94Gs4bbSp7xsGTHX0rgfEF0bvV5nJz82KmMU5iWsibwsM65B9a9R8Wah9i8P4BwWXFeX+FzjXIPrXa+InTXbtbCFiQmNzDtTWDqYvEKMFsPkc5WR5zO29y5781C/auh1HwpfWd59n2bgRlG/vCs650S+gj3PCSB1xXo/U68U/dehfK+xnp3r1L4VH/AIlV4MfxivLVGHxXqnwqBGlXZxx5lcFb4GRLZnoMS4PFNnwGXFTIcLheM1HcDp65ry3uc4Bgyj1zVHVVPkOT0ZCKvY2gH3qO9j86yfHY8UdBrc+YdSXZqlyp7St/Oq1aXiCPy9eu1P8Az1P86za+jWx6a2FAziuw8Pab5OnyXko4xxmua0u0a8vo4lGcmvQNeVdK8Px2ycM45rjxM9oLqYVpfZOWhH2i/Zu2c1qMnl2zyHqRVXSYCyl8ck4FXdV/dWJXuaz6mRzTfPIQO5r2z4b6f9k0FWI5c5NeO6Zbm4vUHUZr6C8N2wttDgAGPlrhzOdqSiTV2sXp8YrD1e5FtZyyMcBVNbFw2M1xniySS6WLTrbPmTttOOw9a8jDU+eaRjGN3Y5zwlpf2/WLnXbxcxqxWAHufWu3AH+tY9OfrVeC3SztYLO3XEca4Hue5qz5YkcKD8i9TXvymty5S5mCAkeY/wB4nisDxQjxTW7E8sCceldTBHlw7fdXoK57xU6yXUeOcCphK8jbDr94jEjmIX5qjuSxXIqWMBqS4wF5rc9CSZzmpyvsIJ4rGtJdtxk+ta2rspyF61gqCHzW8UrB0Oxs50cLmtIqNvyiuLtL0wyDc3FdTZarDJGMmuepBrY5612tC0gINWFOetQi7iI+Wmtdr2NY2Zy6ltdi96kaVNnPSsiS5OeOlSRzLIvLU0ioxu9R8kccrcDiozCkWcDBNSJIiVBcXG5vasndSsOemiGM2M0zzVVCxqCSXNU7mbavFdFOm92bUqdtWR3E3mSnFQld3Wmxks2TVuOLdzXTax1XIQmBxTXbHC8mrEi7RwKhwF+tALUgI28seaEG806QKOWNMWQA4WqQ7FyLagqR7j5eKrocrzUMsmOlElcGiV5M9TWh4e1D7LqSqWwr8VhtIcVCJpElV06qc1m6alFxIaTVj1i9tF1G0ZDzkcGvN9QtJrG9aJsjB4r0Hwze/wBoafGBzJ0xSeMfDE8VqLyWLGOSRXBhFUhNxtdGFNuMrHAND50ILcsRV3w3YtFqwkfotQRkBga17BtsoI4zXbVbUGkdFR3R0Fz8oebsBWX4W0j7Vq0l5KuQpyM1qXY/4leOu6tbRrUWemhh1YV5Cm40n5nInaJr27CKCSRuD0FcPr1681w0UPLMfyrZ1y/kt7H5Gwa4+K5aWQseZHPX0pYajzPnfQIw5tS7CrlUi/hXr71YY7OlPhi2RDPWo5eOtaVJurOyMakueVkZes3gitxk1kpqodAAab4gkaWTaOgrDTINexCmlFI73GyUTae43HrUJlJqqjmrEccjrlVJFVsCF1e23L5gHIq34c16fQ7mK7iJCqfnX+8KhhulvbXB64qO7gSDTQvdqlJ2szFwdrHvelarb61pkV9ZOGRxyP7p9Ksn5vYivG/AOvT+HLpUnJawmOHB/hPrXs4KTRrNCwZHGQR3FcdSHI9NjCpTcGRjk80y8s4dSsZLO6UNHIMc9vepWA7UDkY6UkzJaHjet6F/YeoNbzZIzlT6isr5S3yECvXfF2g/27or+SB9qhGYz6+1eEk3FrfFZdw2thgexraEHPqdEYua0Nh5jAN278Kjury5MSuhwpqG4tnY+cCShFSSD/iXx881bp8tivZ2MqaaR3xK55psIeGQSIWDA5DKeRVmeBSoDjBPQ1Dte1wGGVPQ10Rtymq2PUPBnxC+2RLoniJw+Rthmk5z7Gn+J/C7W3mX+iLslUZeIdGHqK8tlXOGQ4bqCO1en+BvEzavp/2C+f8A0y3HyMf+Wi159Wk6D9pT2e6/UzqJ/Ejzm8lN6zGVyJBwQfWptDvbqyvFjVzsY42nkGum8a+EyZTqWmIQGP72Nex9az/DGg3d9eo0wCRRkZY967aNP26UaetxK042R1EqW11abHxDIw/A155rem3OlXTsyFoieGXkGvYV0XT5l2SA5Xoc1m3XhxI4pHgfz48EvBJzx7V1xyvEUU5aPyFChUp6tHkULSXBA8o4PfFXE0YsMscCu1k0SGWIyaYoyPvREcis9tMumOPLK/WvPdbWyIdXsYsdhDEuHG6nM0cI+XAFabaHdSMqh1Qt0JNWoPB1ruB1G8Zj3RK7MNgq+KXNFaGlOlUq7HKy6lGr4Xk0ljqs1reCeElWQ5Brtx4H0CU8SSo3rmqGpfDqeKMyaZcrMp6K3Brrq5TVgtFc2lhpxWx0MRt/GekLc25VL2EfMP71coRNY6uCcpIjVDotpr/hjVFn8hzHn51HQiuw8R6UNVso9Z05CJQP3seK8KpSdOfKzkasyzfILzTku4+WC/NiuAvrXdqTSsK7XQL3Ki3lGEcYwe1YfiG0fTtQZiuY25BrODsyE9Sjpk6regKeDxS63DuYseRVOxnhafdHwc9K09SQva7+2KqS5ZorZmBAixTqycFTmvXvC0ZXRxdkfMwryext3vNRhgjGS7AGvbbeBbPSIrVOPlAp1p2d2E23uecfE+M3dzprH+IsT+lcZdndIkKdBxXoXxDjESWjnoobFcJpVubq+MjDIBzVUZfu1foK+hJdyf2fYIo4ZhVvwrrLSXElpK3DDK5rI8R3Ae8Ea9FqlogkbW4BEfm3V0ezUqbbNYx93U9UtZP3vXg1ZuYxJEVHJ7VnuslrKUlG0kZFWI5SyBga4L6HO1ZmHewnGO61lzhuGThkOQa6S8hBy471iXEJBPoa0ixpnR6DqP2+1AkP7xBhq5jxXqQe8ZE7cCqsOoS6XdF4+jDBFYt7O1xdM7dSc06dH95foVy6kOSeT1qxGuE96gjUs4AGSa6TTdHMrIHHua6ZyURt2NjS9Q+w+F5QTgsK4aQ+ZI7nua6DWy8S/Z4s7enFVJvDGsQWglaxlKMM5UZp0ac5pyihLuQ+Hm26shB+ld94MtxPq06S4Zt3OeteaQySWNyGKlXU8g8EV6b4CjM+sfaySAfSvfyhe9L5HZQW56/beErXVbJUlVRMgzEx7GuTvvDGy92GPuVYY6V6PplwkEEbE/NjrWD4ov47HWILzI8qf5JB7+te1TqzVVp7M6FF7nh3jHwTJZ3T3FimVzllArb+FqOmk3isCCJeQe1d/ei1vNzHBz2rnfDcCW97qqRYAM2cCvEzzC04U/bQVm9zkxNNRV0dAZFRV3OBngZNOlYFRkj864b4i31xYQ2T2zlcPu4PeuSu9a8Q6pdCexFztPQKpwDXycMNOok4nFGm2rnswwUxT3X9wU7EVx/hnxBqKxLa+IYPKk25SQ9/rXWQ3cF1H+4lVyBkgHmpnRqU/iQnCUdz5u8Xx+V4pvVP/PQ1i10XjsY8YXuf739K50DJr24fCj0I7I7DwDZibUjIwyFq94zu/tOrCBOQnGKseBYxbafNcN2HFSWGivqV7Pf3A/dgkjNeTUqJVnJ9Djm/fbK2mWxjgQY5xmqmvttjC963oYwJGC9BXOa6xe6C1tHcN2S+GrXdcRnHLMK95s08rToU9FFeP+E7bde24x3FeyMNkKj0FeRmcruMSJlK6k2qSe1c8kObqS8kGXfKR57Dua27geaSp4HUmsu4l3ttVcKvC/Ss8JHlXMQhBkKMD5jVmCLeoUcAfePrUSRsDnOSasBwkZXv/Oulybeg0h00wwETgYrjNWvPtepNGABHFwD61vX1x5f7mM5Y/fP9K47VLkWt7JnvXfRp2jd7nRQf7xIsvIsS5yBWNf6kBna1UbzVS4wDWRJKztzzXQonoEtzcGZsk1UbNShS1I0eOtahYks7N7l66Oz0YqoyCKytIuVilG6uuivopIxyBXJWlJOxyVpSWxAtkEGBTDbYPSrhni/vVVnvo0Bwaw5pMwTlcryxYHWoY438zjOKil1NGfANW7ecNg4q7SsaqMnqxlw3lJzxVF7gnvU+pSbjgVRTBXmnCGly+W6uiYSbqhmTf0p6xntUwizWylYaqdGU449pAq0ZhGuO9OeAheOtZ8ySDOatSTNlOLRJLdBepqp5xduOlQtFIW5zVmC3IHNWaKQ18Y9aSPrmnyx7aSFcmn0AsqpK8UwwZ61biX5aQrlse9ImRWW2BHSnixJ6Jn8K6DTtKEqgsK3otIhROgrCVZRMHUUSp8OoJYtWkkdT5MKbiPeu5uL1b+2aO4G5ScMprL0qFNP0ueRMBpGx+FQvNsLsvIHWvqcpoxlQ9pb4jsoJShzdzlPFXhZ9KuBeWo3WsnJA/hrNt5fLUV6Oki65ZmxmwocbQfeuf1LwLc2ORHIHx2rz8bgZqfuLQzqRs7E1pGt1awZOR6Vr3MiwWwUHG0VmaRZywRrHMpDr0FLfs43LICp9DXx+IjyzcX0OGWjZha7d+cmwms7SYCZN56dqL+JpbsAHitKyhEUYxXRdUqFl1Kk+SmvMsscCqF5Jtjx3bpV0/O4UdSaztWU2l0BMPlxxU4Sm5S5uxGGhzSuzAvIGmZtozWX9hn3cjavqa3rqGdbcyD5QeQBXPvJPNJtkdiAelevGV0ehKy3LMSQQn/nq36VY8yVhx8oHQCpLKx+UHFaIsuOlYSrxTsYuocrapJE53AqvrU99dG42KnRalfU08sBogwPcVJ51ltAZdhNdJSl3Gw3En2XymHy+tej+A/GEECx6TqMwwxxEzHp7VwMMET27rFIGyOKz4NHv3uAYwwYHKn0rFwUt2FS01Y+knTaeOh6Uwiuf8Fapd3mkrZ6oMXEIwrn+IV0RBGQ3WuTZ2PPlHldhUbHIrzL4l+E/IkOs6fHmKX/XKo+6fWvSsbTT3iiubd4LhQ8UgwQa0hJxd0VTnys8A0/zZLF4XjJPY4pt5YXbW8SwIcj2r0y+8PxaddMixjYeVOO1VWs1HRR+VRLFNvbY2lN3OEj0q4lhUTpg1KPDdw64lb5O1dY9szyHsBVtbYGIBjUfWZrYjnkcdH4chGPMOcVpWNlFp11HcW4xIh4IrbNnEDyaa0UK+lS60pLVkuUnuzcSeO4tBOMFHX5hWZazQ2ysI12jfkLVCDVoo5vsWf3TMCT6c1ueIdPNncQ3kEW61njGGHY+9fQ8O06anNy36HVg4x522VluX84N0yT8tPS9ykg7nI/CsA3c3nFnynHGalhujkbjgkc+9fbezTPYsrGjp9qsTzSFsAZIPvVLfdT33nTkBEBwB/FTjfhYiqnr1qJ3uDZmURMYl5L44rD6pRUuZxVzndKmndoqxxEyyefkt1Tn7tJ5jtwTyp6+tKJBM25G7c0wdT7muqNNR2RtBJbE0cji4Kk9BWlbXp2hJSeG4PpWOrZk3k9OtaNpavdKXUbU67j0pyikrs2dram9DNuA8wB4z1zV62EUcZaPHlt2rPtIIY4k8xzJ2wPWmanrdrpFuVuSoZuFQda+czLC0K8HJ6NdTy8RThNOS3KuuaSLdhd2fCMcnHY1X1W0/tjw+SP9dEOfepNH8TwXbm1u+FfgZqc/8SnUPKl5t5vut2r4W7jK55OzueTwwvbagQcjmulZ2m0YhxyKm8TaWtlqnmIv7qQ5BqpFJmF4f73QV0zm5WZpz3L/AIC09ZdSe7cfLFwM+tekeZ5snHQcVy+jWg0rRkQcSPyfrW9Zv5calz7muOtPmlYzlK7OU+KzbLewjXq2c/pXNaXbC001pW4OK0/F+oJrWvRwRncLc4NUNblFno5UcZGK64XcYxKtrY4i+m869kcnPNb3gGwN74kjYrlUOa5uJGmkCoMsxwBXtXw+8MDTLFbiVf3jjPNdmImqdJm1SXLGxo+KtMzapcxLynBxXM2swL7TwDXpF4iz2skAXexXp6V5ffK1nfPGRgq3FeVQ5uXUx5Xy3ZffDKyHt0rMuo8KR+VXEl82NZQfY0y6w44610LRkHKX0Ry1Y8i557iulv4huIFc7cDZJ7E10U30NUaXh7T2vLvKoW29OK9H07QXS3Z3+UkVW8B6dFBo4nZQzOcg1vare/ZtPkbOPl4rkrSlKTSIdmzzvUFX7Ze25+baN2fTFXNN8aanZMifaNyKAMMMisG1uDc6xcEt/rFYc1SkJUup6g19Xl8E8Or9DvoxThc9SvvAEHxB046jo8kcGqKN0sZ4WT3FUfA2of2Rqx0PXLd7e6RtqsV61H4J1FzGIhdPA64IdGwcV3U2jzzXUJvWiuJHYeXcKPnHPc10OFSlP2lJaD5eWWhuS38sA2RHcgHBrnfFt0934eLn70bgj25rS1S7VPENnpMeN6DMm2s7xDDts7uLpxuFe5RqQqRdkdkNYmf4bM2sYjEoVlwCKu3lqPCOoXX21WK3J8yMj+IVmeA5SmrDsTxXbfFO1L+B47yPHm28gBY9QDgV42bfvaXI+hhWpqejOYu4rLXp7CEwebIf3nz/AHUHvW/JptpbwpGHUIOojXGayfBenSLoAu5GLyTsOvZRxW9dGOCOSB0+cYXP9aWX4KEaSfVkwox+yVrvQrDUy4MZ8wR8MD0wK8cGq3lhrkptXZfKcqRnsO1ez2VyLdFkd/lZ8H6V5f8AE6C007Wi+nINt6PMLDsa68VSio2a0HKCTseZeKb46j4gnuGGGbGcfSsqJctU+o/8fr02BeRmvmpWS0Od6LQ7qxuVsfDaqOGeuttZFi8LJtGC4xXmpumlWGIH5QRxXoCP/wASq3h9Bk14dWlecb97nFJEEaCOBj3NchqJ83UyPQ12k67bY47CuNVfM1BmPPNdkBo7TwTb7tSjyOF5r0ydxtxXC+BoP9JLY6Cu3kGWJP3RyTXg47366iZy3My+k8qPaDhn6/SqKLkgnoKkuH+0XTMfujgVJFHzk/dH61rflVkKxKoVY979apXNx5S7z99vuj096luLhUjaWXhR90eprFadpXMkn3j+ldVClf3mU9BhJLMzHJzXF+MC0V9Hj+MZrtWXLIg9ea5PxvEDfw57LXpR3Lw/8RHKKpc804xgc08MFFMeQVoeroIrYpzHI5FNUA04L71QJke/Y3AqzHqToAM1VkWowuDUuzJaTNYahI/AJqCaSVurU2DAFOlPFTZLYnlRGh2sCeTWtazMVFZMKb5B9a24IdsYqJ7GdWVlYivDlc1Sjf5ua0J48rVIRANSp7E0tY2LMT81ZSZQ2KoF9vC1JDG7HJ61Uoop00a8aLJTZrAHmmWwkX7x4q2zkrjNcrbT0MeVpmNPAEPAqDa3ateS331VkgKDpW8Z9DphYz5IWYUkMJVuasbyDgikaQAE961RryomX7uKYflYMTVFr/a2DxR9tUjrmqsJ2O70KRJoAAecVrEOnBrz7StdNlOAfuZrubPVYb6JcEZrzK9OUJcyPPq03F3NC9Jj0iMISG5NZEV+Y0dJR1H51savn+yEZQSqj5iB0FVl8PSyaPp+qFgYbhtpGeQPWv0LL3GGEp37Hq0Wo04laxvhDtkAOQc8V1y3qajbh5fQYFZGseHYVjM+mTq0SqoKg8k45pYre70dbdL9CplXcmeldDlCqtNyuaMjae1UYyMYGQRWb4j059Q08XNsP38Q/eAD7w9a0I598Kjdudjz7CtC0eJJ8HlCMN714+My+FdN21MJ0b3PIljLOxYc571YjPlcGus8VeHEsbo3VoMwyckDtXI3B64r4nEQlCq6b6Hn178/KLPdraQtN/EOFrPNu90ouNRmLZOVUVXkJ1C78pDwlWkV4JlRwW29M11xg6cFFHZTUaUdS69pG0OEztI6N2rHk0UGcso71vxN5i8jmlWEhvmFYynKKuU60JaGdb2flqARUj7VOMVfkChKzJeXNccW5M45bnFi1I03dH8xU0SRJd2Sj7sgqewlEkUkaDlhnFReWW4ThlPIFfQu526F/wAN2QF0PN6L1r0KFtNVR8yBvrXnNjq/2CRo54+G4zUl9HKR59vK2xuetc04871CVOL1PS4tRhtnDwzqCvTmur0nVrfWYCI5FM6D5lzXzhc3l5Hgea2frW74T1a+0i6GovK42/wk/eFZvDqMb3OeVOLR76QRw1AyDVPRdZtvEWmJd2jDdj507qavEcVkrp2ZxtWdhl9ai+sSuP3iDKmvPrvV44JHjlVlZTgjFeio5VhXMeK9BWS4S9towRIQsgx096mVLmkmkWm7HFv4ns0YqSc1FN4phiTIyRW5ceFtFn/dSMyzdyB0rNuvh+skB+y3SsnbNer/AGRVSV4m6pStqjFbxnEzYCmlOvtcodowPWrFz8LdSEO+2eOR8Z2A8muXuxLp+61mUpMpwyntWdfAOildbhKklsXxfHziU5IPWvafAGtReI/DLWNxEsksI2urdcdiK8CglaFfnPWun8IeJJND8QQTo5WNmCye4p4duhO6HFcj0O+13wRdPdO9iWYA8g+nrUFp8PdYuIfMaREC8Hcf1rtdP1tJJhG8qtA67o5D29q0StwbC5ihYyowEkIHVT3FfVrG142j+J2e1nscDZ+CvKmjGrSBUYgsVPAGa6Hx8LWXQbLTdGSOG3jX5iOsh7D3zWZrgv47fNxG6jPJNbXhn7HdrENRiWZ41zAGPAPrTr+0sqzd7dCZKT1ucDN4P1LTNOSaQZmfkxJyQPesh4mWTy2BEo42Ac17PeQz23nSRyRxwty8r9PoK5DxLq2n+HNLW/trGNru4O1HZeceta0sy9zmmi4V2lqcnBYeQrSX/wC7A58s9Wpb7XUEKpHEUi6DjiuXvdcvNRvP3rHEh6Ctuy1i1WBdO1kIYjwrY5WvIxmdq9qav+RjVxfbUhn8Sy2+Gj5IHHtXPahqQ1OXzZ2YyepNb2teHmtoftNlJ59q3Rl5xXNS2SsQyuM14FXFVMQ71Jf5HHKpKo7yZpWU2UV3H3OQa7bR9Rt/EOnGyueJU+4T1FcTEFgtwGGcirFndfZbpJrZtrLXFLe6Mup2OoWJudLe3uF3TQ9D61z2k6YZr9WlQgIe9dlZ6hBqunLcBgJUGHFVI4khkkdDndzWUpWQm7IU/vbpVH3Up2q3qWVg7scYFOt125Y9Tya5nxXd+ayWoPGcnFc0Pfl6kR1Zl6daxyXDXKEsZGJJNZnjG4wiwg10OkwrBCy5yFGa5HU4pNX8QrbRAtlscV6tHWpd9DaHxXNP4d+GW1XU1uJEzEh4yK9wWFYVWKMYCjFZ/hDQI9G0WMKuH281fml8sPIf4RmuHFVvaTstiJy5maHhbSpG1e9llO5FTIB/GvOfFWjMkc2ogYHmkc+lep+AdYW+02/kKgSKCuSOorh/iddLH4JC2q/vTKSwH1r06sLtaW0R3R96nY86s7wRylGPyNU5cmbAPFctBqGCFmBR1Oea6LzxLbpNH2HNZSgcclYbqEJKlhXMX8WGJrsdn2i33enaue1O2wDVRVmEWdF4C11Ut3srh8beVzU3inXle3aCI9a4C0uGs7xXBI55rU1O4Scr5ZyCOamdNc9xtWdyHTeL6M5xluTVvVLNrW+eN+CO/rVBT5Ue7oRXQanPHqWlWt6nLBdj/UV9DlUuZTgduF1uinpN41vdRNEfujDD1r2LTNTmWxidHU7kyjGvELN8XYx612egXc5mtYd7FN/C5r0Z1PZxcn0NZ/Dc63wrFNqHjaWe4cu6gkk/WtnxNEzMcD7ykVX8HbLbx86S/J5iHaPet/xJaFmZoxnBqsvqxlLTZnTg/fTR574YlMGtoucEtivXPFtiNR+HdxkZB2cH614/bZsvEkbHj95Xu9tEuoeFZ4XIw0e4fhWOYLVoWJXLY5+whhsLW1tkUCL7OoP1IBqrrkSfubmMfK6DP1q7JCZrV1jf95bKrfUYqDUFDWEUan5lkJx7cV6GHtHlt/Wg6a6nM3w3Wdsu7G6Q8fnXFfFS1jXTbKWEEFHK5PpxXoJtvtNxbRHCoCWY+gzXE/F2RV0uxjXjzXLKPQcU8wklh5GeI0hc8Rvh/prD6U6FcsBReD/TnqS2HzZr4+T908+T0NCzXfdRj3r0KDlYx6CuF0eLzdQT2NegW0fI9q4J/EczIdTbZZtjjiuWs483GT610etviDb61jafHmXOO9OOwLY9E8GRbInkre1SYw2vlj/WS/oKoeEYQtgzNwByafeTGe8Zm5HQe1eJVV67kQ+5FBGNqoevc0y/u4bW3kklcJDEMuxp8sgj4X72Mk+gryzxj4mbWNUTSdPb/RkfDsP4zXXhqDqyu9i4RudTBqkmrK1yw2xE4iT0FTZy6qPWq9jCIbSKIDAVRU0ZzKx9OBXoaX0Ilqy5ZoZLlmPRa5Xx0uL2E46qa7GziKRjHVjXNeP4h9qtwvZKqMrSsXQ/io4RxxUBBY81eMOaZ5FbXPUZAgIqQA1II8dqeq+1IVyB1NQEYarrITVdk5plEkHSpJFytMhGKlbpjFArEtjHlulbIG1QKoaenPStPGTWE3qcNaWtiCZfkrHlm2SECt2dR5Jrm7hgLg1VLUqiW7ZDMwJrfs7LIGelYmmsCwrrLPaYxWGIk0VUbGfZVFMNuuauOMVC3HNcybOe7GiBQtZ17tVTWgz4Q1h6lNnOOvStqesi6bdzLubgKxxUSzh+p5r1DQPhdZTaJBfa28hlul3qinG0Vx3i/wACXXhlxd2zG4sXPDjqnsa9h4ecY8x22djmpofM5HWqhBRsHitG2kEnHenXNqsinaMGsUO2hmGY1p6Zqslq42scelZTwujYIqa2TM0Y9WFDipKzE9VZnuGi60g8Pw/uhL5qESI479qrSTyvGiFisMY+WMdBUOkLmzjTsEFW2tHeFsDhRya+nw8VCEYo3jFJEEd9ErAIDnvXVXQk8Q+FYY4IxJc2JyWJ521wUKkXLegNbVndXUNwptywBIyoP3vatqtk01ugceqHx3ZDhIs7hw3tWi11iNAj59SO1auteH7hdKg1O2tCk1zgSLGOEX1rkpFeznMDNmuilUhXV0aRkpo62CaLU7N7ObkMMKx7GvOdS0iUXNxbRMPtMZI2HvXZabKw2YGOfzrE8aywafqE2ryttcLsRAerV8/m+Fp6T63MKtNcybOSNlLoluEeItczHLHHQVej2XECs4w1QaL4kurvm+iSZSeMjkCtiS702VsvGYfpXzlSTvZmEpKTtcqRII13PwKf56OMpRP9muov3Eh2jrVKKQElYxhRUSjeJh7LkemoTScmqUilmzVyYbqaEBFcqSiyZySZyGm6ZNa6h+/jdfXIqC/hkstTMkILIx6V6uyKx/0i3B9wKrzaNpt395QrV0wx6ekkVHELqjzuO3TUomMqbCgzmrEFu02muinOzpXZT+E1IJt24IxisI+HdSsXYIpZD6Vf1mL6m6rwve5iaZorXk/mXAwqHnNaV7BBPIttbAbV6kU+WS60+F7eSIhWH3gKj8ODzp5MjnPetYty964pSUYXW5f0bVrrwrqKTQqWtjxIg7ivXdPvrbWNPS8snDRuO3Y+lecPZo/yOucim6LqM/hLUsruexmOJE/u+4olC6OS6loz00rikkcfZZdw3DaeDTo5o7m3S5t2DRSDIIqlqchg0+Rh/EMVpgoupiIwXcdOLc0jkfNUX27g78irMEn+i7D1Z8D2rMmCxlsNk53LVqynEzqp6E7q/QGj27GuL7y7kbX/ANWoGao6h4Y0TxBqX227hbzCPmKnGfeofm+0TRe+SfQVo2eVtU/vMflHrWM6cWtTOUU0cN4k8Ax6ZILuGfdZ56HqlYW/T7dvlHmEdMV7Fc6auq6RcWEzjEgwW9DXk+qeHrrRp2hSHeQcZr5jH0FTmnHZnHU9x2SO18JXZ1XSJWxxCcbe4r0TRNcitLNICjMw/iNcJ8ONDu7XT57q5OBc/KENdlBY+S2GGDXpYO7oKE+hrDWNmJ4t1NtRtYoFTagOT6msq0byQjD+GtbULUSyKq87RzWfJAYV5PPYV3wslyotW2Iru6heYLql1LOHYC1tE6A+prkfifJFG9jYg7ZEUu/zZwfSt6/1fRNOZLy+uMPCcYTls15n4u11PEuuveQ7liwEjB64rx8VVpwThF3MKlo6GONWjt7pQ6htp4qO+2303nwuc+laVn4D1W/UXYtJDF2zxurptP8Ah7qzR5EEUB9HPIrzlhKknzQiY8vWJgeH9Zv9MfZNma1bho35BFbWo+HrfU4P7Q0Q+8kHcfSo7vwd4ktJDm1WVR3jOar2Q1zS70MtrMhH3l28Guapg8RB35TGUZJ7FKSBwg3fLt4INQKQrn5s12F9p6a/amaGNre7UZaMjAauNmiktpHjlUo68YNcrhJbohGvol/J9s8i2zsP3661X6L271y/h60+zW5mcfO9dDDzjnk15uIkuayMZtc1kXHnENs8jHAAzXnk9zJe6wzNyC36V1fiaZ4NNVVU7HOCw7VyFtEYY5Zwd3HFbYWKtzM0jojUs7jZBePuzgYFavw88O/a9RfUbhM/N8ua5zwxZXGqC5ijydzDd7V7HoNkmlaakSgBsc101JOmmluxy93Q2pmWK32rxxisXU5BFpszZAO3jNXJJC7cmuX8Zm4mtY7O1JDSHBI7V50E/aJELc3/AIP3Yvbu9tZWXdtJwO9WPFulIXiTyw8RlyeOKz/AFpH4YmSU8uy4YmuoubiK6tZy7D7+VzXr4nGKpNy8juh71NtHh/xP8NpZTRX9pFsjYYYKOlcXp+ry2YKMd0Z6ivoLxFo8etaFNbuuWKkr9a+d9RsZbC+lt5lKsjEc1lgqvtIckt0c8XzKzOq0fVIptyBsZ6ZpmqR5z6Vx8crwvujYqRXQWN7c6havvjysIy0h6Cu32cm/dDl10MW5TbLU1ud4x6U6+McgDRkGq9u+yQehpPVD6Fm8cR25rY8HOl5DcabLgl1Lpn1/yK5zUZt0gQdKk0e8ex1SCePqjc/TvXZgqnsKim9jejLkkmzUkjay1Bo3GCrZrpNAuBDeIW6K+Qa0fEGhQ6ro66zZgblUF1XuMVzWl3QLBPQ5NfQ1op6dGd8o62PafDkaz/EDTJuqyJn+Vdr4ltGindVXgmuH8ETq9/pF2SB5cm059K9a8RWPnReYBnivEyyp7KSpv7LaIy+ShV5X6HhXiKzFrr0bt91iDxXrHh9pH8OTc/L9nbB9OK4fx3prQ29vcgZFdl4VzP4NuNp62rAD/gJr08dK9md2NiuW6GQOiQp5CBmmh2k+9UNQcLZwzIPmdMEelSaNcoNPsJTKMxOQ49AMirmoWsUR2OQfmIWunDVEox9DCm0tDBSA+Y0IYB2QYPpnmvHfilqIuvFS2ccm9LRBGT23d69rmURyC5UjYOAe7EcV4z8SdD+zaomoxLhLg/P/AL1edm+Njph09XqzkxdVJqmeX3XN5IfeprcYSobjm6fHrVuJDhVA61403ocUtjpfCtnvkeYjgV2VumB9apaDp32TQhIwwz1pxL+6BrzlLnbaMGYmuIynB6HoapabESygDJJrbvrSS5s5iV/d5GxvfOK1tM8J3GkrFdXBRpwnmpAfTrk+1er9UlUpxlSjvuvQ2VOTV4o6KOP+ytAht+k0o3P7Cs5pQvuSeK5uz8YG716RNQOUZ8Lt7kdh7V0U17btJ8sW1tpG1eqmuajkWIqpzbVylhpz1icV488Wf2bA2mWL5upR+9cH7g9K4fwram51hXbkLya6LxB4KEskl1a3ReRiWKuc59qz9CV9Ft5Jp48NnFddbCTwlPlsVOLpxszu1O2Ek8UtsQ2AOpNc4viq2lUK/wAta+l6rZyyg+aox715+qVziszrLKPMg9BXIePn/wCJhFj+7XY2Msf2dpQ4OelcZ43TF1BI/wDEpxWMHeZdG/tEclS7M02RtvSnR5Yc12He5NvQQp6U3Zjk1bOxF45NVJpMA80yoxfUazcVWkYCnF91MYZWg16DoG3NWlBbbxkjiqthbFmya20QKvFBAltEFqxsO6qj3awNg96lS9Ux+9c8ou5x1oNvQbfSeXEcelcxKzPMcetbN3OZmwKqC3A5ranHlRvSptLUdYAxsCa6ezuRtHNc4vyLSxahslCg1NWmpIqcdDtQweOq0vFVLG73KMmrcjbhmvNacXY4pIpXM21DWHITJeRDsZFz+dad3yxqC3tt8yt6EGuulaOpdLTc95Mq/wBk2K9lhUD24rKmMd/Y3FndoGgkBQg9j2NOS4J0K0lUFl8pQ3tgVQupgsjMp+UgEV9lCKcU+56cbHjeq6DLpWrT2wz+7c7T6jtTI1fGH4Nek+K7CO6W2v1HLLsf6iuYk0oMMgV8tipOhWcGckpOMmjmpbcN1FJaWKPfQpz8zgcVsT2Bhya7H4YeDRr+oy6hcj9xangY6tVUZ+0kkjSMkzf0nSwqxRBhwPzrUvbMWelMWwDIf0rQm0tLW9JHA3cCszxLdea0dtEc444r62jJNJnZbY5UQBZDgcE12nhHQVeRL/UQRCD+6jHVzWAsBOFdAF7n1rft31GSSGe0ukQwgKtueBt7142a4uUJRhB6y/ImbsrHo2rG5msVht7qCzLDAQgH9K831TwldQXrXFzdiQyt8zbQBWhrPjW107aqW8c1yo4wc4P1rhtZ8Vavqzhp5PLQHhVrCnmUMM7J3ZxKsqbsty7qNzFoMLnzBK4HykHpXk/iPWLjWbxFmcsqngV0GuXcksAQkkfzrmFsXkuPMfhayr4qpiJc0zok3JGzpMaxQAnjirBb7VJtXpnk1Wtl+XGflFW4SqfdGK8yTXNc82bUZeZoRIkUOMcVQkuFt5uBkE0s11hcCoUmXad65bsay5tSac7SuaBi8yISDvUIVj04qut+0S4PI9KT7XLN80a4FRKPNsbSjGprEr6Jr+qjfBcNvkiOCG71qWni+KVbhr212LAcOV61nXcItNQ8wfK38VR29qk+p3CKMx3MR3frW8qdKpTc7D5Yyjc7LTdRsdTh82wusDuGPStNTMF+ZVlX1FeWWt7HbXH2K3+WNThiOprft9Tu7OLfBKzKPU1zyoJStHS5jKlrodlJbWN2u24h2n3FV4/DFnFIZLPaCewrB0zx2ZpTDfWobBwWArq7K8sL+MPbymMnsafspxen+REoyhuZ8+kzq2VFUbyyLRlZY/0rrNk6rlGEi1E7I3yzRY/CtI1px+L8SLnMaBr0mhXS2l1l7OQ4H+wa6LW7mK5xHE5UqMj3qG40ayvMdAQcipL9YziBEUyBQNxNfQZOqc6jnbVHdhGnLXdHPzwq8PnJ99D8y1Xs38q8XngHI+lXZbaa3kC3K4LdHHQ1RkhMEp3D7p5x3FfXqzPVNG4YRX0xXkvHxVyx3/YllY/ORtjrPjnFwmFOTtwT61oW86rZ2xZflVhWUlpYh9joYLVYFht0Jedxuc/3aydaskuNYFrgF2wAa1LHzppvOJ2mQ4J/urWNomoJq/xUfT0G5bbnP0rwcyi5QUfNHDiE2kd/YaPHb29vDEuFiXH1NJdRhb3GMKoya6HyBGo7Vyup3O25n/75Fa0NdEXDUZBatdb3P8R4qHU7eOy0u7uGTLRQsyk+tb2lwZt147Vl+OQtr4P1GVhhfLK/XNOdVpsJSPm5i18ZfPf5mYnn611/gX4eyS3S6lqQ/wBHT5kjb+M0/wAFeGbTVboX86sIIn+4ejNXpu5hb3LxgKsAwFHTFcOEwzk/ayEk3uRPIQiJ91VI2heABmor2TZcvtYnAFVJJWEURLEiUD+dNmdisjgZL4Va96MDoUS1FdyLG0gO1d3FWsqIRcyYYseciqDxEQxWx6j5nPpVqRsomEIjUcZ7miSXQbQs0Md0hcxpGO2Bg1ha34TsNYt0k4inTow/i+tbwtlWE3Fy5/2UzVGeQi3kkX7wHA/pWU6dOUXzbGU4QadzgSn2eUwf88zg1YWbyoy54xVaQSi4dp0KuzZINZOvagYIREh5PWvzecFOs4w2v+B4lODnPlR01nPFrmmy2tyuCcge1cdrFnLo8Ztj1J4PqKXw1rZ+1+WW4zXU65p6a9phMR23EQyp9a64rkfKzdqzsyP4VpvkvSwHGOcfWvSJlWGEyM3FcD8LYiv9oJJ8pjxuJ/GpvFHifOoR6bZNuZmwcVFRc1SxMotu52Vu4m+ZeRUdzbJJOHYcr0o0mLy7GMN1280txMsbFnIwK4o6zbMyJ5Ai4FSalPjw9DJECHWQbsd64/xL4wtrBGWJgX9Aa1vCetLr3hGRpPvq3T8a1qQkoqZ6OET96L6o6y2ffAreoryv4qeHjBMmp26fK338CvUrTiFVPYVV8Q6Ymr6JPbOMkqcfWualU9lV5jgi7M+aozHuxIuc16BP4XuB4e07R9KQm71BvMf6f5FcNqVm+n6hLBIMNG2K97+H19Z6lY2upjDXFvB5WP7v+c19xl9ONWMkt3b7jspq54jrHhTWNCkkF5ayeVG20ygfLWQOnvX05r6Q6nod3YTAMtyu1Djo1eN3/wAOZ7XUILaOXAYfvHPQHNXisvnTfuK6KnTa1RwcyEuHNXtHtjcXR44AruNR8E+HNJttlzrX2m5P8EXQGqVjY6bpbPtZpNw7HpXMsFXkrJC5JtaI2/BmrpBenTrlgYWUjDdPpWTrmkroWtP5Y3W0x3xMOmPSs6Bfsmpm6VXdc8LW5ceJbK90h7LULNw3/LOQdVr1KNOvGlyVVqtmehTUnDll0Nfw34g+xx24JJXzlwB6V9FX/ivSRpUf78OzKOF+lfJmh3iJMsbOAEbcM13134jeO1iVQCBxuHcVnhcFCpUnNuzuSqVp8yO48V6na6toohtfvqT1p3hXxhpejaS9rqs4iJjKhj0PFcD/AG2ZbaQNgFVrk9e1Nmt40z2r0a2Fg42bOipOU48rPV/D99FcaRLGrBt1y6qwPUFiRXTti7kWSdwqNECSf4fWvIvAuoeZZRxM5B835STwDW/4z+I1hpkIsrdxLKnDqleVTruEnTj0uSlZHSPMLqQsnyxKSsY9vWszxH4dl8QaJLa26B5eqZPQ15s3xA1fWbmO206IQhiFAWvSNK0TU3gT7VduGI+YZ6Vxwyetiqzr1ppHCsDUrTc5Ox57YfALxHeTGS6urS1XOcM/NdRZ/AGO3aOS616I7TyFruoNEkXGbtjx3JrRgsJYY90mJUPTmvUlltG1ua5tLBrqzAuvh/ZpZxxQarGUjHzDuaxPEFtp+k+HbiGziZ7k8CZh8oFeh/ZLVk3eWq+ua8++Kc8lrpawQf6l+SRWeHyvDwkrLbUiNCNPY5vwlJFfL5mozIljZyb2Qn5pXxwoqx4v8b+Zb3CRqqXN0uwRxcsF7L7CvNFurqFWSNiit3BqxY6pPYQyCO0R5pOPtEpyw+lZzxUfbOKHJuK0JvDPhzVtc14PGnlrB8zseBGPU1218y29ubewZSQSZrtzw3sKt+DfC1ze+Hbi+vNfgsYpeTEDy/1rP1vTtFsNNWS41aS5uNxxAnTFetg5wtuaUpKMbGTNPHtBEm41m3MSTSmOVl2TcAehqB7xXk8uMeVFnv1pLmaIQkoCcDj3roxVKNem4M0rQVSLOe1TRp7CdvlLL2IqhHNLGflYqa9H00pqtgjTKCSNpzWbr3gwxoZ7Jc4GSBXw0nyScJdDxebldmYth4mv7NlXzSyDsTWhrfiY635G5dpiXFcx5ZSRg4wR1FSQ5Yt9az9nHm5jaj8Re3BzmpvMG3jgVUVeOaaxdjgCtDq2J5Z+y1Dyx5qSO2c9qsLaHjNMaKmw+lTW8BduRxV5LLcBVuK1C0hjLeHb0p9xKIkwOtWWRIlqq6qxyaCTMkV5XzU0UDtwM1fithI2AK17XTlABIrOdSMSXKKMOOwPVqebPA6VvS2wHSq7RAHmueVe+xjKqYctqSOmKqnT/myBzXRmIN2pht19KI1rPUj2pnWpaLArQFzhcGo5Lc5+UVGY2HWlNxnqJ2kMnfc3FT2akc1GkW44NaEMICjFZydlYiSaO38Kaj9q0t7CQ5Zc4z6VFIGaRYycFWIIrA0q4NhfxyA4GcGur1GNHjS/h9twr6zK66q0OV7rQ78PPmh5ooal++0aePvE4YVz0bcc10BnEv2tSQVki4+tcu0m3I9K8nOqdq0Zd0YYlWmn3HSW7XtzHbQLuklYKoHqa+iPDXhy28MeE4LONAJdu6VvU15z8J/DSXt82tXqbo4DiEHufWvTdf1FbXTZJGbkjC1ngqTVu7Koxu0chrd4gmlfOAn6mudsIDcu1zLyzHgGmX1y15cLCD1OXNb+madujQ4+WvpZzVGFj1NlqZupQfZ7FpwuXA+UHoTXPi7ubSRpRdea8q4IA4T6V1Pj2OCDQI0cuoLj7hwa4yAiS3Ur0Ar5PM6spTVjzsRVaj7vUhZdzljySck1DcScBMZyefpVmQiNWduijNZ1v5jW811PwD92vKoJ85wUlrcqzW63N2Qoyqiq1xpRb7p49q0rHBQseSTUkrgA1tXxEvaNI1qVpc1kZMdk0cZzVV38tiK1pZdkRJrnp5t8hxU0pyle5g9XqSl9x5pXmVF61WUs3So5LaV++BWvLcVhDc+ZLgdK6TThGLbkc1zcdt5bckVt2kgWLGaU9rI0jK2hb1m3i1dFKMIpiv3h0rN0yVtHvUhvF3Fjt3VHp0sjxTqxJKnIqfy/7RhaF2xKnzRsfUVVPmhFx6GkW7WKGpw2sGtMqJtdjuHvT7q7aG0VFP3mxUuqQ7pLadvvBdrn3FUbyMyrgdQ2RWvPeSY+b3lcs25VVyFG4966Gx/dW6joTzXJxecmoRrg+WetdXG4wB6CuhNJ38iaz0RfGq3VtjypTj0Na1r4g8xQLqMH3Fc3IQalib93U2TOW518UtpOytG+056VV1lVM43AgjuO9YQkwgKnBHpXSW7x31kk3lCV1GGyele1k/JTnJHbg5JTaMpJJLYYnHnWzepyVqveWwZDLav5iDt3x6VeawN05CfuyOwNRSWk1muRKjeoHUV9Qmj1kzEtZfs9wvoW/Stldv2lbcHIX56ydVtHCGRF/dsM7l7GmWOpLIqCTiRE2sfUVbV9UPc9T0W2t47ANu3Sspd89q434Y2ol+KerXqj5AXA/Ouh0JpYtMlbkySQM5J7DGBWB8HFuU8T6n9pQqGBYE9+tfO4yVqijc4aujsez3bBbct0wDXnFzcmfUgufvSH+ddzrlyINNlbP8Neb6W5n1yPnOOfzrowitByNqUfduek6VCRCuemK5n4iSrc2yaKrAyXHLCuvsyqW4Y8Koya8zkEmseNLzVCS0VtnYM8HFeXXlKTUI7yZyVHd8vcdaWNtpekxWduMGJwDjuaa9w0X9oxFvlbCgH1qOWXdrFuqZPnN5m3/P0qvdnzdUuGP3EfJ9zX0NOmkkjrjEkjHzbn5jgTA9zSwkytGFGccj60LDLdRpHGCEzkn+9VuWa2063MasDMeuO1bPt1NCWKMFjvIwOXY/ypsl2skuIxvC8Ko6VnmZrjC4bYOqp/FVqOLy1XzmCL2jXqalxtuKw1hNNJmeQEDpjoK5rxTfGHy4LaQgk5JBroLuR9wO0LGOFX+tcHrl2bzVmAxiP5eK83NK3scJJ99DkxcuWlbuSrrSxwFtSQSIo+93qHUNL07xPphl0aYfaUH+rY8muc8RSTJAsaqQp6mqOnXMtiyTwOUZOeDXxdKk1Dn6nHSg1Hm6lbT7Gew1RkuI2jeM8gjFdrZartRJ0+6DhhVqS6tfE+iNLFGovUXqBya5TSJpd01rOu05IINbTaqK4pJu7Os1HWYtFsZZbDiS94AX1/yad4Q8MyzyHU9RBaRzkbu1UPD2mrq+rpDcHMdqcjP+favSoprdcW9sRhBg4rCc+SFluQ3oLcXUdhYPLIdqqK8o8TeO3lkeGyb2yK6z4kagbTQDGrYZ68TyWYk9aWCoqSc5FU4q1yWe5lupS8zliT3r6Q8A6dptj8Mw4tiZ5V3eZ7182RIXlUAZ5r6i8H3ltc+B4LSNcMkeDxWWcVpUaUVDudMG4u6K+nzs8Ks3Xoa0AQVrJs3WFpVchQjHrXRaQ0MWpIskcd0HXcq7ulTg8BWxj5oLTuYQoTqyaieO+PvBOoahrSzaRZvM0vUKKn8I+A/GGgXQuEkjtVI/eQyn7wr3eF0kFyj2U0YbKrIi/dqG6FtPplvFfwzLImQSo+ZvSvoJU5YKleMtV1PRjh4w0k7nJH91NDHdBdynJAPQ1m38Kz3Em3lm4yfSp9f+2afqJkggMkewBHkXGR7+9ZK6hJEgd0JbPzDFevl+dUsRBRrtKXfp/wDVxseZ+IdNNtrk8KEgA5+lGjp5V2FZfM3cc10filYr3VEntYGUsuH46mqVk8ekMbu5haUr0RRzXZLFQhL4kCsjUk00EfJFnjpisy40aVsn7OSPpTp/iUsbhYdNx/vVnz/EnUHjb7PBCmOSpWuepmMejNPbNLRFC90x43J2GMjvVzS795Ija3By44BPeqMnj+4u+LqzhIPBwKFurTUPngb7PMp4BPBqKePUZ3KhUU1c6GW42IUB+bbgiuc1a48yNPWtAyM0avJ98DDVj3YDZ3HGD0r1alRTjzR2YTTCPW7iysTbWrFWc5LDtUFnplzqU2cPJIx78k1NZWYYmaRcgcAetepXq2vhLwWt7FboLt0ADEcgmvmcRjIUZvlV22ZVqqpJK12yp4R8N6V4dZb/xDqEMEnVYyeRXeJ448LRuFh1RZPXArxDTvDupeIblr6/ka2tCdzTTE8/QV1cN14O8Pp5cCfbLheruOG98VjPMqkNIq7GpT7nqdt4q0Wbi1nZi3faasz6wbW3EsDGSMDO0CvHLr4pLbPs0yziiVeBhRXW+E9cvtesXnnuMZHCqOlZSzuvRXNUgmjKWIjHdnQ3PiyOeyzDlWzz7V5/4r8RDUbU2ZDSHPJHat5JYH1BkZAsm7n0erVlpWlarJOIrP/S4nAZCMY98elet/a1Wrh/3FPV+ZUa0Jq6PIY7GS5nEMG4ysflVh1robP4e6o0kU2o2ssNvuG5hzivXdO03Rr7SSYrNY5oycqB8ykHGVNWYNUuNIIgm/0+1k5KnqE9R/hXyM69ZTs42/Mt8rDTZbfRNMSG60m3vbONQC8QBY8elcP4t1LSNWjmn0vSZEcDaqmMDy/eug162kib+1dHmdtPZgGUHKqfXFcR4t+0fa4LmZGiWRcG4h+6496+syiq5RV3dnJtPU42WB5GZ9vC9cjFVmnRiFI2KOuamluny8OcoD971rKvLgorAY6V9NVklE7W9DqvBQE3nRr91HyK76G3Vrd94yCMV598Ntzy3RbngV6asfyIg79a/P8xf+0SseHiP4jPPvFPgb/R3vLIfMeSorhrK0KPIk6lWU8g177dEMoiPIxyK8r8cRw2Oqr5Kgbxk4rKhNyVmPDy/eWZhtEi9Kj2DPHFV2vCegqIzyMevWumx6ehrR7V+8RVmHY7Dnism3geUgsTitq2hEa0hFxRGqYA5qvLcLECTSzTLCnXmsieYyueeKBFiW/LE1U+2NJLtWoZDkELT7KLEmWoeiE72Ok0uJnALVvqoWP3rM0htyhUQsfYV0cOl3EoyY9g/2jivNlCrUl7qbPPkpSehkSKW6CofJNdC2kT4+RVY4z8pqjLbtC37xCv1FZSp1YL3otEOMo7ozBAfSl+zVe2Z6UFQOtZczJKQts9qq3USopq/NcrGvWsW8vgcirpqTZpCNyrJcCKTrirtpeCTHNcveTM8/BrT03dtGa9BUtNTq5NDpwQy5zXS6Pd/atPaBjxjaa41WfZVvQL422reXKf3cn867svkqNbyehVL3JGx/q9QW2bgA4PuK5WaRzqxtV5ZpdoA+tdpcxgaqssvy+ZHxXM6Tbmb4oxxRjfGr7zntxXo5lGNRR7o6K8FJJn0B4btE0jw3bWyLtbYCw98VzXjXVf3y2qvwgyRnvXQSXyxxszH5UXJryjU9QbUNYkfduLtxU4OK5ubsXh6et2a+i2/nzeZJ/Ea7vT1UKOyIM1zGjWu2NeOSK09d1BdI8OzuGxNINiD3NRiK3NJvoh1pdEcF8QPEr6nq32SA/uITjjua5631QWiqtw+1WOBmnyW+CZJMtIx4HUk1paN4L33C6l4hPTmK2B+79a8zD0J42fkcSXtXboVL+ae5hWG0gkcueSF7VYmstQmsUg+xyKFHPFdxDexLGTDCkccYwML1rS0mdp5N0/HH3cV6NPKI09bmkaCgjzO0s2h+WRSpHUEVFdgK3Fd747treAWtxGqpLJwwFefX86rXzGMoujXcL3OOouV2Mq9kL/KtUVtgDlquw4mmNRag3ljjpTprogjG+okUas3yiluQUU4FR2My96tTJ5tdGzLsjmru5kR+BTE1SZFxg1rXFgGbpWdNabXxit4uL3RS5Wb1lJHIHePALjBWqd601q0UwyoVxk+1SaVGF3yK2UA4Nbul6QNYbbfZFsDzjqfpSw9GdStyU0Zxvz2RVa5tLuT7MSN0ihl+tZEv7q4ZSa9N/wCEd0O1jjuILQHYNu/OcfWqOpeGdHvsFlaB26Oh4+tepLJq3xRaOh4ae6PPraVprpE9DXQooV8e1SP4CvtMu2uLWVby3A3Er1A+lMX/AFh9q4a9OdKXLJHLWTTSYrDPSpIvu0gGScVJEO1Qtkcr3FDYXJq/pmotYzE/eibh1rIuSyRkr2NRR3L9cU1VlRkpxKTcbSR6LbSQ3aD+z2RO7O3Wq93pCSTeZFeAyY+ZmXiuRtbyWBhJExU962ovGX2GMNdWSXCqOo7V7+HzWEl7+jPQp4tfa3H31q0K7bbExYYKqOv4VyF7ZyWGoIXjKjOcEdfau3tfHHhmZla7WZJD1IHT2p+rSaB4ggC2l/EjHokhwR6V6ccbCSsmd0K0ZLQj8NeIBcRPasNrfZ2XB7Dmo/hDqMs2tajbzr/qSQG7/SuHuWudD1Tzi+WHGc8EV1nw1ugmv3syD5Z03HHY968vESjOadia1NP3j0HxpqHk6bsU8scVyfhSQTau7nopxTPGmqiS5hhLdMk0nw/HnSPKf4nrui1CgdCjy0j0HxJqR0zwddXEX3ym1fx4rgtPlew8NQNuy8zZf15rW+IOqqPselBgA/7yUnoB/kVyc2sxvdRiNdyRgAD6Vw4aCliOZ9EcNOnzT52beszfYbqwjjAM/k/Mw/hzmqjSwRoGlkxGvLc8uaxrzUXlleeWb524wOSR6VHb2891MGPCnsx619HTguXc61a1kbY1l2IFt91hjI7CnQ2/nSfdMz+3SpbSC2h/4+VUkdFHAq+LtVA2QLs/2DScktIoWxDFa3EZG4iMH+FadcRmPhYzv/vE0k99AY8bHV+1UHuY5T80kisOtSlJ6sNSlrV9Jpti00oJkk+WMHtXDTXP2eJpnPzk5+prq/Fbq8dvCZd5+9z2FcNrMMjqHiO5F6gV8fnFV1cUqV9EeTiH7StZ7IvR6/HcWgXUbVXXOMgUxbHSdRB+xXAjc/wMaybOUT2kkLD5scVhTRyQXO5HZTnsa89UlsnY3irpo6g/avDP7xMld3JHQirdwgvbcanZrgnl1FZ8esslvHBeL5qMMHdWnDcrbW6m0XdC3309qyd+pyyT3JLR5oYpLy0co5XnHeus8DieWCSe6bczGsGzto0gco2YpOVHpWv4NvhDdT2bngfMtcdWb96JD+E574q3++6jtgenUVwFtZzXLhYkJya7PxLanWfFEhY/IhxV3T7G3tpEjjUEjvXXSqKlSUVuaJ2ViLw/4OVIhPdDLH1r1mz1TT9C8NRrGm64bhY1HJrlXuktLXe3RRwvqaqWMl7Pdi5PynHy/NgLXbgMneZSVXEfAnt3/wCAdeFoyqPmexum2kv3WaWSVA5y424C13GhaFN9j82z1a2lXGP3gCkVxmn/AGu7YtNqsdvtOQrEfNWzp2m2N/qi/b9RzA3aOTYq/wCNfb1KEaVLkhol2R67ioQsju4ri50SEw/aF1KOXAMSH51PoKsTwGREkeMWzZyAWy1Uo5LGx2Wug2RlZjhrljwB6571NIZriYQDc0h6t6V8BnFe3uLqckFd3KGpwQSkQXC+fI33VzzXIa5o6W67tvkDuD1ruJ7S3t90dufMuQPnkbnb71i3GlpNN/pBaaZUL/N/Co7mvlKdSUZe7sbWVjzeexlmIAU7VOScdqydQsniiDjG3POetd2ls88m87mjL/M+OiHuK4X4s3cmitDplsFQud/mK2Sy4r6bDwqShztGE2oq5zN1JaTSHcqKR1461m3lnazxZjaNCehrmZry4WbmQkH1p6ag3/LQZ+hrtUZpaMxVWJLNpMqP8kiNnpg1cs9LuZEGMBu4zzVNZ0mb5ZCD71t6Y4lzHI+1iMI3pVOdlqbUXBMt2MrRzCC4IPy8H1rP1BlW4J7dxUd9LKskW4FJInKk+vvVa6laaUA+td1LFyVJo6bpxNfwsr6v4otLQZ8sNlx7V6h4u1rRreCGO623DwnKw9gR0zXmvhaWXSLu5voF3SsnlxjGSSa7bw74Fkvpf7T8RkuzncsP+NeDXlFz55M86s4xl7Sp02Mm2g8QeNJztxbWOeDjaoHsKt+L/DOm+G/BshgTfdOygzN1P0rttW1O18PaW0u1UjjGERRivHvE/iu98SKIX+WIv8qilRlKc01pFHDKvOrLsjl17V6z8LrphZzI3QA1wc/hm5tbFbl+hGa6bwDqX2UzRMMEipxbjVpPl1JlqjqH+e+Zuh3cGtWTVhplu2oWiEX0cZWX/pqmP5isqI75SfU0zUpSnT06etb4eu6FRPp1FTm4SOy0a5hl0m2uY5CjTguuT91+6n6jNLNqtoLiB4X+WQb1B/gP8S/Q1w+naj9h0K/imfMaOs0PPIJwCP1NY2sazLbxPFB0VvMU9wrdP5V9HVw9OvDm3O933R67p2p6euqT2SAHTr1cMh6Ryev0riteuZfC+o3OiXiLPbTAtCH6KfQVneDvElkNKkjuZd90UKBT6/eBqh441g+IfC1lqdwCs8LGGQj1GMGlRoRpyTiiJXb1OOvLhYmZY1xuJ3A9qyLucOnAGDT7vVTdQJuwHQbSR3q34V8OXGvXy7srbIcux7+1elXxMYQ5nsdEpqK1O7+GemsmkPO64Mz8Z9K9AjTE3PQCqWmWkVlbrFAu2ONcACtJflt2c9TXwuIre1qSn3PIqS5pNlKU/vHc9K8m+IrZ1SE/7Jr1O4Y+Xx3rzL4gQ79QtfXac1tQ0kkVhv4iONjUvV+3sSxDGprSzwMkVpKgRa62etdDYIgi0st0sKnnmq1zdlBtXrVMK8rZY0iR81y8zZPSoTJ82KldNi1DFG886xxqWdzhQO9XuMnggaV1jjUu7HAAHWu40nwB5Kx3ev3S28RG7yh941b0PSbTw1aLNcqJtRcZ56R0Xtyb3Jnmfd2ya9XDYHmXNMtK5dk1aw09fK0xEVBwDjmsyXX7qVj85+hqpHaEscOM+j8U6WGRPvweYp/uc17tOgo6JWNkrLRG/wCHZ2ur5GuJZLWT70ZYfIx9DXb3kVlf2UepzW6xxwN5d1CP/QhWR4Euru2geG68PTXtnJ0Z15X6V0WpaRp0mnTvp0l1bNJzLbyqduPSvLxTi6nKznnK8tTEvfDNhdEJYnyiVLK/ZvQVx1/o99BG0ijfGDt3D1r0CwljMS4OMdBU93ptvqVqYWzGDyCp71wYrKoNc1NakvDQep4nfC4jbbLG6Z9RWRMnXJyewr2W38J6pfayF1h4XsY12xsByR710uj/AA/8NadcLPcW63MgORv6V51PA1k7ONgVFR2PnS18N6tfzbrbT7iQHoQhrpbLwR4hiUbtKnAPqtfUdtfaXbqscMEUYAwAqiro1GxcdU/Kuj6tJKzQpRl2PlK4sbixYx3lvJEw/vKapPFvkDJwVORX1be2OjakpFzb28o/2gK5PWvhtoGoRs1rELaTsYzxWEqEomfLJHkd/d/aNFt7scSQkK30qh4OV5PG0t2B8vl8mtTxZ4S1HQYXCHzrXuw7Vk+CJmF9PtPG3GaJVJyfvHWvfpo9A8SaqLTQZMHDynaK4bRf9JvwewNP8a6oTJFbg8KMkVJ4RQN8x6mu2nU9nRv3OqnHlpnoelYVMtwAK4rxH4gOtaoY4gwt4G2ouPvH1rc8T3U2m+EJ57VtsrfKD9awfB9ifKW4vQuXUlSx+7x1rjjB13yX33OCUXK5qafo62MMN1eJvuZuY0x9wetTYe7uHEj/ACA5Y1HJfPOPNDMxjGyMDv71La6bem33XOIt3JBNfT0KcKVNQhojWMVBWRJGpeYLAv7pe56V0FrHBY2rTytgAbix71zGoa1YaDa+dLN5jjgIvc1yc/jO/wBfk8ojyoh91R6VzYzGQoQet2ROVlc0PEetPql80jEiNOEHtXJXNyk0hDNwKu6nJLGoDjHHaufaXLED1r4qbdWbqS1bPOm1e71NCCWKNgwyRmo9Rf7XxFge1QI+FqRY/NwVPNbQ01NKUtNijFFNC3zAgVqQzErVeaNx1bimbzGvFaOzIm03oW3ORlqzbgZkpwus8NUUh3NkUndMSTia1hAA8VpAMiRufauxtGig2qmVCfKMVg6JbKqz3sZ3eUuF9jWjhGCknDHkkNX1WTYdRpe0e8juwkN5M1ZdU25EGAcfMcfeHuKotqoJ2xqdvUp6e4qJsbSY3EhX1OGFR2/2O7uliuJDaO5wJuw9jX0kYRSvY9ZRSV7HQ6HdmW2mMU+8R88dV+o9K1bzwXb6xp/9o2JEFyxw0f8ACWrL8OWtm7XGW8ie2yolTlZB7juK6/Rb/dp81tIgikh5/wBl17MK8XH04VLpo8zERjLoeXy6NqGmyyJfW7LtPDAZBpttA00wSMbmJ4FenvdW+54rvDRSfeBGdvoR7Vk+Tpun3CO8KpOAQNv3W968WOA5pJR2POlhm3ozh7izm3NGqZfoB71e0nwdeTkfbHSMeg6mughsBc3G/oWOa6nTtN27d3auuWX0YrXU2+rRirNnPWngG1kTG5z65rWh+G+lvHslDEEc811MUccKcsAKR9Ts7dcNKOKy+rw+zEFRj0Ry5+FHh0D/AFDfXNVrn4Q+HZm3YkjcdCprornxZbRqQgLYrCv/ABpKFJjVVHqTW0cLN7KxvGi+hg618Krd7QpbX7naPl8znFcTpq3ngnX3t77/AFci4Djoa6jU/F9/IG2zKB7CuD1/Uri+Q/aJGfByDt6VVTDTSvc7I0pJWbDXvEH2zUpHDZCrgV2vgC/htNPEs7hVVdzEmvEpZZWuiikksa77wnZ/2gVs9QuGghYYIBxurP2k5R5UipS54uKLviHxAviDWpZgSY921AD2FWNO065u/wDj3XZkY3Y616Jpvwz8OtbKYt+SPvbqiuvh9rNjKH0HURszwj1lGTpva5xSqqCskc7BoQjYKyIQo+aQ5PNX7nTPsiRlo1kjk+7JEentWzIdT0yFTq1jvdfvSRD71VV1vRtVneK2uRbNncIpOMOPSvVpY6ErK9gjiE9NjNkURxh0lWZOhUjlaiQptxyu7pg1q3WnxvFJPI0ayHByrcGq00ljbQmSSWJQy87m6Gu9VE0bcyKawTS5G/O3kA96r3d5FpEDT3W1mI+RO5NZep+NLa2g8rTf3sxP+sI4FcpNeT30rXF3KXY+p4FeRjc2p0E4Q1kclbE292G5Hq+rSzTM7nMkh6DsKrGRkswynJ7ioZygZpXOfSq1rKX3gn5Sa+ZqRk488tW9zH2doeZNEsc2ZYfkfuPWqFxHHNdAs2xs9D3pt20sD7YuKltWS8GJ1xIvQ+tON7cw03a6I7gBpAueVq2+ovY2qMvIzyKzHRxqBDHAzVi+2+QI26Gm0tLiaTsjqdI1BLuBSp4/u1pWJNrrBl6Aoa5rwdEpkdSehFdBrdxHZsGB7Yry6ytXcUZSXvNGfLchbmaTPLMat6OWlmMhrnEla4fjua6qyT7HprSnrjiuynRdWcaa3eg1FyaiixLK99qYt4V3pCMt6ZrTstNaeTY7Fc9OeBVfRLGSK2MjYDOclm61uxx7WAjDyn0UV+mYShGlTUI7I+jowUIpIltdNeK7j+yW63MiH6g13FtoaNbWsviZbeDDZitoANzt2zXDXGoT21k9tCrLLIflCHkGu08I6dMtxBPq0rT6lIP3UbniNfWjHKShe9vzFiG7HdLbKkIZY1RcY2KOntUcxTTLRpwpM8x2pmrsquhjijYfMwAJ7+tVntze6+ZXc+RZp93sW/8A1V+ZY/CSrVuZHnwlZGWLE28ojkfJ5nuXPfuB9KzY7e5guNQmm+eWSLzAP9jpitK8uxc6He3YDKZpjCpx1AJAqbVnt7W+027d8RsPs8o7EEcfqa3weWKD5poqU29Dm5RFpNqXKh9MntdzY6xnHNfM3jbXP7c8SzSxsWhjOyPJ7V7V8StUutI8P6pp4PlpGzCMjurZOK+f9J0y61rVIrKyjMk0zYGB0969bFLkSgvU56zfwlCZNy5qvmur8VaFD4duhZLJ50qDEp9G9BXOqkU+QPkf09a5YxdjJQaWpUzV7T754Z1BORnjNUnUoxU9qIziRT70SipKzGnY67VD9qtEmjHzAYb61W062N/dRRFfmyATUtrOph2P0I5rfsdLEVn9viI4H5V5kqvs4tM6o1bo6bwZotsmqzKwEn2bHX+9XoTMFzngAV538N2eW+v5GJIzyT3rtdZuvsmk3M542xn+VedVu6ljyMRJyqHknxA8RSajqj2kTfuYjggdzXJRzCCaB2GQrZou5jcXksrHJZyf1qMYN1CrdK9eEFGNi4qysdXqni2O6sUgC42jFU/DN0Tqh28BqxtUjRJF8voRWj4SXdqdZRpQjT90Vkken2Y3YqDVFPOantOCopmpcq1cz+IyMDUFzYnjO3kj2rk9evne48zOEZVTAPpXdpZT3iyx20TSHyznA6V5hd7mWSOXh4nwa+qy2bnh3F9D0sO+anZ9B0d21rqPn2x2bR/Sn3WvTzae9kWLIz78e9ZgYlmzzxiup8GeFf7VuTc3YIt0P/fRrpqSVGLnJ6DlaKuyt4a8IXGsTCe5Ux2oPJI+9XrmkaZb2EKQWkYSNR270kFusSLHEoVFGAAK07ZNi89TXzOKxMqz12PPqVHMsIm1QB3NTXY2Qqgp8Ee6RfQVDdvvuD6CvN3kYszLk7UJPRRXmmr3aatq0mOfIOK73xHerZ6TPITj5TXk3h2485ryVjks+f516VCN05HThY+9c2FiVBUUpLDC0PLlsA08AKuTWzPTSuUHg5yaVEAp1xOq96pmWSXhBgU1cdyWdkArqvh/oYnml1e4jJjh4hBH3mrn9E0G513WLewtwS8rgH2Hevf7Lw6miWkOnxxgxRKASvc9zXfg6PPPmeyM27uyOPbS57q4M0uIyeisKc+jrbfvCsch9CeldlcWtuVZpd/HrxWLdQ2+Cdny9txr6elbodEVZHKXKwySk3EXTpitXw34d1G91q2uNNEYjDfdkORU1tDYTXwjuZQke4bjnGBXodn4l8JeHdiQsss+AEWJcsTiljMR7KHLFXbFUqWVkdVZ6dqEdtGJpYkkUdIxgVW1PTZJLWX7RcRjK4JxWbc+I9XvE3wWos4v4TIcsfwrEvNPvriFn1HVpS78+TAvNfG4mpUjG6RzRs2YF5p0th54+0RsiDKMhrn5dfuYVAeUjHpXQS6K9jHJJJI37wYCSPlj+FcxqFjIScR5969vL8bKthva1Wr3OyLFk8XXCphJWz9aq/8ACYakG+R2aqgEUVwkV6gUE4BWuos/DdpLGGSVHBGflPStXjIte7YrnSepix+NtUU/xZz1NX4PHGpnr/Kuis/B9u3zNHvA9q04/CNr2h4+lYPFvsHtoo5qPxhdvjzOPpVyPxLekbkmYfjXRJ4MtCchP0pJfBMRjO0EfSoliYtaoarw6o5e98UXEtq8V/EJ4mGD9K8782DSNbaWxYiGU5Kn+E16XqvhK4iVhGxIHrXlniuwlsGZnBBHevPq+yntozVezlqjL1/VPterliciux8IzqIkYV5ZaeZqGrpEMksa9W0XR5Le2CoGBI60eynUgoxGvei0hvjvXvtXkaXasGCnfLg9KtWFpNe+TLC5itxGPMycVHo3w4n1HXGaXUFRGOSXHJrs9V+DuoXOl+XputNG6rgJjAaojCpSqpyWxzSap6Pc5mfxFYafOltblXYdQvOKwNT8a3U4eLzGSPdgY61l6p4Y1fwrcvBq1u6Sk/LJ1DfjWBeXHlpsX5pCeaupja1RuOxzqXMy1eXhvbjDOWVe5PWprK6WGZSOKyXkJiXC7T3qNJzvArinHmTuKpdo6rU5/tFvkHPFYUa5atODMtqM+lRJa/ORXnq0dDzplR9x4WtCwjK/eqRLQCpQmzgU3W0sgVSysNuIt2cVUaHKkVohcjmmSQ4HFTGr0ZPPqc3do0L7hT7ZZJ49yLkCtG4tBKcycL3NUpbk27eXb8IP1rtXvI7YxU43Z1Vqn2Lw0FbAM8uQPUDNIk8S4BUZ7AGnaoP9CsUQlI/LzTLVAuMhQD3Nff4OmqdKMfI9HDxUaaLQni8o5t2z2YVHO8DIuyFjuHzBx0+lSufLHyNuHoahuJZF2FplSPqFU5Ir0kdbeh0ul6TPLcQT6E4QRLmbccpj0NdDJNfvbwqNMxGFzFJbtkH1X6Gs3S2tRoASwsLiK7ZSfNLbVl57j0rodHnvbSyg/tB7KzZRkCP5q8HGVbN36Hl1JNswLhZ2jNzNBcWt7a8ojL8sq+9XIp4dS0WGaSMGfPGOgrevb2KYZmu5LxJBjaqbVrH+xCzhMdqAqs28Ie3tXHgcXTrKUPtJiSstQtVePG1cH3q/HPMjbjNtHpWUJ7qUHYm0DjNBimOMsWJ7V3yS6lM059QULgyPIfQVRcXV1xFFtHqa09P04bVMnzH0rfttPDEbEArndZQ2FzJHFroF5P8A6xiAfSrEXgrzMeZk134toYVzIV+prK1XxVpekRtuEk8g/ghTNYvFVHohe3fQ59fAdpj5kyfpVTUPAlgLdvMWNBjqxAplz408T6q7romkC2gPCSz8Ee9c14he/gsTHqd891fSD5ir/KmewrnnVqPuyo1KknozhU8HxX/jC4trJw8cZ5K9Aa6E+Gr7SSN8ZliHfuKyvDc11oWrNeWiGQsOUbnd617joNxY+JdFjuoQpJGJEI5Ru4ow9XkeqNvbOG6OH8O+ILuwYKHLxA8q3UV6Rpmt29/GpRsP6Gue1TwcgZpbUbW68Vl2yS2c4SbMTjo46GvRlGlXV47inyVNUelMwkT5wGBHQjNcP4n8E6TqyvmD7NKTkTRcEGtfT9WkRQlx8w7NWjIVnjyCDXDKjZ2krnHKmtmfN/i7RdZ8N6its93PJbscxyBjhhWNqbXJaFXeRxjJGTX0D4h0+31G3ezvIldG+6xHKn1FeR+MJ7bw9CdNhiElww5mI7V5mMjUpSTg21+Rnycut9Dko23N7CnPdeYTCvGO9VgZYoPMEbEHuBRaxXOoOY7aFmlboqjmuKlSblzEUoa8zIZ3ZFKu24dqS2ZlU8cGtuTwLrqRrI8CtkZwG6VHN4e1O2gzJZSDA5wM11zoVLXcTaT0M+ZfOhD91qtExRyasq/lvslBUnggiq04McnHSuaN43izCL5boJozMyyg4IPNQ3oaTCqakiukYmM8GmOhlJ2mqW6uVHRq5u+EIz5jA9u9T+I38yby1PeqvhY/ZFuGlbp0q09ubmbzmOcngVwVF/tDkS7KTkN0ex3zIMV1N5ERDBBHgFn7/So9CsNqmRh0qzcSKNRhAUll5HpXp5R+8xy8ky8N71VGvpscEab7qU716A9K0PtrOM22IkPV8cmqKWLSsrTEsOuBWlhI8JGo34784r9IprQ+iglYimjMLRpDzLNggnqff2rsNNv7Wwms4lDXd65AeVj90+lcv5SQoCHyT/GaNNnli121mdsRxMWwe/FKtTVSGvS5lWjzRPcYkRplEinMKZ59aqREw6XPc9TM3T1ycVzel+IrvVdM1SR3EUix5iJHUAGrb37NodiTMsaOw3nPQA18lLCzjKz7/wDBPL5WmWryRV02KC6RY4xcKq4/GuN8UanJd+DoUZ9slvd7GK+o5H9Ku+K75m0O7cyZVLpCrj05xXHyTrd6PdRByCWWYAnqcgH9BXq4PCaKb6P+vzOmlDW5y/xZ1qTUNChW5ULOqgO4/wCWnHBrK+HfkeFdEfxDcBWnulaK3z/AcdayPiLqYnaG1jbcFGSaj0/U7KP4ayxXW5rmKXNvzwOma8fF8ksTKK6HHVadXQ5XX9Sku9SmnnfzJmkLE/jVIlWUSDqeagmkMs7SOOW60QHcSh6GuS6DfUmvU+44/iHNQ2y7phnoKkuCVhj7kVPY2peMyEdTWFRpIynojYuLKa0jhZwQsq7lPqK0bHU3Fk1sW49K6vxFpAfwHYTKoEkCDJ9iK4OzhaW9iizje4X8zXly5ZpkQldHrnw9042uivcOMNcPkfQVhfE/xDPalNOtm2h1y/uK9C0y2W10+CBBwkYH6V5R8WLZo9ahm/hZcZrhw9p1rs40+ad2cGOaiuWIuBjsKlQciq85zcN9a9qO50Ic8rSY3HNdH4MGdQJrmRXWeC4yt0zGoq2URS0R6Lb/AOuUe1R6h94g+tT2wy4NV7/mYD3rzL++YHceBLOAeH7ybH758rnHbFfOniiI23ibUI8YxM3H419FeBLl4tHug0ixxhuMjOTivCPiNaPb+Lr2Rv8Alq5cH1ya+0wEf9jTR6lFe4jA0mzbUNQjhQZ3tg17RpdlHYWUcEK4VRjjua838ARR/wBoNI+N2MLXq0K4jrycyruUlTWyOXEzu1EfEMtxV9VO5VHaq1qmfmNXYRlyTXhzZxly3XZGzmqMvJZvU1pSAR2uO5rMuG2LUQXUk86+Juo/ZtL8hTy/Fee+HzJHBJwQGPFdT4vhl8QeJo7OLJRDlj6VBe2UFlJHbQYzGPmx616cJKEVDqz0MPZWXcbFgLlutVrq7Iyq1K+QuBVZ4s1R32KqhpGy9dDovh/UNUYLY2ckue4XiqOnNFa3sU1xCJo0YFoz/EK+iPCfiXRdY0NW0aGO2miGGtwOQa6qFONV2bJem5h+APBFz4buH1LUEXz2Xai/3a627vZo1YIFLnpxUdze3MabpTH/ALpNY95qu9cSSpvz91Oa+goUIwVkiopdCHUJJTH5k8gDf3Qa5q/ae4yRIVx2rUe6Yy/u0aY9yRwKwtY1Is5jdlTH8KdTXqw0NTJuRbqrrl5JO/Peuz8IXGj2NvHI6KLsjL3E4GIh7VxAErsNkeF6gnvU8kc0kW6UFz6dqVWl7aPLcmUOY9st9Xgu7BrmOYRaeo+a7l6yfSrEOpWdxpbXNpIsVr08w8ySfSvLLOHUNQsUhmLC0T7kCnjNap1e00DSZJb9g9woxHCD938K8TE4KnSg5SkZSpqEbtnQ642maXoseqak6xGRgcyNyqf41474w+K0d6ZLTQbYJApwJmHJrmvF/iPUfEN80l3M/lDhIQflUViWelyXTDAwK8OdSDjZbGfMkrks/iPVbzHmXBP0FWrDXNagkDQ3ciH61oWnh4KAWXmtFNJROoFcMsRCPwoylXRe0j4k+KNKYN56zr/dcVup8dtajkCy2EBHfBrl3s4guMVg6pCIiStTTxUpSsZqpzSPYh8eN1qBDpaiX3PFdZpPjnVtTsI727sYrSBhwCeW96+adCkS612zt5mCI8qhiemM19A6nEEt40XcY1QBAnTpXv4Gh7aTdR6HVTjfc359bN7JGkTRkv1B7iuD+JeipdaRLPafNJGMso9K07FE0y3kur6ZY2ZfkQnp71xniLx1ZwW80UEvnOwIIHSuvEYfDwUpM3Vk7owfhV4Um1rXDctCfJjOMkdTXv8AJ4M2wB4BggdBXi/wl+JcHh7UPsGsWyrYzSZWYDlCT3r6lsLm1vbNLi0lSWKQZVlOc15FNyi7pidaUdjyW6sJ7CTcymNweGHeun8P+JGCLFcjdt6g9RW7rmlw3ELsy/pXnupW0tlcB4GI2HINexCUa8eWW5rdVI6nomr6JpPizSTBexrKjD5W7qa+WPG/gy48GeJ5redWe2Y5gkI4Ir3PRfFBdiqMI51+9Ex4f3FT+Krew8ZaDJZX6COfGYpMcqa5KuDmr2MHTcdUfL0x+Un1qpAC02QpYDrgdK3tf0ObSdTlsSTOY+N6jg1uaPp8WheDLy7voB9qvfkhVxzj1rzadNttS0sYupzaMzLKVVt+fSnQ3CvLgVUWN47YfSq9urifIz1rzPZqbZzuHMdF5ZK5HSoyhB5FRwagI12vVkXsEnUiuSVOcXsc0qcokWcVMmNvzDOaVni428ntTkXb8zc01GyuwUeVc0irPErKQenpWJc2mZeBW5OSZOKqyR5auqnJrVm8KruaurkJpemTISyyRYA9CKqW0jbv3jc47Vf1m4gk8O6SiHfsiOdo75rLs2DrlugNfpdC/Kj2qV+RFuRgw4DM3b0FRQWwluseW8z/AN1B90VMY3kk8uPrjIwcVb8L2Emp6y1vLfJY2pAE8ucHHpXc5KEGzWpLlidPoOkX99Nt0uUuUXkFiVi+tdaNItdNjSTU7iP7VsJVpzjHHOBVW88dWPhjT20fwPZLeTRgCW5I+XP17ms2Gy+3eIoL7xDJJc30ce5lbiJGP8OPavmMVGpWvKWi/E8pt3uaMt0bmAf2fbF+cebL8qj3ArNuzLkNbO17cA4Ep4QH2HetD7UupSMkbbLRHxnp5xHX/gI5FUluzqGLqx2CBp/s67BgKmeSPc5r56rgarl+7djRT7lrStQhmmFjO6m5Kksq9DTLi7i0+4P2pxHEvVjUE2kvpWotqTALJJAcA/wANjIrkvEWoyavsRuEQYJ/ve9etLGewpWqay/MxqVVTR2x8f8Ah/T5Fj89p2YceWKr/wDCUX/iLVNtlI1paxjJC9SK8anj+zXAKNkK3SvSvAsqOszMwBKDGawhWdetGPQwcueSV9Gdi9xM5VTMzcYBJ+9SNdW0MJW4Gw9nC5INZtwcMQkmwHpk8VQa4kMx3XYUjghhnNe9Gimj0FTXQ0J9blbdAd8iN0kQYrltRuBLJ5ROV3YXcOla1zLI6kF9w6DaMVzd55gvlVBkjoPSuiFCMk1Y1SSWhoWFjH8zi4RHjcFUI++O9d3oVvb6fqP2vT3EayL+9hzwT61w6R+WyAqobbhs9jW/p0k9nFultz04KDINcdbBQcbIipFNHpqtHcxbkwaxtT0yGdTlRmsiHXZorf7RAhUL95T3q9b+I7DUFXM6xSHqjHGa8uDlTnyT0ZxqTjKzMxIpLF9rfPF6HtUr6iIMC2beT/D6VFf3yyOUh5UfxetUoW2XGTweorodaVSXJDfqzTnc3ZFt90257liCf0rmNW8O6dfTM13EJ8cjNbt3fJJwGw3fHesW7lkto5JZD8o5yewrtpUlFW7l2SVigtrpltClmlrHiTgZGaksNE07QlubxAqxfemlPX/dWo7O9j1SMxxw+TbknzLtvv49EHvV+6+yxxW32m3kuFjP+i6anLP/ALUn+e9c3NTnO0FojNtXKNhNfalA97cldP07d+7eTqR7etK+oNGJJhKotgMRBuWk98VU1iK5vdaz4qvYtPto03R2sBzt9BgVkza9DEzQ6balUzgPIMsR616tOmpr+rHRCKkX5NI0/WedTtViZ+jKMEe9cbrnhZ7acjTH+1R+n8Qrc/tgeZ8rtEwHLdWNNs72MzNIXbfuyPU/WufE5fSq9NSKmHUnoebzwNbTsk0bRyjqrDFQBbiKTenKmvUtc0W38Q2xkjQLexrlWH8ftXn0sn2OVoZ4yrocMpHSvncVhZ4eVt0c0oyg7Gr4atDqe5TlW3AY9a7K90D+zpYoxyWUE1S+Fdomq6yxiX5Y+Wru/EVqDq0fsK+dxNRqtYmpL3LGGsYtbIKOCaqy2+L+JznBXk1bvX3XCRj1qvrE6Wl1bhzjI4+tehklVU8XFv7Whlh6nJVRsGfbtUMC5HAHQVds7fELS5yx6k1jaeyNMGC7mPJJ6CuhgLSKcfd9a/TKctD6OLG+Ufl3jhRkD0qENG0xdlwqjCj1NW5txUAcluB70xoyIxGFAYVumVLY1bC9B0HU13hJVhAHHqDVS5vBbaWbeaUuZowV56c5qqFeQ3kTsFCwhwoH3uKyrmR7vVFIjkc7dojAzjisIUo8zb23OKMfeZPd6tc3GnTWbfNE+wj2wDWfJOLO2kmf7vl4xU6RsyyrgqyEKynsa5H4h68unaatnCR5z8EU8TWp0KDnHqbTahC559rGpDUdWmYH5QcLUKXjJZSWp5RzkexrIWQiTd3zV4HcgIr8/qSk5ufc8Wd1LmK7lkyrr81EI/eAnipmUSMC5pRBtbcGyMVXtE1qbQdxD++KRgclq6qLTvs9pbIRzI6j9az/AAzpf26/BIyFNdjeW4bXtNtE/wCegJH0rz61W9RQRzV5e/ynS+L5ltPCMFr0aRVUD8K4DRbUTa9aIehlX+ddD49vjLrKWytlLdAMe9ZfhKI3Pii1VecNu/KuO7UWyYK0LntkQwoHTAxXDfFLSTeaGtzGuWhOTj0ruk6c1X1C1jvYXtpxuR1INefSm4SUjkTs7nzSgw1U2O6Rj711vi3w5J4d1SRTzC+WRq5WGMzTBV5LGvoKclJcyOuL0uWdPtGurlUUZ9a7bQrYW15sHatDwv4S+yaa17crj5cjNVtHcT6vOR0DYFcEq6qzajsjOTudjZrmq18P34xVq061WvT++FYX94yRpeHLySL7Tbrlt3IUV5v8UYmTVo94O8rk12mlXv2PVFcMBu4ya474ozedrwzg8ckV9nltaLwTT6Hp0JL2Rz/he5+yaxAM4BODXtceGgVl/iFfPtrcGG9jcfwsK9x0PUobnSYWLjOBXz2JvKfM+pxVNXc3oVCx8Vbt48soqtbsJIwR0rUtE5yewrzZs5xl22GCjoKxtQJMLbBzitOY7pWNVJFCgl6akoR1JOGmtYtHtbi+mA8584Jrhbe7a6uZ5nOSzV0Pj/Wd8v2WJuB1xXG2M2xXA7muzDpyXPLdnbhvjuzWeXvUJlOeKVAH5JqfyFK5rpPW6FR5sVa03U7zTbgXFjcNDJ6qetU54v3nHSmgYrSOmqMpM9c8N+MLfWbZYdQn2Xa8Hcfv10bJbQR70GGA44yTXgBnMLB42KupyCD0rs/DvxBAVLTWs7RwJl6/jXsYbHW92ZnzNPQ6vULy9kLIriCL0HU1UtLVYmLywtJM3+ryM5rpdMtdK1kK1ldwuepLPyK3P+EciiQO9zCoHVmcV68cRTtuaxmjj4dL/d/PzJ1bHb2rR0/Qt8w88F8jhfSta71bwzpUebvUYTtHIQ5JriPEfxQhmDWvhyJo0PBnbr+FYV8yp0o7lOsorQ2fEWsRaLEltayg3Pop+7XF388l8Wlnbe7dSayFunnkMkrl3Y5LMeTV+M71r4vG4ypiZ3loux5k6spvUxDp32i4wRxmuk0zSVijBK4FRQokMuSK1I72MpgEVxSqSasjNydrDJVCcKMVTdjnrVm4lB6Gsqe62msuVshK5JIawdVO7NXpr4Baxrq6EmTXVQptSudVCnrdmQ0bRybgSCDkEdq6TTvG/iNUS0jvWaMcAtyQK5+WTzOB1rX020FtatcTcHHGa9eFSUfhZ2PQt61rF21vtnuXkdhzk1zUUEl22FGTmp7u8FzIRjJJ4Fbui6XcW+24uItiEZGayq1eVXkzOUrK7Oc2yJdeUwIC8EV2Gj+PfEHhmFIbXUJY7fshOcVn3VpFLfNKeC1T6jpn2u1tUiTJBwTXKsQrroY+1vY9f8LfF25lhiGsutzbvhSw6iux1GWy1C1WeylWQMMkZr58s9OXTwvz/Vc9a62x1iW28mWFisW8Buc9eK6MPjuSa6o6qVSMnob2o2YN4WgLKyjhh1BqZNRvNLt0+2q1167TyBTkmJkaRvm3Hg+tV9UjmuUjMDAL/fByAfQ19Bi8fCjhFVi99je7eiJEvLDU7j91abmJ5Z1Hy/U1zPiLQbu71HzVm+0RjhEXov0rQsrW4ub9bWZpIFU5dY/+Wg+tdekILrZWlo9lbqgD3Mq5wPavDjjZ4393U09DGrFNankd3Ytb5jmQow9RVBYkQkmvW9RtNBuZxHbyfaDF8rvI2Mn1xWTdeE9FJ4mBdz91T0rRZXVvem/vOZU5J+6ebTxoVyKzvJdpC+8qi9a9E1P4e/u9+nXik4zsY1wmrWtzZTG1mjaPaecjrWNShUov30Pb4iO3v3a4G37o4FdDbSh4/mrm7aLBFXvtfk8DpXHUipPQynFTdzSnGG4qzDab4wSKqWe65YYUn8K3FH2dQsg2ntmsHF9DNR1MVZoJvBNuIkJaJzuPpnJxVWwWS5+7xjp6CovDwY6Lqgmb9yoBUe9X9F/eRhBwvev0nAScqMW+x7GHd4K5LKDGpCOS2PmIqgnnuskcbbFI+Y1uTRKEyBweFFVJ41jSMKMHq5r1otHTa+50XhvUtP06zto7jEdvagzzf3pn7D9a0v8AhJo9Rj3wnd5hLyf4VwWUMLF8sxPOe1XNNkEHkFD88kyh1/2c1yVcNBvm6nNOktz0HXFsrHSbO0s59+q3gEflKf8AVoxzVrQIbWwm1HSYgjC0dJEGegJOf5Vw95difxfHJCGVlXr3BFT6JLPJrTzySHzb1nUkH72On8686eGtHVmEqdju/ERP/CO3LO2Xj+VWP9084rzOQfLXoPiq5EfhoJ0eRlXB9h/9avPZidpr43MnatbyPKxLvM5DVQF1BlPGeldp4DuVW6jSRshl2j3rktdgzcxseN1XvD0ptZAUb5kO4VnQq+znGfYUW0lI9TvYkXKTKyoehHaqoitrXBjIlbtuFTtdfb7GGdedy84PQ1UhXN3mYbiPuqK+6py5oXTPbi+aN0WJIvJhM8+PMI+UdhWMtqJLnzScEsARWtqG5sFzyozt9KhsYAbiJXyeNz/U1rF2jcdyO7gCXBwN25c7T3qKG9mt7dhBcuFB/wBU3ar2pwbht53RHK46kVU+zSTxl4drscDHQ0JprUV7o1IZydPkkncgMh4NYGm2qvMbmdvkjJIYnhRV65CppsjTq8Sxrlya851rxbJeRGz08GO26ZHVq+ezSK54s4K69466Tx4kmoPBpMSXAgz5gY43AdxWxYa6mt2S3Fuph5wQeteO2MBtbhbgE7gfzFetadJF/Y8U1tCsUbICceves8vrKU/ZxKpVIv3ULc6g1pOEKhixyppb27k1ONIIow+4fvI+h/Cse5uA0xnmBkt1cJKo6p6MPxrds/ImdbGU7ZseZbXC9ZB2x715ubZtVhUlSpLTa/5nXGKe5lafaaW90RGbrKZDJH1Q/Q1oWgvtKEi6RZ3z/aDiW7mUFo19q0ksk1OYQXm7TdSUZhvI/lWfHY+9UrjWhpk6W2qT38cgOBJA+6OQ/wBK2yyvzxVjGorMxdZuNOsyY47CeW4dSZLi7POfWuLv9VvLjYZCgjX5VKcHFdx4gWPVInlisJpflzukm/pXB6isG0GC2MDZwVZs4r6+hJuKNKcnYjWQ8nLHPoKvWEyjCgEAnms9CyqoZuD1xVyMxnqp/Cuux1ROmtWdJA6Bye3Ssbxx4f8At0cWpwqqSH5ZAvf3q5ZkRgFJSQf4Sa1nVLrS50f5VKZ5Oea4sXS56bRhiI3jdDPghYvZXd95g7Dn866fXbhX1lyP4RWZ8KeU1B+DtA5/OodVuSdVnOfWvy7FXliGeU5OUbspBjNqa49axvH84UwhDhkIrVsJ1W5klboorhPFeqG91EqDkA104eL5010MEm5nY+EtUF9EoZvnHDD1r0CGTbGEC89QB2rxLwJLJ/wl8UCPt8wY/GvY4Q6O0DEiQH5ya/Qsvx0K8eRv3lv/AJnuYetzKz3NCFA4M7DGDhRTCSbhyoyMYpBJnCA/Kvf0qwi+Xp7SFcBm617F7anbe6MBfNGoyLGzM7jaBXWr9n8P6K94Y1e/nG2Mkd/WqWh6WDfGWTnnLMey1HrN0L+8aQfLDD8sY9B618via8s4xn1Sk7UYfG118jmjLmm30RzF7drpVlcXd2+4sS8jHu1eGa3qNxr+sTXBy2T8o9BXb/ETxXDPHJplo4bacMw9ayvh/oY1GSSSRcjoKzzTGJv2cPhjojkxFa7fZHDOpRirDBFWLWT+E1s+M9K/s3WHCrhWrnlbawIrzE1ONzDScTQI5pV560iMJIwakghMr4zgeprIiHxI6bwTeRwXzK/H1rotHkGofEJGHKQKW/Q158rvYzB0P4iu3+Goe5utSvWGWWIgH8K4507SdTyM6sffcjO1+6NzrN3KecyED8DXQ/DGzM2tS3JHywp19zXG3zk3EuepkP8AOvVvh1ppsNAE8ow9yd3PpXJXfLS9QqO0DtQMgVHyZDT42+Y/SmA8mvNicZwXxXgiPh0TSD94GwprybQYvN1eBSM/MK9K+MV0RZWtuD95smuG8FWpudehAGcGvah7mGudENIHsetSLY+Dfl4/d15j4Xv4UupDM4BZu9eifEA/ZfCwXOPkrwoysnKMQc9q4cup89OT7sUVdHrMviazsg37wE/WuYvvF893MRaIT6VzOlQNqV8sUsh5Pc16RYeGLe0jXbHvbHXFdcowpvXcOVI5i2GrXsgYkoM5qv4v84iFrk5kVdpPrXodvos7t8ke0VX1PwAdXlU3M2xR2FXTxSptq9kzSKl02PF1OWr1D4f2j31r87the1dLpfwt0yLAMLTH1IrvdD8F29iu2KNIAPXvXPiMfStZG/sXNaGba23lRhQDxWnGNlsxrpUg0zT4g0xWRx2rn9auEluVe2j8uLHI9a4IV/avYxq4b2ceZyRlyHauTWF4g1JbDTpJXODjitd235J+6K8p+IevebcG0ibgdcVrFOtUUVscaV3Y4rVL5ry9klY5yeKhs8ljVZ2yat6eM7vrXvKKSsehRXvI1oB6Vf2YjqCzjHWrUhGMCpPQcrIz5VwxNU5JducVcu32rWRKxOcVojCTbBpNxyTQGFVyT3oDVQIvQ381sc280kR9UYippNd1GVdr31wwPbzDWSzU5Tmq1FJlz7SWPzsWPuc1PFMSRtqGysHupAFFdZp3hz5ASua5KtSMdzCU0jPs3bjIrbtW6Z6Vfj0RUXpTGsfKbivLnUjJ6HPJpu5Uu3IQletU7advM5NW7xCIzWKJikldFGHMjSKubzzgx9ax7ycbjzUM18QOtZktw00mBW8KNjVQJZ594wDVSRWKnANaFpp7SHJrVj0jcnK1o6kY6Fe0UdEYej6c11cBpB8i8nNW9cux8trB0HHHeteQraW5ggTMhHYVU0/SAs5urwc5yAa1clFalymkrsu+EvDNqg+3arzgZVK2NWvopsrGAqqMKBVeOb907McKBwKwfthlvHU9K8mpGVSpzSOSTc1dlZ5CZuT3rcN6ttapnrjisELm7696k1SQiREHYVpyc8kgjHmdiS41GWabCd63vDuo7dVisbk/uJj85AyRXOQqtrD58nLnoK2PD6/8TG2uZh/y1Un6Zro5I01dnTFKnqelefDHexWEbuHnbEQZcYHrUtpF/Zd8fO3PYzNslU/wN6108WlNq9w95IkbthI4JQMCNSP58VE2nOmsXEdwVltbg+UxH8L46/yrPMaVWUYx3ikdUZpFPUbAWF1D9oQtZMMw3UfVPY1u29zcxrEbiTzrYdJEG4EehFQ6DPGNQuPCms/MVG6B27rVwaJLbXjW9tcm2ulGUB+5MPpWWBozjJSZE5Jo5PxRaaTJqXm6RJDbzyLmRycKPwrjrq4itLvP25Ljt8naux8Sx6JeW1xFrtqdP1OPhZUGFc/WvLLi2a1mJjkWXd93PQivvcHKXKFN3R19vqjsVO9NvbJ6U/ULe21mIxXiRvuHyyL1WuWtpZYgPPi+TuRW7atbGMGInJ7101qSqRtJaFTgmjn7nw4umXWy7mAib7reopssvh2xUFm85x2rqdS0wazo727H96ilom9/SvF5y0d48cgIdGwQexr5bEYVUJWMFBJ2O/i8UxrlNMsR7EiqOoXGsajMJJMLgcAVT0WcBVGMV0LEEAivOlVadkiJNp2MTwNHLfyyyTf8eqITID0auk0W1it43aTA3ZwO9cz4WuBZaGwRwSG5GetdDocq3V2VbJfGcV9XluMpNexb1OqNSFNqL6mv9lO0NIAM9F7CqM9uhl2KOO+a2HhEq4jLccYNU5bfZKY+rY5Ne9CZ2KVzCljBmIQDap5qzp1islyjS52qwYhetPEQE20rnJ6VoWFo4uGlQEbUP45rac9NBzd9hixi41Xz0j8pZAVH4cUlrBNFY2NxHkSQSEH9K1VgDx2Kj++d361oQ2aQ28bnhFO589OK4KlRROapJIxNW1B71kiLlljH6mslx61ZuJFlvJZIxtRmOBVduuK/N8TVdWtKb7nz85c0mzn/ABEn+iLIOqGq2jy5nVs8MK1tXg86xlX/AGc1yuizkXAQ9VNXD3oFw1jY9O8P6qLab7PcfNA559jXTWixw3U0u7K/w59K89hf5ga7SynF9paSE4MY2sBXv5NinNOhN7bHbhKju6bJpz53OQFmkx74qZEQSOUbJztpi+Ut1HnnYmcURsoZkJCiTJHsa+kex6AzUbgqInVf3iNgn2pkz7rhJ7UbGxyB3qZU8zJK78cOP61NDYKsg8o7lPXPaldJEvQzfEc80vhG93gZKYFePW1vsiUyfexXqnjvV7ax0s2EDq9xNwyqfuivOIoehb8q+WzasuZQR5mImnKyCOLcMt+VeheGJFn8KbXcYhkOFHVq83v70WsDbeXxwK9B+G3z+HLaS4iDIZWd2Psa4suhL2nP0FQi78xpWWnxiae3ljw62YaRT7EnNTI8drPb6XPtAuIhLaS90OOQD9TVTUYbqwuLvV5HMk+qEQxxD+FM8n8s0urQnVp7yCzG3+ytPQxyA9GwO9dtbAwnLm7nbztHb2KQ67AdJ1eMRahGvODjd6OtcjrtneaHqS22rSpbsx/0a7cZjlH91vQ0Pf8Anx6Ze2935V69t50ErHjeudyn2IH611FnrWhfFDwu+n6mY472LPmITyjDjctRh8LLCy54r3Xv5ClLmPKNfvI5NTXerW0ka4Z7aQlCexxXK3F1LJcN50gn54YDrXReKNNtdG1V7SbzBDgiK6Q/LJXIINkx2kEZ6mvsaDjyJxNaZaRQWycirkAAYbHI9QagtzuOWGDWlCi87VDn9RXSdcS1aLyCAea37eJZLSRR/cNZdquFUpx7GreqXX9meH7idG+dxhPrXNWmlFtkVpJRL/woimtLfWVlzgYxn8ap30hN5cOfU0nwu1d7vSdU87h1ABPr1qpqs4jSZyepNfluIV8VJnjzVtDMvdRFtZTEHlq8+uLgyXwZj3zWrqV80wK54zXPht90a9OhTsmxQjuzqPBsxHjS0deu4V9FeINLjh06C/U4m2gv7ivn74ZwxT+OrRZvuhs19AeM9SiEUdujDHC4FcdXE1MLjYVKfQ6ITUE7bmZZOLiGNIxkNyW/nWjK5njSBB8inp61j28clhKETJjm6f7Nblr5cMcl1cEJDboZHJ9q+nzfOoxwqVB+9P8AD/g9DqdfmhaO7JLmcWtsLCI4uZ13Pj+Ff/r1wPxA15tA8PtBGQbpxgew9a3NA1mO/s9U8RXz7EZz5e7si5wBXj3iTVpvEs1/fy/dBwg9BUYd/wBm4CNNfHPV/P8AqxE6ipx5UcI7vPMWclnc5J9a92+Guj/ZtFWRl5YZrxHTIhNqUKN0LCvpfwzCsGjQon92vIxs2opHn4mWljyn4r2yx3CuBzmvMq9X+LpG5R3zXlFbYZ3po1ofAWLV/mKmtSBP3WTWLG21s1txN/owPtTraFNWlcY65hb616f8K7YQ6BdzsPvk/jxXmMR3ZQ9CMV7F4Lt/sfgnJGCUZv0rjxErUmjGq9DzS+Uza5KqjhpzgfjXvGnQ+VY20eMbYwK8UsoftHiKIf35/wCte7xIAB7LivOxctIozq9ECMRuoU45oZcLSMQoGTXHFGFm9jxz4uXfm63BADwiZNJ8LLQTaxvI6V1GseAB4g19769uNsZ4VB6V0Wh+G7HQUAsUw3djXo160XQ9lHc61D3bGf8AEm1utQs0tLGMyMRjjtXD6f8ACy+uArXsgiXqQK9hEe98tyfWl8k5yeB71yUak6FPkiVCKiu5xmk/DvS9NZZDukkXua6uCyRFCxp9OKjvNZ0jS1LX12gI/hB5rj9Y+MNpakxaNa+Yw4DsKpRrVnormnqejQ6XIRmTEa+pOKhvtR0XQ7V7i7mEuzkgGvHrfxp4h1q8L3M7JD12qccVyXiPxPeXt1LbLMfIBIxnrW1PATqStKX3F05R5tj12++NNrv8jS4PKDcB8ZxVC28Wa9LqCXF9cM1szfeU4AWvEob6S3yIz1POas/2/fAbftEhjxypPFerDL6MFaxcnzKx9JaV4n0zVrw28F0GlXqpPWtC+n82QInQV81eF5by98VWotHZJGccg9u9fRsY8qLfKckDk15OPpxoStB7nm1oKD0MjxNqiaRpEjbsMV4rwTUbx728kmc5LHNdr8RdeN1dm2jb5VPNefMc11YGjyw5nuwpR0uFaOlDdu+tZhPFauiDcrn3r0uh109JG9BhUpssgVSTUZk2rVG5uc55qUtTdtsjuZt7GqTMKV5cmombNWNDXpuDThz0qeO3L0FFbYSa0LPTZZiOMCrun6T5sqkjNdha6WkcQOAABWFWuoI5qkuUraDpKxldwrsoYEEYVBXPxXKQNtStWzvM4ryJ1HJ6nDKTky80G1Kyr11StWW5BjrntQkLMaiMLyHHVlK6YSKcVzt2nlyEitwkgYNVJrUS5yK9KHLA9BWSuc5MxJwKuafZb2BIq8ulkv8AdzW5pmivkM42r71cqyeiJlU5tIiWViFUcVptbGGEsVxVkPb2mFXDPV+RoZLDdMQoHrWdOm5SuyVRd7yMKO3gijM8iZb1rNuJfPusKMKOlacupW0sLQwgNt7is3ZsRn71VX4iK8rtRRTu5DsKg8VmRqROWx9avStucjuagnHlkDpmudsUdiCGB3vPkGcmnS28gvC9yMBeme9JNfCzjDIfmqm93d37CRugrejFt8zNaS1udFb6HLdQm5mICY+UGr+imzMTCWQAxmsO2OpXsQiExVMYwDV6w8NSxl/MlPzdeaubp31Y5Shf3j3Dwhdxa1YQwMzCwiQu7q2MsKvaQkc2matFu2bZ/NgLnkgYx/KuB8H3T6Not3p8LbnYZGT2PWugs/E1smq6g88W1diBUPfntXu0qX1ijzxRv8cOaJp6vB9rutM1OL5LjYUEg/vjt+ldTZ3CeJ9CSVP3d9D90ngqw7VyNtrthJ4bnkiyzWl0ZRGeoBJpjeMrLSfGkIimVbO/jDnB+41Q8LKPwrYyakjJ8R+JkuLyfTtds0EsQwwcdT6g15zdva+axtA0kechT2r0H4syWt/Jb6hp7RyOBskK/wAVebLCuPNhbGeq17OFivZp7G1NaXJxIrRgQllPdSau210yLsZR7VnxbCxEnyOejVoLvBAl2t6EV130Nm9Da07UHW5QONqZ71518QdL+weLZpI1xFcDzFx7131osTkcmNh/e6Gs34g2Iu7CzusAsmUJFePmMbw5jGWkrnCabcbMc9K3Yr7KcmucWIpJheKvxRyBa+Zkk9TGVtzN0C7t7SymjuJMNuyM11nh7V/Iuxc2w3BeDkdRXnVnaTXbAKpbHcV3OnwfZLJI1HzY5qqs3Rn7SD1M6nKnzM9GtbpNQj8+FgvdvUUyZNwJiXc3Vj/KuOsru4s5hJE5B7r2NddpWvwTkRzxiJ2P4GvqcHmdOrFKWkjajjI7SILWyLuzODvzxx0ro7ay+zKIwOXXk+lRI1pavumuYkGckk9KydX+IGnafuisEN3KBjf/AAg12YjFRiryZvUrxXU1pEt9OJnvbhII4/mXce9cpfeNIdXuG0/TMrbISWf++a4PXdZvtZvGmvZmb0QHgUnh8+XejPevncZj5VYuMDzqtVzTO2Q0P1psZyKc3rXzRwkEy7kIPcYrz2ZnsdWkCcENxXorj5feuE8RxeTqvmAfe5rqw76GtN6nUWkpaGNm6kV0nhy8K3pgY/JIOnvXHadc+daRt04xWtaXZt7qOUfwsDWmHqOjiVNdylLlndHoEi7WLevGPwrLu7xIbM3Fw21IMlh3rXRreWzjvPPQD7xy3SvOfGutRanfm2sD+4Q/Oy9HNfbVsVCjTc2etUrxjG6Kdx4+1bULpxYYtoFOAQOSKU+LNYC7BdtuIxxWGoCjZEOaniQR8nlvWvk62ZYibupWPKnVlJ7k3zySma5cySt1LHNV7y+W3Q4I3dhVtIWl9qz9R0Nrhd6uQ1ccKcqsueYqaTleRm+eLksX6mvYPC1lJH4V06HdhOX2j+I9s15VZaa8S7WGTmvTrHVvstnbxqAPs0Gev3mwMV7+Bp80nY9GKT+ETWddRpbudSSsW23iX3BySPzrP03xLHHban5eRPcqISp7giud1O7WeBRAxBRiT7t61kibaQ5J3E5JHrX0MaEbanQqWh002tQ2JjsPK8z7HK20E/wkViWWrtZ6g1/pzNbzoxZcHhhnoaz7j97MJMneRyc8mo0BC55zmtVCKVg9n0NrWtXk1DTlXzVlhlbd5R6xN3x7Vj23yjbIMrjr6UqIG24GG9alVWGRjFCtFWQ4wtsXreAvGWXkdsVqWEAKZcFXPQ+tZlpKI8AA++O1bcLqlrvZwVzkDuKp1oLRs254x3ZoWkG9tncVz/jLVIzdQadCdwjGZD71pTa48UBXTrZ5JWGNxHSudTw9fXtyZ7s+XvOWYmvBzHMKXI4Qd7nn168ZaI3/AABJ5MGpRRrjzMc/nVjWdHu7u3ZINuT61f8ADdlaWtu4VtmOCzHG6t2FLKSTY1zHnt81fHz5efme5zr3tTx298JaxDGzCDzP92sSz0ydJZRcwvGy/wB4Yr6LTRA6b4pAR9arX3hmG+tminhUk/xgc1X13lVjZQ0s9Dx74eEQ+LkkbgJXpd/ef2n4ptbeNiQDuPNZVt8PX0TUGvLR2kQ9V7itXw5pbPrEt9JkFflAPasK1aFSpzrojKpTnCWp2QQPKqgcLxXPfErVWtNOtvD1iSLm9Iabb1C56fpXW6bCBL5knKp8xrlrvR31L4jtqNyrGFYsqT0B6YrnwsoSxHtKu0dS6co01dnP+KbKTS/h4lnGSqgfNjue9ee2EG7wxeSV7F8RIQ3haUAdBXl2nwf8UNePj1r1frksU3Ul308kYc7nK7PPbSYwXkcg/hbNfR3hG/Fzocb5zha+azw1evfDzW8aI8bNyq4rpxkLwuViI3VzB+KV95+qiIHIBrz6t/xfdm716VieAawK3oR5aaRrTVooUVuKm20i56rWIiluFBJ9q6nSfD+qajDGsFs+MdWGKmu0km2VIzk+SUfWvU9L8W2K+H0sE3ee0RTAHc1naT8L5nZZNRm2/wCytdvpvhHTNOwY4FZx/E1eZWrU5K25lOMXucboPh+7XVoLt4jsR9xzXp8dwdv3eaYkCLwMVJnHQVwTfO7siUVJ3YuXc8nAppUZ55pQpbpWfresQ6DYvdXKllX0qUm3ZFJWNJUz2wKeCqAkkfL1Oa8e1b4sXt1ui02EQoeNx610GjarcnwnLdXcrPI69Sa0q0Z0opyCUuVHWL4ntJL1rezHmspwzdhXI+MNf1i6vFs9Pl8qM8ErUOk3EWmaVLdTHEkhOPU1z93r1xZXJmu7d038oWHUVpRptzbS2I5pvVbG1pXhZLiMvqcjSue7Gq+o+FNNRjsZVNc/N41umz5OQDWRda3qF0Tlm5rrjSq3u2RaTZZm1FLOWaCxZnKgjPauYw7yPuQszegr17wh8P4LzQku9R3CRwWAFZusadFoV2JoLWORw2MFa1oYyi6vs4bnoQpwUN9ThP8AhGNR+w/a/sr+XjIJFZxs2EbOeCh5U9RX0JDcRyy6dHeQqkUi7mXHA+U4/WvH/EOlyv4vvLa3UebPISiL05NelCe6mElbUy/C17PY+ILae3+8r8/TvXs2seOLMaa4hkG8r0B715/pfw61e1YXU5ERUZ29awdXhe1vXiZiefWvNrwoYqacXqjiqqM2rEGo3jXl5JK5yWNVDQTTSa64xsrIpKysNY1saKdsEh96yVXNaennELgetU+xpHexauLjHQ1RkkLVO0ZZqclvuo2N7FAhjQImNa8dhu7Vch00elRKokTKSRiRWrHtWlbQFRyK14dO29qm+xBe2Kw9sm7AqqH6WVRgTWzcXqmHavHFc5M32bkGi2vDOwDGuatHmXMjCqk9S+jktmtC3uCmKoolSOfLTNcD1OQ2Futy9ajkUOcmudk1Tymxuq5Z3st2wEYJHrW8aUrXNowZblgG75RT4NOkl5YbV9TWlEbazg33DAt71jXviPfIY7bgZ61sqcmtTrVGyvNmqsdrZjnBapQZ7pf3Q2L61n6eiSgS3DZ780mp66IVMFmMt047VpCDfoJSW0FZD726tNLQtI++X3NclqXiS4uiURyF9Aar6stzJulnY81hiT5wOvNdsEraFxsdnoKFrUsx5ar963lw4FQaOBFp6fSodQmMjEDpXLU3OKXvT0Mw3BE/PrRfT5UEHtVeVgjEryarO0lwwReSaSp3dzojArsXnkyckA1vWbxSWOFGGXrVf7CLe0yfvEU/T4CsTE96vnTWhMp62Ro6bcbJgK6aGcFM5rl7aHDbhWm0rRwnHpXPKHM7oxnG7uXf7eTS9ShuH+aNTh19RW9qKBrlL+0PmW8wDIR0Az0rynW7iQk+ldp8MvEcN9YyeH9Qk2t1hY/yr6PKK3sXyS2Z34b3FY1ZNQna8ufIXYJVAYD+KsC8jLBA+cgFc56Guju7aSy1M5U4Hy/WqM8AljkJHzB819VZNHW0jBg1C8iiNs8heNTkBqGLmXdG2Fbt6VZu7JpULxDlOpHcVHDEoAJPHQmsLJaGdrFlIh5Y3jJ9asWzS79nBXtmkgcLmJ1yp6NV2NEVdz/d9u1ZNlE9vK8DCN+A38LVJ4pRf+EchKdGbpT7a9hVNtxB5y9FcDpTNdmS4sIreNT8nJzXl5hJKgzlq7HnYTNx071t29mZIgcVSkt8XfTAzXT6dCPswr5SctDJptGHZ6bb2UYWFAo9fWrQiycAVMqfLluBTJLgKuIx+NZeZ5zbbuxrKkQ561VluX6rxjpilYk/M5qtO/ymrW4kULu4mmkxJK5HpupirhKJFJYselKOAPpW3O5S1ZoUbgda0PD9q93q1vbw4DyOFXPqaozqWbA7mtPTSbGSK4Xh42DA/Sr3Kvodxq2i3mgXi21+uHK7gR0IqG1tpb26itrdd0kjBVHvXdeNgmueDdI16HBIQRyEVR+GmnJca89/OP3Nmhck9j2/lXPKl+95VsQ4e/ZHM63ot1oV59lvdolK5IHauD8Vw5jjlx0ODXqlzZ3vjfxddPbdN5zIx4RRxTNX+GNlq9nLZabr0E1+oyIfU+maqnB8947DjF811seU6LNmzx6GtcSZAxVfwr4ZvLjxcfDl1m3uPMKHI6V6M3wubSra8n1fUorfyd3lK3WTFVUpybukVKDvc8/vrifyBEsjBT1ANZqxFm2J1NeiaN8Pm1nTG1PU9Qj06xLFUkf+P6Vj+KPDFn4flgGn6nFfRzdGTqKmUqvIuZkNO1yhrHhDU/DtjbXOoRBI7oZRs1m2SJNcbTyB1rpPiba6vonh/SZNQ1FruOdP3SH+DipPh58Pr3VNHOrancJYWbniWXjd9K2hh7yu9jT2fUy4oR5pAGBUsluBGSRXU634V0zSrFruw1uG8YHBiXrVjSvA0uo6WL/U7uPTrNvuvJ1b8K6WuiFyu9jz1MJNj3ruvDvhc+Knls0kEEjRblPsKNU+GjDT5NQ0DUotTjiGZFTqBXSfCb59WZ85KwMrDup4ruwM5U+fvY6sO3FtM8c1vSzpGoyWJbe0QIJHc1miL5QAOQMn2rstS0e71nxrdWlohllknIA9q6MfCrT7aQQan4ht7e7f/lj1wT2r6l1YQSUnqevdJK55W0HyPgZI6GpEhaZV4ClRj6113iTwVfeFJlS7AlgcfJKvRhW3pfwwu7/S7LUIbhVhuMly/AjHrRKrSUVNvQb5bXPPILBmXOMqO3ersOmFnBjGVPXNdNrXh+DSdXa1sr5bobc+YnQn0qvHAI8bh8/oKyqVYQhzt6GVSpGEeZlO206GF90gyfSryQQn7sYP4VY8pAu6UhRVSe6zlbcbR618liMQ6suZnhVKkpy5pEk80NqvAGfQCqg8y4bdMML2WiK0Zn8yU5qycCuRK7uzK4kygaa56bSMAV5/rV1KL7McrqR6Niux1K62W/lg9TXn2qTZuJG9KwjFus2dMXeKJLfx1r+l3H+iX8m0dmOa7/wt8VtTmtnfUoY5wnfua8ac7nJNdT4ZX/iXXFdOJo03T1RvJuK0PePDfxK0TXm8prWSGYHBBGRmtYqkly7QxhFJ7CvM/hfobJDNqVwuFZsRgjr716tYRAks/wB0cmvmsRCnTqNQKdWc48jHyyrDb/Z1PzkBm47UxDlVpuoToivLIQoHOTWVoWpf2i0zj7ithT61Shy0jhnLmldbFT4gMF8Lz5/umuH0Lw7eav8ADG/ubEBlhBLjvXeePIhL4WuAf7prC+B96Iri70W6YeTqETIobpnFd2XxjKNn3NKaT3PnlxhyD616J4A8OaxeaBfatbKFsrfh3Y45qh4l8A6jY+KtRtvK8qCKdgrNwCM8Yr1LxSieBPgjp2gxPtu9RIebHB9c/pXuycZJo6pJNWZ5V4r8Da5pdnb6zeQYtr7mJgex6Viad4dudQukgjGXc4CivVPE3hrxBH4L0OW61N7u2uEUxQkcRjAru/B3wzj03R7O9SRJHuhukmbpGKwqVJRXLBE3aVkcf4Y+Hen6TbrLfRia5Iyc9BXYQ28UC7Yo1UdsDFal1pmdcXTtOlW6ZgDvXoKtT6Nplu/2WXXLZb3p5JYdfSvKlTrVW29SPeZitKsS5cgVeudKu7WwivZ1xDMMq2a534mk+DtGtZrnLyXJwoHasPxlP4ksPh/pOpTaoWtbtf3cQ6pWkMJLlbkiowu7HXR3MMtx5KSq0mM7QavRwqOvJrnfh/4EvU0+28QT3wkhukO8yHAj/GvQhoEF1ZyTaVqEV2YxllQ9K56uGrJ2S0MqimnZGHZQtqF8LS1wZT2rz/4xTyabpIsJflkZ8MK7HR7Ke48Yxx2l2YJ+enavNfi+t5qPjiLRod1zdBtuByWY10YSirqRnGN2meYRDMij3r3P4faNDrstnpU6koy7mx2xWJZ/Bm001IH8U+JLbTblwGFuSCw+td34I+weF/G7WkGoxXaG3GyVTwM5rqxNNylG+x1Qi+dGrrnhPTLiZtIgt418kgeZ0xx1rlfit4Xsk0HR0gk3SW6+RIQOeMc16S0Oi3msNFJrUHnTnlA3U+maLnQbRfEjw3rI9rGgIV+c1n79K7toelaNWPLc8E07wNbFRvZScZxnmpr3QLHS4xIyLksFAPc1Z8avaWHxHFrpV4y72BwrfKPaq3xGaazubSA8EDeQDWcqc7pt7nl1KE4O99D07Swlt4ej244Tp6V5r4pElzKvlgcyjcT2Ga6DQNakuPCIMzfOPl/CsW4Vbhhv5BcZrx8MnQr876MhSaZsX8sUemwys6h0QbTn2rx/XNUJ8Ttd20hdwwO5exr3ez8PWBtwJYvMUqPvnNYGu/D7SplMliq2zZ3McV9HHM8NOfK00ivrMXoyXU9e+z+EoLib5ZZIRnNeKX1013dySvyWNdX421gyNHYxtlYVCnHfFcUTWODoqEebuYU49RCaQDJ5oAyakAxXfsb7ABWxaWrRW6uwx5nIrLi2iVS/TPNbcd6l4NsQ+WIYrN3uVT+IcIh6VJHGA1MMgTrTPtKqwpu51s27SENjNaKWyr0rGsbsEjBrbjfcoNebWb5jgqt3Hoo6Yp7xArTVqYA45rnbOe7MLUbbKk1mW8ghmwT3rob9PkNclfOYpSR611U/fjY6I+8rHUQ3AKg5qve3uFwOaxbO9lkIRMmt+1sokTz7pge+DURoWlqFOi5SM200qW9m82f5Y/51sNqFtpcYjhwX9BWRqmvDmGz4A43Csu1WW5mycn1JrvUXY9FcsFZbnpXhXwheeM0lvr26FppsH+slP9K07rwb4FS3law8QsbmJScOOGNbHw+u7HWPh/d+FXuktL12LRsxxv8AavM/Fng7xF4duG/tC0c24PE8fKkfWtVFJbGLu9yjPqkjMYbduM4yKuWKJEvmTct71a+H/hGTxPrHkF/LgQb5pT/Ctd+8fgKG8GkNbzsC3lm63fxdM/nXLO8tE7IxleWh5FrlyJv3cfVjgCq2teDdW8MtZPq8Qi+1oJIxntXean4P0vwv8QorbxB5lxpkgDwvGeTnpXpfxSbwbHFpZ1+Cd3FqPs2w9BjjNdNOPLGxcY2VjxSydvsyIPSqt+SH2g4Heu/8I+GNPvtLu9e1eU22j2xO31fHaprL/hXnjO8Ok20VxY3D/LDOx4Y1l7K7u2RGCi9TyOcgMEjO4mr9harAu9+WNdBL4AubD4gReG5m+aSUKsp7qT1ru9WtPAnhi8bRr+1uJbiNcSTg/wAWO1RNNqy0CctLI8nuGZzg9O9RJdKH8tDWrbXegjxMy6m0q6XuJGz7xGeBXYeHx8OvFGqjR7KxurSeXIhnYnk+9OlRbWpNOm7XZyVt9wE1b4ZMVLq+mNoWuXOlyncYGIDeo7VXEiqOTWdnGQNNMwtathtJxXNWlzLp2pR3NuxV4mBGK6nWJ1aM4Nco4zITXZSbWpvA950nWbXxb4ejvIMfaoABMnf61HPaBJpCq5SRcZ9DXj/h7xBeeHNRW6s2O3Pzxno49K9r8PeIdJ8VWubR1iuMZe3c4IPtX02DxqlHkludUZdGYUFuFkYyrtQcEVnT2LQqZIl3RMcY9K7i40rdMCI+nJGOtZ13p3k7kUcN86+1ehJphI5aHC/KT9M9q0rdPMjIyA4/hPejU7E/JcouFx8xFR2ku9j8p3DofWueT7gmnoPgaRS0Djaueau3zwuoHHyrioFTfKZZWICjJrn59XV5HKnCk8V8/mknyKCMKq1K96UW4JHrV+z1JUhxXNX17uckGoIr/apGa8X2baISdjpHkLdTUbEBcmkLBRzUJ3SNk8CufRHkbikmQ0ySMAZbk1YRdoqGc4BJpLVhfsZ9wOQPeo26mpZPm59KgLZJrWJohYYfMn6dKnuCSRGvQdadZclsdammj28nrW8RNnrnw+lXXPh1qWiSHdLCu+MHsKtWX/FM/C+eZ/kub9ig9dv+TXEfDDxJDo3iAPcPi3YFJvpXTfELxDZ6vc21rpLZs4F4x60TklHm67Gt0o36m14CgtE8Barc3U7W+9trzL1UVkWNj4P07VIL2LX5vMicN93rVPwZ4nt9JW407VEMlhdjDgfwn1q9L4X8JMxuI9d2QnkRkcioUrxjy20BapWCEaVqPxlttW0tvMEuAzYxzisX4o3t1qHjS5hkkbyosKozwKbol7YaV45gnjmJsYX4kPcYqn431G31DxRd3lq+6FzlT61nUqOUGk9bhKV4/M6bRNZ0LxB4Qg8N67O1o8B/dSjoTXHeNfB914UuIHEgubSc5ilXkVestH8K6pZQSN4gNncj/Woy/wAqn8beN9ElsbDQLGR5obIAGd/4iK1UbxvM0hTU7KTsXfi1ph1LRfCaMQFygbPpV/4mSvpel6PplufLs47cYC8BuBWR478V6LrGgaQlhL50tsoyFP3TWlaeJ/Dnjfw3baV4ika0vLVQsc+O1dPtVdxOidN8u5wulBbm/hDfdaVQfpmu++L141omk6fGSlsIRsA4BOBWRqej+HdEss6dq/2y6DAqFGAKtar4n8K+MtJtNK8R3psL+0AEdyOh+tVbmVjlit4h8IbmYeK2tQxME0ZEi9sYNdB4DiW1+J2rwwH90BJgDp1rP03VfDPgnS5m0W7/ALS1CdNqzAcLVH4e6/b6b4kub7VpdvmxtlvUmiLcbIE+VpM6XwRBayeJtdu4gPtMMbbARyDzXn2q21xdalLPcgvKZDubPvWponij+w/F098g8y3mch1/vKa6G50/wpqV22ox6w1tFId725HOe4Fevh8y5JOU1dnXSxjWr1JtWtn1H4R2zX58yWFgI2PUjirGpzSWfwhsoYXKCRtpIPbmsDxh4kj1e0t9K0UNDYW38Z4L1Y1XxDYyfD2y0+KUSXMT/Mvp1rGWZR2itncbxXb1OMiiTzDsfGOppzzRx58v5m/vGofNyCMAZ9KjODXnV8RPES5ps4KtVzle4sh8z7zZpsVvlsk8U5U55qVeBlTWPKjC7FK7VG3tTPK80H5sN705j6008ii3Zj5jntccwrgZyvWuB1KXO73Nej6/EXsPpXl+ot/pBX0NFGP7xnVRsynXceAdPfVJTaoOGb5j6CuIVSzAKMk9K96+GXho6JoIurlMXF1yAeqinjqihS82dE9jtNPsorW1jtYF2xRKFFaF3eRafa5kYKAMtUcLJDGXc4VBk5ryfxr4qn1C+ktLJmIzj5e9fN06bq1DF35fUPGvj2S8ka0sGxHnBYGu88EhF8OW78AsMk15Xo3gW+1SQTXmYYyc89TXqOnWYsLCO1RyUjGBzXo1ow9nyRMnGyNDxCYtR017KM5Zxgkdq4iKBfCOr2F2JNqQyDLH6810Wq6xaaPaGa6cDHRQeTXkfinxHc6/OWbKRL9xBTwlJxemxcFZntnjzSp/EvxA8ONaf8g7UAs0hXuBjOfzrgvi5eT+JfGzWtkC1rp6rCrDoMV2XgD4oeHrb4fQx65cKmp2EbRxFuuO2Pyry7X/AB/pwSSHSICzO5Z5W6sc1607qyprc6PQ9l8XRi1+EuiKSMpAo3H6Cn614kh0D4J6XPNK22UY+Q/erzP4kePtP1v4b6FYafeE3UMaidF4wcCq/i7xjpGpfBPRNGtrnffW5/eJ6Vfsbttvcqx23wp8Svq2j+JtTt1IntYcQ55PQ14Jc6zqF1rzXE91K03nZDbjkHNdD8LvHx8Da88l1F52n3K7LiP1HrXZX1n8K/7UGt215PJvcSLYqvVs9PzrSMIxVkFtDc+NPnXvw98KyzEtIYELE9TwK1vGGhz6x8GfDUUA/wBXFuYntV/4rNb6j4M0SRLfyg0KvHFj7q4HFasWo22pfDCytLQ7pYIdrrjpXDXxCipR6oFK0h9hZPH8HdPs3cgdGwetYvwxMll47mskdvJeNsqTx0Nbn9qW8fw/tbdmw8TfOD261574Y8eaTovxHee9nCW4jYF/fBrCM3UxKs7qyMZX9odNo1xHH8ZvJDjO9sLn3rF8LxRal+0hq81yoke13mJW9cGuO8M+MLK2+NEutX9yRY+a5Vz6E8Vlz+PRofxluvEulN51s85JA/jQ9a9GlBQjYqKSRk+MtTutS+IGoT6lI5dbhlCsfugHArq/hNENa+IsVqSxjMLAgd+K2ddsPh14+vDrUGuf2NcyjdNE69T3rO8E614b8B/FeA6ZeG9sZIvLacjoxyKmdNSd2XFNTudr4jsPBXhPxIkWp3V1JezzKyLFwEP1rb+JGqy22uW8Nrny7i3Ul+4xUfjRPCerahbareTNOsLh1ijTlj7ms7xzqthrWtafdafNn9ztaIfw4rGpKKpOxvOc4JzXQ4KLwaZ/FCalPdGZg288cVN4ispfEHjDa/zIigN7V19tjyjnsM1h+GwbrUr66fkNKQv0FeNWxE1FyfQ4amIlVfZFi6sotL0lYoRtUCspYSbYOfUVpeJJtqhAe9VYAZLICvPg3y8z6ko7eM7bOL/cH8q5fxfrK6dpj/N8xHFdFNmHSo53OFAAH5V4p471032oNCjfIprrwtF1Jo5+R3Ryl7cNc3Lyucljmqp+Y0rHNKq19Kkoo60rIVRilNHWopZNowOtC1YLVjZ5cfKtbXhqEy2831Fc6fmbJrsvBMYe1uM/3hRWfJTuat8iuRXtu6ZK1jSzOjYau7urJWUmub1DS92SormpVlLRijVvuQ6Zc5Yc11tnLvjHNcfY2jxPg101hlQAayrpN6GdSzNpKl7VXiYVYHI4rhaOYpX5xGa5e5sJLqXphc11lz5SAtKwrn77VUUlYBz612UIyO6hRaXNIbCkGnRcgbqoXmpy3JKKxCegqB5JbiTkkk1oWemqmHm/Ku6MUtWdMpdIlO105523Pwv860nlhsItq43UlzeLD8kWKrbYZF3yHJ96OpJA17deeJ4pJIiD8rqSMfjXs/wi8V6n4klufD2vf6fZGAkNIM7PxrkvDfjzw1pehjS9c0CO8VWJEw+9V+5+LmlaXpU9p4L0RbCS4Xa9w33gKtaCZ2fwr+xafqXiq0hjExg3COMdXUZ4rFuPG/huO4cTeFsPG5zk9wa4LwZ4pu9A1oalbybpWP7wMfv565r0u88ZeEdQT7Xf6APtDDLBDgMa55VErLYyk7PQ4fx548TxVqmnNBafZVtyEAz1HFdX8cYzKPDznp9iX+VeW+N9WtNS177TpVmLKEABYlPTHevRYvino2teE7ex8R6T9ou7aLy45QfbArVu8Xd7lOSsad/G95+zzCNN5EUwMyr14615b4Xtbi58S2EdmGMvnqRt7c10Hg74gz+F5Li1kt1u9MuSfMtn6YrpofiN4Z0YyXfh7w8sV84OHfoh9qydpWdzG6ZZ+LmqnTPH1hc2bAXlrErMw9at6d4k8MfE66TS9as/s2ryoQlxH/EQK8zHi0HxV/bOuQi/3PukiY8EeldFB8TfCWjXD6joXhsx6iQdjO3CE+laRXNJt7FRi27jPC3w0hvvHmq2Wsyl7LSiWk29XHb+VbXhbx3on/CdWuleH/DUEcXnbBKwy4x3rhvCvxPvtA8XXmsXcQukviftER6EGulsviX4a0vVhqHhzw2sVy77nkkOdvritlZI38hnxZuTD8R73HGVWuFm1U5IBrU8d+Jk8T+JJtUjhMIlUDYTnGK5PdnJNZOKbuOaSRYnuGmPJ4qqVFOJ4puapEpjStFvPcWNytxaStDKpyGU4pcml25HIqk2tUWepeGPjEEjjt/EltvKjaLlBzj3rvrHUNG1yANp2oQSZOQrMAR7V84+XxU1sZIZA0MjRsO6nFdtPG1Kas9R3Po690ItE8cUQaNx/Cc4Ncw+iXVq42xNhT1xXnNp4p1yzUCHUpgB0BbNTT+NddlQq+oPiuj+0ItaoTuzpfE+pQWGnvaxyA3UnBA/hFcE0hA4aop7x5pGkmcu7dWJ5NVXua82tUdWfMw9R8z5bk1GHxUDzg/WozKawaC56CIFZ+SaekC9eaKK8s8NjvJX1NVriFfU0UVUNxopSQKOhNVvIUHgmiitI7GqNLSrdPmPOafqMYSBmUnOKKK2Ql8RQ8LrvuZwzE966yOJdveiiscT8Rdb42SLAnvUc0K9OcUUVh9gzIxboTzmsfWCUXajEA0UUU9kETP0q1jaZi2SQMiqeoWsbMc5oorqjuW9ynaW4W4RVdwC3TNdTPbpDFujyDt60UVrZaju+ZHN3VxOJDiZxn0NZ08Al+aRmZvUmiit47Gp1fhlN2m4JJ2niuhSFcd6KKyW7Oee48wL71atbWMplsn60UVNTYI7jJ1+bGSB6CoEhUTYGcHrRRWRL3DyVVuCalWBcd6KKbIJBEvvTWgUcjNFFaLYY3YDxk0hiX1NFFadBFLWIVOmt1ryjU7ZBevy3WiipofxZHZh9jV8D6VbX3iy0iuQzpuzjPXFfRccSqwReFUYAHYUUV5+Z/xF6GtTczPF00ltoD+SxUvwTXN+GdAsBD9qaMvM3JZzmiiuWhpTYS+FHVCJVT5eKrXkrQWMsqH5lHGaKKuO5h1PH9Uup9U1CR7yZ3IJwM8CtG/0Oyt/CJvI1bzmH3iaKK75aOKRr2POmhDEks35037Ovq1FFesdAfZ19WpRbr6tRRQB6B8LPDOmeIfFUdlqsJmgaMkrnHPFeuaJ8G/CMHiNJBbTv5b7lR5AVyPbFFFRHYmJq+Oz9pmaKQAR2wCRKowFFW/AFrE9rIrLlSnIoor5PHN+0kZ9UV/GNpEmhX6INq7D0r5ilgVpnLFidx6miiuzK/hkKXQbJbJ5LdarfZ029TRRXtx2EhhtU96b5IjYMjMCDkEHpRRWiLW57J4Fvri80kRXUnmqF/iANFrCJPEs87FtzDGOw/CiivLqfaOuprhjrIox9kk6/cP8qzvCsCJpRK5yXJNFFeLif4b9TyIFDxIgaZMk9acR5WnApwcUUVnH4Im8d0a/iu6lTwxbqrYAizxXgt6nm3Ds7MSTRRXvYNLUqf8AGkVVt0LdTTzAo7tRRXovcbEaBQvBNVHhUtyWooq4FwE+zp6muw8ExBbe4wT94UUVlif4TCp8J0zxK3UmqklpGTzmiivKic62K4sYQ/ANTx26KeM0UVUgkaFvAuO9LdkxxnYSOKKKKaVzTDpORzF7I80hDu2KpR2yM3OetFFelDY7pbmta2ECJuAOfeoL7KDCsQKKKpmZjzJk8sarsnbc350UVK3KBYFz1apDAoXqaKKoGTWS7JBhmrdLsYgCxxiiiuWolzGT3MG+iDzncTUtvCoj4LdKKK2l8IVdixFEC3JNSzJhcAmiisznW5mSxBiclqia3T1NFFbxO2OxF9nXd1Na1lbRrCCM5oopy2Kj8RXvYh5mMnFQCBcdTRRU9CJ7jjAvqaBAp7miiqiQh/2dPU077OmO9FFM1QvkL70+OFc9TRRSGT+UMdTUM0K7epoooEU3iHq1V2iB7tRRVIljfJXPU04Qr6miikxI/9k=)\r\n",
        " 이 프로젝트는 꽃받침과 꽃잎의 크기에 따라 붓꽃을 위 그림처럼 Setosa, Vericolor, Virginica 세 가지 다른 종으로 분류하는 모델을 구축하고 테스트합니다.\r\n",
        "\r\n",
        "Iris 데이터 세트를 사용하여 모델을 훈련합니다. Iris 데이터 세트에는 4개의 기능과 1개의 레이블이 있습니다. 네 가지 특징은 개별 아이리스 꽃의 다음과 같은 식물 특성을 식별합니다.\r\n",
        "\r\n",
        "* 꽃받침 길이\r\n",
        "* 꽃받침 너비\r\n",
        "* 꽃잎 길이\r\n",
        "* 꽃잎 너비"
      ]
    },
    {
      "cell_type": "markdown",
      "metadata": {
        "id": "75kYnj7vkUND"
      },
      "source": [
        "### ✔데이터 읽어오기"
      ]
    },
    {
      "cell_type": "markdown",
      "metadata": {
        "id": "vz1A1Ng5uDMe"
      },
      "source": [
        "붓꽃 데이터를 다운로드합니다."
      ]
    },
    {
      "cell_type": "code",
      "metadata": {
        "id": "N2qImX01pLze"
      },
      "source": [
        "# 필요한 모듈 읽기\r\n",
        "import pandas as pd\r\n",
        "from sklearn.preprocessing import MinMaxScaler\r\n",
        "from sklearn.preprocessing import LabelBinarizer\r\n",
        "from sklearn.model_selection import train_test_split\r\n",
        "import tensorflow as tf\r\n",
        "tf.compat.v1.random.set_random_seed(777)\r\n",
        "import numpy as np\r\n",
        "\r\n",
        "# 데이터 로드\r\n",
        "df = pd.read_csv('https://raw.githubusercontent.com/cranberryai/todak_todak_python/master/machine_learning/multiple_classification/Iris.csv')"
      ],
      "execution_count": null,
      "outputs": []
    },
    {
      "cell_type": "markdown",
      "metadata": {
        "id": "DvU1Q56PWFRu"
      },
      "source": [
        "### ✔데이터 저장과 전처리"
      ]
    },
    {
      "cell_type": "markdown",
      "metadata": {
        "id": "LrS-SC7guJPn"
      },
      "source": [
        "x_data_df에는 Id와 Species를 드롭하여 Dataframe과 분리시킵니다.\r\n",
        "\r\n",
        "y_data_df에는 Species의 데이터만 저장합니다."
      ]
    },
    {
      "cell_type": "code",
      "metadata": {
        "colab": {
          "base_uri": "https://localhost:8080/"
        },
        "id": "mZGUfl58V-48",
        "outputId": "964cfd10-5090-420f-9e4f-8e67e94f8e93"
      },
      "source": [
        "x_data_df = df.drop(['Id', 'Species'], axis=1)\r\n",
        "y_data_df = df[['Species']]\r\n",
        "\r\n",
        "print(x_data_df.head())"
      ],
      "execution_count": null,
      "outputs": [
        {
          "output_type": "stream",
          "text": [
            "   SepalLengthCm  SepalWidthCm  PetalLengthCm  PetalWidthCm\n",
            "0            5.1           3.5            1.4           0.2\n",
            "1            4.9           3.0            1.4           0.2\n",
            "2            4.7           3.2            1.3           0.2\n",
            "3            4.6           3.1            1.5           0.2\n",
            "4            5.0           3.6            1.4           0.2\n"
          ],
          "name": "stdout"
        }
      ]
    },
    {
      "cell_type": "markdown",
      "metadata": {
        "id": "uwkjrcltm3Ek"
      },
      "source": [
        "### ✔훈련 데이터와 테스트 데이터 나누기"
      ]
    },
    {
      "cell_type": "code",
      "metadata": {
        "colab": {
          "base_uri": "https://localhost:8080/"
        },
        "id": "DtXjFBLuvUcF",
        "outputId": "e31a2ae6-0958-49b6-8008-35c43967ac81"
      },
      "source": [
        "transformer = MinMaxScaler()\r\n",
        "transformer.fit(x_data_df)\r\n",
        "x_data = transformer.transform(x_data_df)\r\n",
        "\r\n",
        "lb = LabelBinarizer()\r\n",
        "lb.fit(y_data_df)\r\n",
        "print(lb.classes_)\r\n",
        "labels = lb.classes_\r\n",
        "y_data = lb.transform(y_data_df)\r\n",
        "\r\n",
        "print(x_data.shape)\r\n",
        "print(y_data.shape)\r\n",
        "\r\n",
        "x_train, x_test, y_train, y_test = train_test_split(x_data, y_data, test_size=0.3, random_state=777, stratify=y_data)\r\n",
        "\r\n",
        "train_dataset = tf.data.Dataset.from_tensor_slices((x_train, y_train)) \r\n",
        "train_dataset = train_dataset.shuffle(buffer_size=10000)\r\n",
        "train_dataset = train_dataset.batch(32)\r\n",
        "\r\n",
        "test_dataset = tf.data.Dataset.from_tensor_slices((x_test, y_test)) \r\n",
        "test_dataset = test_dataset.batch(32)\r\n",
        "\r\n",
        "def preprocess(x, y):\r\n",
        "    x = x / 255\r\n",
        "\r\n",
        "    return x, y\r\n",
        "    \r\n",
        "train_dataset = train_dataset.map(preprocess)\r\n",
        "test_dataset = test_dataset.map(preprocess)"
      ],
      "execution_count": null,
      "outputs": [
        {
          "output_type": "stream",
          "text": [
            "['Iris-setosa' 'Iris-versicolor' 'Iris-virginica']\n",
            "(150, 4)\n",
            "(150, 3)\n"
          ],
          "name": "stdout"
        }
      ]
    },
    {
      "cell_type": "markdown",
      "metadata": {
        "id": "4GWYyQ60nGvL"
      },
      "source": [
        "### ✔딥러닝 모델\r\n",
        "### ✔입력, 중간(은닉), 출력층"
      ]
    },
    {
      "cell_type": "code",
      "metadata": {
        "id": "-y_YJJJwwqAX"
      },
      "source": [
        "# 모델 생성\r\n",
        "input = tf.keras.layers.Input(shape=(4,))\r\n",
        "net = tf.keras.layers.Dense(units=32, activation='relu')(input)\r\n",
        "net = tf.keras.layers.Dense(units=32, activation='relu')(net)\r\n",
        "net = tf.keras.layers.Dense(units=3, activation='softmax')(net)\r\n",
        "model = tf.keras.models.Model(inputs=input, outputs=net)"
      ],
      "execution_count": null,
      "outputs": []
    },
    {
      "cell_type": "markdown",
      "metadata": {
        "id": "gDcRDk0EnYMv"
      },
      "source": [
        "### ✔옵티마이저, 손실함수"
      ]
    },
    {
      "cell_type": "markdown",
      "metadata": {
        "id": "q3v-FKdAvspQ"
      },
      "source": [
        "학습데이터의 손실과 정확도, 테스트데이터의 손실과 정확도를 출력하여 손실도가 얼마나 줄어들고 정확도가 얼마나 증가하였는지 확인할 수 있도록 했습니다."
      ]
    },
    {
      "cell_type": "code",
      "metadata": {
        "colab": {
          "base_uri": "https://localhost:8080/"
        },
        "id": "oAz2yAoew5MZ",
        "outputId": "71eb02c8-822c-4db6-9bcb-bdf31c60431f"
      },
      "source": [
        "#모델 학습 및 검증\r\n",
        "loss = tf.keras.losses.CategoricalCrossentropy()\r\n",
        "optimizer = tf.keras.optimizers.Adam(learning_rate=0.01)\r\n",
        "train_loss = tf.keras.metrics.Mean()\r\n",
        "train_accuracy = tf.keras.metrics.Accuracy()\r\n",
        "test_loss = tf.keras.metrics.Mean()\r\n",
        "test_accuracy = tf.keras.metrics.Accuracy()\r\n",
        "\r\n",
        "epochs = 50\r\n",
        "for epoch_index in range(epochs):\r\n",
        "    for x_train_batch, y_train_batch in train_dataset:\r\n",
        "        with tf.GradientTape() as tape:\r\n",
        "            predictions = model(x_train_batch, training=True)\r\n",
        "            loss_value = loss(y_train_batch, predictions)\r\n",
        "        gradients = tape.gradient(loss_value, model.trainable_variables)\r\n",
        "        optimizer.apply_gradients(zip(gradients, model.trainable_variables))\r\n",
        "\r\n",
        "        train_loss.update_state(loss_value)\r\n",
        "        train_accuracy.update_state(tf.argmax(y_train_batch, axis=1), tf.argmax(predictions, axis=1))\r\n",
        "\r\n",
        "    for x_test_batch, y_test_batch in test_dataset:\r\n",
        "        predictions = model(x_test_batch)\r\n",
        "        loss_value = loss(y_test_batch, predictions)\r\n",
        "        test_loss.update_state(loss_value)\r\n",
        "        test_accuracy.update_state(tf.argmax(y_test_batch, axis=1), tf.argmax(predictions, axis=1))\r\n",
        "\r\n",
        "    print('epoch: {}/{}, train loss: {:.4f}, test loss: {:.4f}, train accuracy: {:.4f}, test accuracy: {:.4f}'.format(\r\n",
        "        epoch_index + 1, epochs, train_loss.result().numpy(), test_loss.result().numpy(), train_accuracy.result().numpy(), test_accuracy.result().numpy()))\r\n",
        "    train_loss.reset_states()\r\n",
        "    train_accuracy.reset_states()\r\n",
        "    test_loss.reset_states()\r\n",
        "    test_accuracy.reset_states()"
      ],
      "execution_count": null,
      "outputs": [
        {
          "output_type": "stream",
          "text": [
            "epoch: 1/50, train loss: 1.1005, test loss: 1.0957, train accuracy: 0.3238, test accuracy: 0.3333\n",
            "epoch: 2/50, train loss: 1.1013, test loss: 1.0949, train accuracy: 0.3333, test accuracy: 0.3333\n",
            "epoch: 3/50, train loss: 1.1001, test loss: 1.1001, train accuracy: 0.3048, test accuracy: 0.3333\n",
            "epoch: 4/50, train loss: 1.0966, test loss: 1.1000, train accuracy: 0.3333, test accuracy: 0.3333\n",
            "epoch: 5/50, train loss: 1.0985, test loss: 1.0989, train accuracy: 0.3333, test accuracy: 0.3333\n",
            "epoch: 6/50, train loss: 1.0971, test loss: 1.0955, train accuracy: 0.3333, test accuracy: 0.3333\n",
            "epoch: 7/50, train loss: 1.1002, test loss: 1.0929, train accuracy: 0.3333, test accuracy: 0.3333\n",
            "epoch: 8/50, train loss: 1.1000, test loss: 1.0901, train accuracy: 0.3333, test accuracy: 0.3333\n",
            "epoch: 9/50, train loss: 1.0971, test loss: 1.0933, train accuracy: 0.3333, test accuracy: 0.3333\n",
            "epoch: 10/50, train loss: 1.0957, test loss: 1.0957, train accuracy: 0.3048, test accuracy: 0.3333\n",
            "epoch: 11/50, train loss: 1.0965, test loss: 1.0950, train accuracy: 0.3333, test accuracy: 0.3333\n",
            "epoch: 12/50, train loss: 1.1010, test loss: 1.0958, train accuracy: 0.3333, test accuracy: 0.3333\n",
            "epoch: 13/50, train loss: 1.0951, test loss: 1.0907, train accuracy: 0.3524, test accuracy: 0.3333\n",
            "epoch: 14/50, train loss: 1.0975, test loss: 1.0893, train accuracy: 0.3333, test accuracy: 0.3333\n",
            "epoch: 15/50, train loss: 1.0938, test loss: 1.0914, train accuracy: 0.3333, test accuracy: 0.4000\n",
            "epoch: 16/50, train loss: 1.0932, test loss: 1.0896, train accuracy: 0.4190, test accuracy: 0.3333\n",
            "epoch: 17/50, train loss: 1.0895, test loss: 1.0832, train accuracy: 0.3333, test accuracy: 0.3333\n",
            "epoch: 18/50, train loss: 1.1061, test loss: 1.0796, train accuracy: 0.3333, test accuracy: 0.3333\n",
            "epoch: 19/50, train loss: 1.0907, test loss: 1.0945, train accuracy: 0.3714, test accuracy: 0.4000\n",
            "epoch: 20/50, train loss: 1.0897, test loss: 1.0918, train accuracy: 0.3619, test accuracy: 0.3333\n",
            "epoch: 21/50, train loss: 1.0861, test loss: 1.0844, train accuracy: 0.3524, test accuracy: 0.7333\n",
            "epoch: 22/50, train loss: 1.0846, test loss: 1.0747, train accuracy: 0.4476, test accuracy: 0.3333\n",
            "epoch: 23/50, train loss: 1.0839, test loss: 1.0746, train accuracy: 0.3333, test accuracy: 0.6444\n",
            "epoch: 24/50, train loss: 1.0791, test loss: 1.0812, train accuracy: 0.4667, test accuracy: 0.3556\n",
            "epoch: 25/50, train loss: 1.0716, test loss: 1.0580, train accuracy: 0.5524, test accuracy: 0.3333\n",
            "epoch: 26/50, train loss: 1.0620, test loss: 1.0475, train accuracy: 0.3333, test accuracy: 0.3333\n",
            "epoch: 27/50, train loss: 1.0669, test loss: 1.0423, train accuracy: 0.3333, test accuracy: 0.3333\n",
            "epoch: 28/50, train loss: 1.0462, test loss: 1.0689, train accuracy: 0.4857, test accuracy: 0.3333\n",
            "epoch: 29/50, train loss: 1.0481, test loss: 1.0249, train accuracy: 0.3714, test accuracy: 0.6667\n",
            "epoch: 30/50, train loss: 1.0374, test loss: 1.0082, train accuracy: 0.5048, test accuracy: 0.3333\n",
            "epoch: 31/50, train loss: 1.0175, test loss: 1.0459, train accuracy: 0.4762, test accuracy: 0.3556\n",
            "epoch: 32/50, train loss: 1.0805, test loss: 1.1000, train accuracy: 0.3333, test accuracy: 0.3333\n",
            "epoch: 33/50, train loss: 1.0245, test loss: 0.9811, train accuracy: 0.4762, test accuracy: 0.3333\n",
            "epoch: 34/50, train loss: 1.0180, test loss: 0.9675, train accuracy: 0.3429, test accuracy: 0.6667\n",
            "epoch: 35/50, train loss: 0.9689, test loss: 1.0076, train accuracy: 0.6857, test accuracy: 0.3556\n",
            "epoch: 36/50, train loss: 0.9723, test loss: 0.9445, train accuracy: 0.5048, test accuracy: 0.8222\n",
            "epoch: 37/50, train loss: 0.9367, test loss: 0.9220, train accuracy: 0.8476, test accuracy: 0.6222\n",
            "epoch: 38/50, train loss: 0.9260, test loss: 0.9059, train accuracy: 0.6476, test accuracy: 0.7778\n",
            "epoch: 39/50, train loss: 0.8964, test loss: 0.8992, train accuracy: 0.7810, test accuracy: 0.6889\n",
            "epoch: 40/50, train loss: 0.8775, test loss: 0.8486, train accuracy: 0.6667, test accuracy: 0.6667\n",
            "epoch: 41/50, train loss: 0.8606, test loss: 0.8190, train accuracy: 0.6667, test accuracy: 0.6667\n",
            "epoch: 42/50, train loss: 0.8594, test loss: 0.7940, train accuracy: 0.6476, test accuracy: 0.6667\n",
            "epoch: 43/50, train loss: 0.7988, test loss: 0.7745, train accuracy: 0.6667, test accuracy: 0.6667\n",
            "epoch: 44/50, train loss: 0.7984, test loss: 0.7527, train accuracy: 0.6667, test accuracy: 0.6889\n",
            "epoch: 45/50, train loss: 0.7890, test loss: 0.7194, train accuracy: 0.6857, test accuracy: 0.6667\n",
            "epoch: 46/50, train loss: 0.7676, test loss: 0.7373, train accuracy: 0.6762, test accuracy: 0.8222\n",
            "epoch: 47/50, train loss: 0.7217, test loss: 0.6753, train accuracy: 0.7333, test accuracy: 0.7556\n",
            "epoch: 48/50, train loss: 0.6881, test loss: 0.6765, train accuracy: 0.7048, test accuracy: 0.8889\n",
            "epoch: 49/50, train loss: 0.7084, test loss: 0.6576, train accuracy: 0.8095, test accuracy: 0.6889\n",
            "epoch: 50/50, train loss: 0.7035, test loss: 0.6270, train accuracy: 0.6952, test accuracy: 0.9111\n"
          ],
          "name": "stdout"
        }
      ]
    },
    {
      "cell_type": "markdown",
      "metadata": {
        "id": "LxOkrXXQnUKz"
      },
      "source": [
        "### ✔모델 예측"
      ]
    },
    {
      "cell_type": "markdown",
      "metadata": {
        "id": "gOS9H9bKv-57"
      },
      "source": [
        "모델을 예측하여 0번에는 어떤 붓꽃의 종류가 있는지 확인합니다."
      ]
    },
    {
      "cell_type": "code",
      "metadata": {
        "colab": {
          "base_uri": "https://localhost:8080/"
        },
        "id": "S_tkVmtimWDq",
        "outputId": "ad8535ec-39b4-4192-f8d3-62089a3ad8a8"
      },
      "source": [
        "#모델 예측\r\n",
        "y_predict = model(np.array([\r\n",
        "    [5.3, 3.7, 1.5, 0.2]\r\n",
        "])).numpy()\r\n",
        "print(y_predict)\r\n",
        "print(y_predict.argmax(axis=1))\r\n",
        "print(y_predict.argmax(axis=1)[0])\r\n",
        "print(labels[y_predict.argmax(axis=1)[0]])"
      ],
      "execution_count": null,
      "outputs": [
        {
          "output_type": "stream",
          "text": [
            "[[0. 0. 1.]]\n",
            "[2]\n",
            "2\n",
            "Iris-virginica\n"
          ],
          "name": "stdout"
        }
      ]
    },
    {
      "cell_type": "markdown",
      "metadata": {
        "id": "QKBj0GvSoPEd"
      },
      "source": [
        "# 3.CNN 문제: CIFAR-10 분류"
      ]
    },
    {
      "cell_type": "markdown",
      "metadata": {
        "id": "Ulg6MJCw3O1Q"
      },
      "source": [
        "### ✔프로젝트 목적"
      ]
    },
    {
      "cell_type": "markdown",
      "metadata": {
        "id": "3o19bgT4tAut"
      },
      "source": [
        "CIFAR-10 데이터셋은 그 유명한 2012년 ILSVRC에서 종전의 기록과 당해년도 대비 압도적인 정확도로 1등을 했던 AlexNet의 창시자 Alex krizhevsky가 수집하여 만든 데이터 셋입니다. RGB채널, 32x32 사이즈, 10개의 Class 분류 데이터 60,000개로 이루어져있습니다."
      ]
    },
    {
      "cell_type": "code",
      "metadata": {
        "id": "91gjeoqsmeBK"
      },
      "source": [
        "# 사용할 라이브러리 불러오기\r\n",
        "\r\n",
        "import numpy as np\r\n",
        "# 숫자 -> One-hot Vector 를 위한 라이브러리\r\n",
        "from keras.utils import np_utils\r\n",
        "# CIFAR-10 Dataset을 가져오기 위한 라이브러리\r\n",
        "from keras.datasets import cifar10, mnist\r\n",
        "# 순차적인 모델을 만들기 위한 Sequential 함수\r\n",
        "from keras.models import Sequential\r\n",
        "# CNN 및 MLP에 필요한 각 층들\r\n",
        "from keras.layers import Dense, Activation\r\n",
        "from keras.layers import Conv2D, MaxPooling2D, Flatten\r\n",
        "# 드롭아웃 적용을 위한 층\r\n",
        "from keras.layers import Dropout\r\n",
        "# 배치 정규화 적용을 위한 층\r\n",
        "from keras.layers import BatchNormalization\r\n",
        "# L2 정규화를 위한 라이브러리\r\n",
        "from keras.regularizers import l2\r\n",
        "# Google Colab에서 이미지를 보기 위한 cv2_imshow 함수\r\n",
        "from google.colab.patches import cv2_imshow"
      ],
      "execution_count": 116,
      "outputs": []
    },
    {
      "cell_type": "markdown",
      "metadata": {
        "id": "qLFgQO-urcDK"
      },
      "source": [
        "### ✔데이터 읽어오기\r\n",
        "### ✔데이터 수, 속성 수"
      ]
    },
    {
      "cell_type": "code",
      "metadata": {
        "colab": {
          "base_uri": "https://localhost:8080/",
          "height": 442
        },
        "id": "PmwSnWNLrGbR",
        "outputId": "0dbe3fc5-5343-40e4-bffd-df151e6f4c57"
      },
      "source": [
        "# CIFAR-10 Dataset 가져오기\r\n",
        "(x_train, y_train), (x_test, y_test) = cifar10.load_data()\r\n",
        "print('x_train :', np.shape(x_train))\r\n",
        "print('y_train :', np.shape(y_train))\r\n",
        "print('x_test :', np.shape(x_test))\r\n",
        "print('y_test :', np.shape(y_test))\r\n",
        "\r\n",
        "# 한 번 Training Dataset의 이미지 10개 정도 봅시다\r\n",
        "for i in range(10):\r\n",
        "  cv2_imshow(x_train[i])"
      ],
      "execution_count": 117,
      "outputs": [
        {
          "output_type": "stream",
          "text": [
            "Downloading data from https://www.cs.toronto.edu/~kriz/cifar-10-python.tar.gz\n",
            "170500096/170498071 [==============================] - 3s 0us/step\n",
            "x_train : (50000, 32, 32, 3)\n",
            "y_train : (50000, 1)\n",
            "x_test : (10000, 32, 32, 3)\n",
            "y_test : (10000, 1)\n"
          ],
          "name": "stdout"
        },
        {
          "output_type": "display_data",
          "data": {
            "image/png": "[encoded data removed]",
            "text/plain": [
              "<PIL.Image.Image image mode=RGB size=32x32 at 0x7F626E7DF898>"
            ]
          },
          "metadata": {
            "tags": []
          }
        },
        {
          "output_type": "display_data",
          "data": {
            "image/png": "[encoded data removed]",
            "text/plain": [
              "<PIL.Image.Image image mode=RGB size=32x32 at 0x7F626E7DF9E8>"
            ]
          },
          "metadata": {
            "tags": []
          }
        },
        {
          "output_type": "display_data",
          "data": {
            "image/png": "[encoded data removed]",
            "text/plain": [
              "<PIL.Image.Image image mode=RGB size=32x32 at 0x7F626E7DF898>"
            ]
          },
          "metadata": {
            "tags": []
          }
        },
        {
          "output_type": "display_data",
          "data": {
            "image/png": "[encoded data removed]",
            "text/plain": [
              "<PIL.Image.Image image mode=RGB size=32x32 at 0x7F626E7DF9E8>"
            ]
          },
          "metadata": {
            "tags": []
          }
        },
        {
          "output_type": "display_data",
          "data": {
            "image/png": "[encoded data removed]",
            "text/plain": [
              "<PIL.Image.Image image mode=RGB size=32x32 at 0x7F626E7DF898>"
            ]
          },
          "metadata": {
            "tags": []
          }
        },
        {
          "output_type": "display_data",
          "data": {
            "image/png": "[encoded data removed]",
            "text/plain": [
              "<PIL.Image.Image image mode=RGB size=32x32 at 0x7F626E7DFAC8>"
            ]
          },
          "metadata": {
            "tags": []
          }
        },
        {
          "output_type": "display_data",
          "data": {
            "image/png": "[encoded data removed]",
            "text/plain": [
              "<PIL.Image.Image image mode=RGB size=32x32 at 0x7F626E7DF898>"
            ]
          },
          "metadata": {
            "tags": []
          }
        },
        {
          "output_type": "display_data",
          "data": {
            "image/png": "[encoded data removed]",
            "text/plain": [
              "<PIL.Image.Image image mode=RGB size=32x32 at 0x7F626E7DFAC8>"
            ]
          },
          "metadata": {
            "tags": []
          }
        },
        {
          "output_type": "display_data",
          "data": {
            "image/png": "[encoded data removed]",
            "text/plain": [
              "<PIL.Image.Image image mode=RGB size=32x32 at 0x7F626E7DF898>"
            ]
          },
          "metadata": {
            "tags": []
          }
        },
        {
          "output_type": "display_data",
          "data": {
            "image/png": "[encoded data removed]",
            "text/plain": [
              "<PIL.Image.Image image mode=RGB size=32x32 at 0x7F626E7DFA20>"
            ]
          },
          "metadata": {
            "tags": []
          }
        }
      ]
    },
    {
      "cell_type": "markdown",
      "metadata": {
        "id": "Kpknzj5wrnrA"
      },
      "source": [
        "### 원핫인코딩"
      ]
    },
    {
      "cell_type": "markdown",
      "metadata": {
        "id": "mrJYDLPutHQY"
      },
      "source": [
        "Loss의 스케일 조정을 위해 0 ~ 255 -> 0 ~ 1 범위로 만들어줍니다.\r\n",
        "또한, 이번엔 Test Dataset을 Validation Set으로 써봤습니다. "
      ]
    },
    {
      "cell_type": "code",
      "metadata": {
        "colab": {
          "base_uri": "https://localhost:8080/"
        },
        "id": "-1oc4bMBrj5t",
        "outputId": "2dc8a4cb-153d-4a3f-d46c-ccf6f788d60f"
      },
      "source": [
        "x_train = x_train.astype('float32') / 255.0\r\n",
        "x_test = x_test.astype('float32') / 255.0\r\n",
        "\r\n",
        "y_train = np_utils.to_categorical(y_train)\r\n",
        "y_test = np_utils.to_categorical(y_test)\r\n",
        "print('y_train :', np.shape(y_train))"
      ],
      "execution_count": 118,
      "outputs": [
        {
          "output_type": "stream",
          "text": [
            "y_train : (50000, 10)\n"
          ],
          "name": "stdout"
        }
      ]
    },
    {
      "cell_type": "markdown",
      "metadata": {
        "id": "xRvvw9CKr0Ds"
      },
      "source": [
        "### ✔딥러닝 모델\r\n",
        "### ✔입력, 중간(은닉), 출력 층, 패러미터 수\r\n",
        "### ✔모델 종류(CNN)\r\n",
        "### ✔모델 요약(summary)"
      ]
    },
    {
      "cell_type": "markdown",
      "metadata": {
        "id": "IrnfwBAHtVzc"
      },
      "source": [
        "filters : Kernel 그룹의 갯수\r\n",
        "\r\n",
        "kernel_size : Kernel 크기\r\n",
        "\r\n",
        "padding : 'same'일 경우 입력과 출력 모양이 같도록 0을 주변에 덧댑니다.\r\n",
        "\r\n",
        "\r\n",
        "elu : ReLU 보다 발전된 형태의 활성화 함수입니다.\r\n",
        "\r\n",
        "kernel_regularizer : 가중치 규제를 정해줄 수 있습니다.\r\n",
        "\r\n",
        "l2(lambda) : 가중치의 L2 Norm을 목적 함수에 추가하며, lambda에 따라 곱해지는 상수값을 정합니다.\r\n",
        "\r\n",
        "BatchNormalization() : 배치 정규화를 위한 층을 추가합니다.\r\n",
        "\r\n",
        "Dropout(rate) : 앞의 층에 드롭아웃을 적용합니다. rate 값에 따라 없애고 학습할 노드 비율을 정합니다.\r\n"
      ]
    },
    {
      "cell_type": "code",
      "metadata": {
        "colab": {
          "base_uri": "https://localhost:8080/"
        },
        "id": "CMjA6Bsyryqc",
        "outputId": "e74ea538-55c7-4e02-a3d6-89ee357907a7"
      },
      "source": [
        "# 모델 구성하기\r\n",
        "# 높이, 너비, 채널(RGB) 설정\r\n",
        "width = 32\r\n",
        "height = 32\r\n",
        "channel = 3\r\n",
        "# 순차적 모델을 만들기 위한 Sequential() 함수\r\n",
        "model = Sequential(name='CIFAR10_CNN_Upgraded')\r\n",
        "model.add(Conv2D(filters=32, kernel_size=(3, 3), padding='same', kernel_regularizer=l2(0.0001),\r\n",
        "                 input_shape=(width, height, channel), activation='elu'))\r\n",
        "model.add(BatchNormalization())\r\n",
        "model.add(Conv2D(filters=32, kernel_size=(3, 3), padding='same', kernel_regularizer=l2(0.0001), activation='elu'))\r\n",
        "model.add(BatchNormalization())\r\n",
        "# pool_size : MaxPooling 의 Window size\r\n",
        "model.add(MaxPooling2D(pool_size=(2, 2)))\r\n",
        "model.add(Dropout(0.2))\r\n",
        "model.add(Conv2D(filters=64, kernel_size=(3, 3), padding='same', kernel_regularizer=l2(0.0001), activation='elu'))\r\n",
        "model.add(BatchNormalization())\r\n",
        "model.add(Conv2D(filters=64, kernel_size=(3, 3), padding='same', kernel_regularizer=l2(0.0001), activation='elu'))\r\n",
        "model.add(BatchNormalization())\r\n",
        "model.add(MaxPooling2D(pool_size=(2, 2)))\r\n",
        "model.add(Dropout(0.3))\r\n",
        "model.add(Conv2D(filters=128, kernel_size=(3, 3), padding='same', kernel_regularizer=l2(0.0001), activation='elu'))\r\n",
        "model.add(BatchNormalization())\r\n",
        "model.add(Conv2D(filters=128, kernel_size=(3, 3), padding='same', kernel_regularizer=l2(0.0001), activation='elu'))\r\n",
        "model.add(BatchNormalization())\r\n",
        "model.add(MaxPooling2D(pool_size=(2, 2)))\r\n",
        "model.add(Dropout(0.4))\r\n",
        "# N차원 배열을 1차원으로 펴줍니다\r\n",
        "model.add(Flatten())\r\n",
        "# 출력층 MLP\r\n",
        "model.add(Dense(10, activation='softmax'))\r\n",
        "model.summary()"
      ],
      "execution_count": 119,
      "outputs": [
        {
          "output_type": "stream",
          "text": [
            "Model: \"CIFAR10_CNN_Upgraded\"\n",
            "_________________________________________________________________\n",
            "Layer (type)                 Output Shape              Param #   \n",
            "=================================================================\n",
            "conv2d (Conv2D)              (None, 32, 32, 32)        896       \n",
            "_________________________________________________________________\n",
            "batch_normalization (BatchNo (None, 32, 32, 32)        128       \n",
            "_________________________________________________________________\n",
            "conv2d_1 (Conv2D)            (None, 32, 32, 32)        9248      \n",
            "_________________________________________________________________\n",
            "batch_normalization_1 (Batch (None, 32, 32, 32)        128       \n",
            "_________________________________________________________________\n",
            "max_pooling2d (MaxPooling2D) (None, 16, 16, 32)        0         \n",
            "_________________________________________________________________\n",
            "dropout (Dropout)            (None, 16, 16, 32)        0         \n",
            "_________________________________________________________________\n",
            "conv2d_2 (Conv2D)            (None, 16, 16, 64)        18496     \n",
            "_________________________________________________________________\n",
            "batch_normalization_2 (Batch (None, 16, 16, 64)        256       \n",
            "_________________________________________________________________\n",
            "conv2d_3 (Conv2D)            (None, 16, 16, 64)        36928     \n",
            "_________________________________________________________________\n",
            "batch_normalization_3 (Batch (None, 16, 16, 64)        256       \n",
            "_________________________________________________________________\n",
            "max_pooling2d_1 (MaxPooling2 (None, 8, 8, 64)          0         \n",
            "_________________________________________________________________\n",
            "dropout_1 (Dropout)          (None, 8, 8, 64)          0         \n",
            "_________________________________________________________________\n",
            "conv2d_4 (Conv2D)            (None, 8, 8, 128)         73856     \n",
            "_________________________________________________________________\n",
            "batch_normalization_4 (Batch (None, 8, 8, 128)         512       \n",
            "_________________________________________________________________\n",
            "conv2d_5 (Conv2D)            (None, 8, 8, 128)         147584    \n",
            "_________________________________________________________________\n",
            "batch_normalization_5 (Batch (None, 8, 8, 128)         512       \n",
            "_________________________________________________________________\n",
            "max_pooling2d_2 (MaxPooling2 (None, 4, 4, 128)         0         \n",
            "_________________________________________________________________\n",
            "dropout_2 (Dropout)          (None, 4, 4, 128)         0         \n",
            "_________________________________________________________________\n",
            "flatten (Flatten)            (None, 2048)              0         \n",
            "_________________________________________________________________\n",
            "dense_6 (Dense)              (None, 10)                20490     \n",
            "=================================================================\n",
            "Total params: 309,290\n",
            "Trainable params: 308,394\n",
            "Non-trainable params: 896\n",
            "_________________________________________________________________\n"
          ],
          "name": "stdout"
        }
      ]
    },
    {
      "cell_type": "markdown",
      "metadata": {
        "id": "Kxl7tf4cr8hX"
      },
      "source": [
        "### ✔위에서 구성한 모델 학습"
      ]
    },
    {
      "cell_type": "markdown",
      "metadata": {
        "id": "M1PzWWMotyJO"
      },
      "source": [
        "loss : 목적 함수\r\n",
        "\r\n",
        "categorical_crossentropy : 분류가 2개 이상인 CEE\r\n",
        "\r\n",
        "optimizer : 학습 방법, Adam을 사용\r\n",
        "\r\n",
        "metrics : 학습 도중 화면에 어떤 값을 출력할지 결정"
      ]
    },
    {
      "cell_type": "code",
      "metadata": {
        "colab": {
          "base_uri": "https://localhost:8080/"
        },
        "id": "CrunRgK5r63O",
        "outputId": "bd00e1c7-5c99-43a2-dbd2-37c3a4791450"
      },
      "source": [
        "# 모델 학습과정 설정하기\r\n",
        "model.compile(loss='categorical_crossentropy', optimizer='adam', metrics=['accuracy'])\r\n",
        "\r\n",
        "# 모델 학습시키기\r\n",
        "# hist는 Epoch 당 학습 결과를 갖게 된다.\r\n",
        "hist = model.fit(x_train, y_train,\r\n",
        "                 epochs=30,\r\n",
        "                 batch_size=32,\r\n",
        "                 validation_data=(x_test, y_test))"
      ],
      "execution_count": 120,
      "outputs": [
        {
          "output_type": "stream",
          "text": [
            "Epoch 1/30\n",
            "1563/1563 [==============================] - 454s 290ms/step - loss: 1.6532 - accuracy: 0.4931 - val_loss: 1.4285 - val_accuracy: 0.5747\n",
            "Epoch 2/30\n",
            "1563/1563 [==============================] - 453s 290ms/step - loss: 1.0399 - accuracy: 0.6618 - val_loss: 1.0911 - val_accuracy: 0.6545\n",
            "Epoch 3/30\n",
            "1563/1563 [==============================] - 455s 291ms/step - loss: 0.8889 - accuracy: 0.7160 - val_loss: 0.8994 - val_accuracy: 0.7313\n",
            "Epoch 4/30\n",
            "1563/1563 [==============================] - 457s 293ms/step - loss: 0.8120 - accuracy: 0.7495 - val_loss: 0.8638 - val_accuracy: 0.7478\n",
            "Epoch 5/30\n",
            "1563/1563 [==============================] - 457s 293ms/step - loss: 0.7587 - accuracy: 0.7752 - val_loss: 0.7622 - val_accuracy: 0.7806\n",
            "Epoch 6/30\n",
            "1563/1563 [==============================] - 458s 293ms/step - loss: 0.7177 - accuracy: 0.7947 - val_loss: 0.7818 - val_accuracy: 0.7839\n",
            "Epoch 7/30\n",
            "1563/1563 [==============================] - 459s 293ms/step - loss: 0.6983 - accuracy: 0.8070 - val_loss: 0.7017 - val_accuracy: 0.8135\n",
            "Epoch 8/30\n",
            "1563/1563 [==============================] - 460s 294ms/step - loss: 0.6735 - accuracy: 0.8184 - val_loss: 0.8903 - val_accuracy: 0.7538\n",
            "Epoch 9/30\n",
            "1563/1563 [==============================] - 459s 294ms/step - loss: 0.6590 - accuracy: 0.8312 - val_loss: 0.7007 - val_accuracy: 0.8193\n",
            "Epoch 10/30\n",
            "1563/1563 [==============================] - 461s 295ms/step - loss: 0.6458 - accuracy: 0.8374 - val_loss: 0.7556 - val_accuracy: 0.8067\n",
            "Epoch 11/30\n",
            "1563/1563 [==============================] - 461s 295ms/step - loss: 0.6348 - accuracy: 0.8429 - val_loss: 0.7923 - val_accuracy: 0.8025\n",
            "Epoch 12/30\n",
            "1563/1563 [==============================] - 461s 295ms/step - loss: 0.6247 - accuracy: 0.8490 - val_loss: 0.7000 - val_accuracy: 0.8312\n",
            "Epoch 13/30\n",
            "1563/1563 [==============================] - 458s 293ms/step - loss: 0.6226 - accuracy: 0.8506 - val_loss: 0.7268 - val_accuracy: 0.8252\n",
            "Epoch 14/30\n",
            "1563/1563 [==============================] - 460s 294ms/step - loss: 0.6154 - accuracy: 0.8561 - val_loss: 0.7103 - val_accuracy: 0.8313\n",
            "Epoch 15/30\n",
            "1563/1563 [==============================] - 459s 294ms/step - loss: 0.6097 - accuracy: 0.8597 - val_loss: 0.7360 - val_accuracy: 0.8289\n",
            "Epoch 16/30\n",
            "1563/1563 [==============================] - 459s 293ms/step - loss: 0.6012 - accuracy: 0.8654 - val_loss: 0.7587 - val_accuracy: 0.8185\n",
            "Epoch 17/30\n",
            "1563/1563 [==============================] - 460s 294ms/step - loss: 0.5976 - accuracy: 0.8676 - val_loss: 0.7450 - val_accuracy: 0.8277\n",
            "Epoch 18/30\n",
            "1563/1563 [==============================] - 460s 294ms/step - loss: 0.5931 - accuracy: 0.8685 - val_loss: 0.6889 - val_accuracy: 0.8405\n",
            "Epoch 19/30\n",
            "1563/1563 [==============================] - 459s 294ms/step - loss: 0.5961 - accuracy: 0.8683 - val_loss: 0.7172 - val_accuracy: 0.8337\n",
            "Epoch 20/30\n",
            "1563/1563 [==============================] - 459s 294ms/step - loss: 0.5854 - accuracy: 0.8731 - val_loss: 0.6810 - val_accuracy: 0.8466\n",
            "Epoch 21/30\n",
            "1563/1563 [==============================] - 460s 295ms/step - loss: 0.5818 - accuracy: 0.8761 - val_loss: 0.7202 - val_accuracy: 0.8414\n",
            "Epoch 22/30\n",
            "1563/1563 [==============================] - 464s 297ms/step - loss: 0.5823 - accuracy: 0.8766 - val_loss: 0.7460 - val_accuracy: 0.8331\n",
            "Epoch 23/30\n",
            "1563/1563 [==============================] - 463s 296ms/step - loss: 0.5800 - accuracy: 0.8758 - val_loss: 0.6905 - val_accuracy: 0.8452\n",
            "Epoch 24/30\n",
            "1563/1563 [==============================] - 465s 298ms/step - loss: 0.5761 - accuracy: 0.8777 - val_loss: 0.7310 - val_accuracy: 0.8375\n",
            "Epoch 25/30\n",
            "1563/1563 [==============================] - 463s 296ms/step - loss: 0.5759 - accuracy: 0.8809 - val_loss: 0.7435 - val_accuracy: 0.8325\n",
            "Epoch 26/30\n",
            "1563/1563 [==============================] - 463s 296ms/step - loss: 0.5722 - accuracy: 0.8818 - val_loss: 0.7449 - val_accuracy: 0.8390\n",
            "Epoch 27/30\n",
            "1563/1563 [==============================] - 462s 296ms/step - loss: 0.5712 - accuracy: 0.8814 - val_loss: 0.6946 - val_accuracy: 0.8515\n",
            "Epoch 28/30\n",
            "1563/1563 [==============================] - 468s 299ms/step - loss: 0.5673 - accuracy: 0.8851 - val_loss: 0.7141 - val_accuracy: 0.8462\n",
            "Epoch 29/30\n",
            "1563/1563 [==============================] - 467s 299ms/step - loss: 0.5680 - accuracy: 0.8853 - val_loss: 0.7311 - val_accuracy: 0.8401\n",
            "Epoch 30/30\n",
            "1563/1563 [==============================] - 465s 297ms/step - loss: 0.5638 - accuracy: 0.8875 - val_loss: 0.6997 - val_accuracy: 0.8478\n"
          ],
          "name": "stdout"
        }
      ]
    },
    {
      "cell_type": "markdown",
      "metadata": {
        "id": "DAhkd4v4sFvm"
      },
      "source": [
        "### ✔훈련과정 시각화"
      ]
    },
    {
      "cell_type": "code",
      "metadata": {
        "colab": {
          "base_uri": "https://localhost:8080/",
          "height": 392
        },
        "id": "B4BK5e3csEU6",
        "outputId": "33effd94-59fa-456d-9938-cf82330e3dcd"
      },
      "source": [
        "# 그래프를 그리기 위한 matplotlib 라이브러리\r\n",
        "import matplotlib.pyplot as plt\r\n",
        "\r\n",
        "# Training Loss VS Validation Loss 비교를 위한 그래프 그리기 \r\n",
        "plt.plot(hist.history['loss'], 'y', label='train loss')\r\n",
        "plt.plot(hist.history['val_loss'], 'r', label='val loss')\r\n",
        "\r\n",
        "# y축 범위 설정\r\n",
        "plt.ylim([0.0, 2.0])\r\n",
        "\r\n",
        "# 각 축의 이름 정하기\r\n",
        "plt.xlabel('epoch')\r\n",
        "plt.ylabel('loss')\r\n",
        "\r\n",
        "# 각 그래프의 설명 위치 설정 후 표시\r\n",
        "plt.legend(loc='upper left')\r\n",
        "plt.show()"
      ],
      "execution_count": 122,
      "outputs": [
        {
          "output_type": "display_data",
          "data": {
            "image/png": "[encoded data removed]",
            "text/plain": [
              "<Figure size 576x432 with 1 Axes>"
            ]
          },
          "metadata": {
            "tags": [],
            "needs_background": "light"
          }
        }
      ]
    },
    {
      "cell_type": "markdown",
      "metadata": {
        "id": "JYuuDltusM5y"
      },
      "source": [
        "### Test set을 통한 모델 평가"
      ]
    },
    {
      "cell_type": "code",
      "metadata": {
        "colab": {
          "base_uri": "https://localhost:8080/"
        },
        "id": "OjmLoQ3isPyY",
        "outputId": "28ab2f29-b31b-4ee6-9917-c877c4694f48"
      },
      "source": [
        "#모델 평가\r\n",
        "loss_and_acc = model.evaluate(x_test, y_test, batch_size=32)\r\n",
        "print('Test set Loss and Accuracy')\r\n",
        "print(loss_and_acc)"
      ],
      "execution_count": 124,
      "outputs": [
        {
          "output_type": "stream",
          "text": [
            "313/313 [==============================] - 23s 74ms/step - loss: 0.6997 - accuracy: 0.8478\n",
            "Test set Loss and Accuracy\n",
            "[0.699667751789093, 0.8478000164031982]\n"
          ],
          "name": "stdout"
        }
      ]
    },
    {
      "cell_type": "markdown",
      "metadata": {
        "id": "zV9VyJhHsQ4a"
      },
      "source": [
        "### ✔예측 결과"
      ]
    },
    {
      "cell_type": "code",
      "metadata": {
        "colab": {
          "base_uri": "https://localhost:8080/",
          "height": 1000
        },
        "id": "cP_H1HNxsSis",
        "outputId": "005cd8b4-7e4d-4c9c-f1cb-f3678f9def00"
      },
      "source": [
        "#모델 사용하기\r\n",
        "# 이미지의 종류가 무엇인지에 대한 리스트\r\n",
        "labels = ['비행기', '자동차', '새', '고양이', '사슴', '개', '개구리', '말', '배', '트럭']\r\n",
        "\r\n",
        "# 출력 그림의 크기를 결정합니다.\r\n",
        "plt.rcParams[\"figure.figsize\"] = (2,2)\r\n",
        "\r\n",
        "# Test Set의 10개를 맞추어 봅시다.\r\n",
        "for i in range(10):\r\n",
        "  # 모델 사용 \r\n",
        "  output = model.predict(x_test[i].reshape(1,width, height, channel))\r\n",
        "  \r\n",
        "  # 이미지 출력 \r\n",
        "  plt.imshow(x_test[i].reshape(width, height, channel))\r\n",
        "\r\n",
        "  # np.argmax()가 labels의 인덱스가 되어 labels 배열에 있는 문자열을 출력합니다.\r\n",
        "  print('예측: ' + labels[np.argmax(output)] + ' / 정답: ' + labels[np.argmax(y_test[i])])\r\n",
        "  plt.show()"
      ],
      "execution_count": 126,
      "outputs": [
        {
          "output_type": "stream",
          "text": [
            "예측: 고양이 / 정답: 고양이\n"
          ],
          "name": "stdout"
        },
        {
          "output_type": "display_data",
          "data": {
            "image/png": "[encoded data removed]",
            "text/plain": [
              "<Figure size 144x144 with 1 Axes>"
            ]
          },
          "metadata": {
            "tags": [],
            "needs_background": "light"
          }
        },
        {
          "output_type": "stream",
          "text": [
            "예측: 배 / 정답: 배\n"
          ],
          "name": "stdout"
        },
        {
          "output_type": "display_data",
          "data": {
            "image/png": "[encoded data removed]",
            "text/plain": [
              "<Figure size 144x144 with 1 Axes>"
            ]
          },
          "metadata": {
            "tags": [],
            "needs_background": "light"
          }
        },
        {
          "output_type": "stream",
          "text": [
            "예측: 배 / 정답: 배\n"
          ],
          "name": "stdout"
        },
        {
          "output_type": "display_data",
          "data": {
            "image/png": "[encoded data removed]",
            "text/plain": [
              "<Figure size 144x144 with 1 Axes>"
            ]
          },
          "metadata": {
            "tags": [],
            "needs_background": "light"
          }
        },
        {
          "output_type": "stream",
          "text": [
            "예측: 배 / 정답: 비행기\n"
          ],
          "name": "stdout"
        },
        {
          "output_type": "display_data",
          "data": {
            "image/png": "[encoded data removed]",
            "text/plain": [
              "<Figure size 144x144 with 1 Axes>"
            ]
          },
          "metadata": {
            "tags": [],
            "needs_background": "light"
          }
        },
        {
          "output_type": "stream",
          "text": [
            "예측: 개구리 / 정답: 개구리\n"
          ],
          "name": "stdout"
        },
        {
          "output_type": "display_data",
          "data": {
            "image/png": "[encoded data removed]",
            "text/plain": [
              "<Figure size 144x144 with 1 Axes>"
            ]
          },
          "metadata": {
            "tags": [],
            "needs_background": "light"
          }
        },
        {
          "output_type": "stream",
          "text": [
            "예측: 개 / 정답: 개구리\n"
          ],
          "name": "stdout"
        },
        {
          "output_type": "display_data",
          "data": {
            "image/png": "[encoded data removed]",
            "text/plain": [
              "<Figure size 144x144 with 1 Axes>"
            ]
          },
          "metadata": {
            "tags": [],
            "needs_background": "light"
          }
        },
        {
          "output_type": "stream",
          "text": [
            "예측: 자동차 / 정답: 자동차\n"
          ],
          "name": "stdout"
        },
        {
          "output_type": "display_data",
          "data": {
            "image/png": "[encoded data removed]",
            "text/plain": [
              "<Figure size 144x144 with 1 Axes>"
            ]
          },
          "metadata": {
            "tags": [],
            "needs_background": "light"
          }
        },
        {
          "output_type": "stream",
          "text": [
            "예측: 개구리 / 정답: 개구리\n"
          ],
          "name": "stdout"
        },
        {
          "output_type": "display_data",
          "data": {
            "image/png": "[encoded data removed]",
            "text/plain": [
              "<Figure size 144x144 with 1 Axes>"
            ]
          },
          "metadata": {
            "tags": [],
            "needs_background": "light"
          }
        },
        {
          "output_type": "stream",
          "text": [
            "예측: 고양이 / 정답: 고양이\n"
          ],
          "name": "stdout"
        },
        {
          "output_type": "display_data",
          "data": {
            "image/png": "[encoded data removed]",
            "text/plain": [
              "<Figure size 144x144 with 1 Axes>"
            ]
          },
          "metadata": {
            "tags": [],
            "needs_background": "light"
          }
        },
        {
          "output_type": "stream",
          "text": [
            "예측: 자동차 / 정답: 자동차\n"
          ],
          "name": "stdout"
        },
        {
          "output_type": "display_data",
          "data": {
            "image/png": "[encoded data removed]",
            "text/plain": [
              "<Figure size 144x144 with 1 Axes>"
            ]
          },
          "metadata": {
            "tags": [],
            "needs_background": "light"
          }
        }
      ]
    }
  ]
}